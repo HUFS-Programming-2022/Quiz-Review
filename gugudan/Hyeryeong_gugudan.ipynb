{
  "nbformat": 4,
  "nbformat_minor": 0,
  "metadata": {
    "colab": {
      "name": "Hyeryeong_gugudan.ipynb",
      "provenance": [],
      "collapsed_sections": [],
      "toc_visible": true
    },
    "kernelspec": {
      "name": "python3",
      "display_name": "Python 3"
    },
    "language_info": {
      "name": "python"
    }
  },
  "cells": [
    {
      "cell_type": "markdown",
      "source": [
        "# MidTerm - 구구단\n",
        "## 조건\n",
        "- 자신이 이전에 제출한 코드와 다를 것\n",
        "- 모범 코드와 다를 것\n",
        "\n",
        "## 문제\n",
        "- 사용자에게 메뉴를 입력받고 그에 해당하는 결과물을 출력한다.\n",
        "\n",
        "- 프로그램은 사용자가 ‘q’을 입력했을 때에만 중지된다.\n",
        "\n",
        "- 메뉴:\n",
        "\n",
        "`구구단 출력기`\n",
        "----------------------------------------------------------------------\n",
        "           1) n단 출력    2) n단까지 출력   3) n ~ m단 출력   q) 나가기\n",
        "----------------------------------------------------------------------\n",
        "메뉴를 선택하세요 > \n",
        "\n",
        "- 각 메뉴에 맞는 출력물을 프린트합니다.\n",
        " - 조건1: 0 < n < 10\n",
        " - 조건2: n ≤ m\n",
        " - 조건3: 모든 상황에서 q을 눌러 종료할 수 있어야 한다.\n",
        " - 조건4: 종료 시 출력할 문구 “이용해주셔서 감사합니다.”\n",
        "\n",
        "- 예외 상황에 대처 잘하기\n",
        " - 조건에 맞지 않는 입력값이 들어왔을 때 재확인하기\n",
        " - 어떤 상황에서도 프로그램이 에러 없이, 오류 없이 작동하도록 신경쓰기\n",
        "- 함수로 코드 정리하기"
      ],
      "metadata": {
        "id": "nJGI9vZRJ1k5"
      }
    },
    {
      "cell_type": "markdown",
      "source": [
        "### 문제풀이 방법(고민)\n",
        "- 1. 메뉴에 따라 선택할 수 있게 해야 함(중지도 포함)\n",
        "  - 조건1: 0<n<10\n",
        "     - if문 사용, 0<n<10에서는 작동하지만 이 범위를 넘어서면 잘못된 범위임을 표시한 후 다시 범위를 선택할 수 있도록 설정하기\n",
        "     \n",
        "  - 조건2: n<=m\n",
        "     - 위와 같이 if문 사용\n",
        "  - 조건3: 중지 q\n",
        "     - 어떤 상황에서도 q 누르면 중지할 수 있게 하기\n",
        "     - 메뉴 선택 시에도, 구구단 단 입력 시에도 중지할 수 있도록 하기\n",
        "  - 조건4: 종료 시 출력할 문구 \"이용해주셔서 감사합니다\"\n",
        "    - 메뉴 선택, 구구단 단 입력 할 때 모두 if문으로 종료 선택 사항을 넣어야 할까? -> 중복을 피할 수 있는 방법 고민(변수 사용?)\n",
        "*메뉴 번호를 잘못 선택했을 때에도 다시 선택할 수 있도록 하기*\n",
        "\n",
        "- 2. 구구단 출력기(맨 처음 메뉴 선택) 출력 방법-> 고민해보기\n",
        "  - print문으로 출력?\n",
        "  - for문 사용\n",
        "\n",
        "- 하나의 프로그램\n",
        "  - 무한 루프\n",
        "  - 의도적으로 중지하기 전까지는 무한루프"
      ],
      "metadata": {
        "id": "BJXJ-SkxKcPf"
      }
    },
    {
      "cell_type": "code",
      "source": [
        "def gugudan():\n",
        "  while True:\n",
        "    print(\"구구단 출력기\\n\" + '-' * 75 + \"\\n\\t1) n단 출력\" + \"\\t2) n단까지 출력\" + \"\\t3) n~m단 출력\" + \"\\tq) 나가기\\n\" + '-' * 75)\n",
        "    select_menu = input(\"메뉴를 선택하세요> \")\n",
        "    print()\n",
        "     \n",
        "    if select_menu == '1':\n",
        "      choose_n = input(\"1번을 선택하셨습니다.\\n출력할 단을 선택해주세요(q 선택하면 중단): \")\n",
        "      if choose_n == 'q':\n",
        "        print(\"\\n프로그램을 종료합니다. 이용해주셔서 감사합니다.\")\n",
        "        break\n",
        "      elif 0 < int(choose_n) < 10:\n",
        "        print(f'== {choose_n}단 ==')\n",
        "        for i in range(1, 10):\n",
        "          print(f'{choose_n} X {i} = {int(choose_n) * i}')\n",
        "        print()\n",
        "      else:\n",
        "        print(f\"\\n잘못된 입력값입니다.\\n입력값: {select_menu}\\n\")\n",
        "        \n",
        "    elif select_menu == '2':\n",
        "      to_n = input(\"2번을 선택하셨습니다.\\n몇 단까지 출력할까요? \")\n",
        "      if to_n == 'q':\n",
        "        print(\"\\n프로그램을 종료합니다. 이용해주셔서 감사합니다.\")\n",
        "        break\n",
        "      elif 0 < int(to_n) < 10:\n",
        "        for i in range(1, int(to_n) + 1):\n",
        "          print(f'== {i}단 ==')\n",
        "          for j in range(1, 10):\n",
        "            print(f'{i} X {j} = {i * j}')\n",
        "        print()\n",
        "      else:\n",
        "       print(f\"\\n잘못된 입력값입니다.\\n입력값: {select_menu}\\n\")\n",
        "       continue\n",
        "       \n",
        "    elif select_menu =='3':\n",
        "      from_n = input(\"3번을 선택하셨습니다.\\n몇 단부터 출력할까요? \")\n",
        "      to_m = input(\"몇 단까지 출력할까요? \")\n",
        "      if from_n == 'q' or to_m == 'q':\n",
        "        print(\"\\n 프로그램을 종료합니다. 이용해주셔서 감사합니다.\")\n",
        "        break\n",
        "      elif 0 < int(from_n) < 10 and 0 < int(to_m) < 10 and int(from_n) <= int(to_m):\n",
        "        for i in range(int(from_n) , int(to_m) + 1):\n",
        "          print(f\"== {i}단 ==\")\n",
        "          for j in range(1, 10):\n",
        "            print(f'{i} X {j} = {i * j}')\n",
        "        print()\n",
        "      else:\n",
        "        print(f\"\\n잘못된 입력값입니다.\\n입력값: {select_menu}\\n\")\n",
        "        continue\n",
        "\n",
        "    elif select_menu == 'q':\n",
        "      print(\"\\n프로그램을 종료합니다. 이용해주셔서 감사합니다.\")\n",
        "      break\n",
        "\n",
        "    else:\n",
        "      print(f\"잘못된 입력값입니다. 다시 입력해주세요.\\n입력값: {select_menu}\\n\")\n",
        "\n",
        "gugudan()"
      ],
      "metadata": {
        "id": "4keFLfXDUIs3",
        "colab": {
          "base_uri": "https://localhost:8080/"
        },
        "outputId": "68382f93-7894-4230-f153-80607b61c5e9"
      },
      "execution_count": 12,
      "outputs": [
        {
          "output_type": "stream",
          "name": "stdout",
          "text": [
            "구구단 출력기\n",
            "---------------------------------------------------------------------------\n",
            "\t1) n단 출력\t2) n단까지 출력\t3) n~m단 출력\tq) 나가기\n",
            "---------------------------------------------------------------------------\n",
            "메뉴를 선택하세요> 1\n",
            "\n",
            "1번을 선택하셨습니다.\n",
            "출력할 단을 선택해주세요(q 선택하면 중단): q\n",
            "\n",
            "프로그램을 종료합니다. 이용해주셔서 감사합니다.\n"
          ]
        }
      ]
    }
  ]
}