{
 "cells": [
  {
   "cell_type": "markdown",
   "id": "14fbc05e-ab8e-4fa5-ad6b-eb39bde0347c",
   "metadata": {},
   "source": [
    "## **중간고사 Review**"
   ]
  },
  {
   "cell_type": "markdown",
   "id": "948a9d31-2a0e-4af1-803c-78a7f1162c11",
   "metadata": {},
   "source": [
    "### **조건**\n",
    "- 자신이 이전에 제출한 코드와 다를 것\n",
    "- 모범 코드와 다를 것"
   ]
  },
  {
   "cell_type": "markdown",
   "id": "a784df5b-4f19-4e73-9ff4-126a9ce0dd63",
   "metadata": {},
   "source": [
    "### **문제**"
   ]
  },
  {
   "cell_type": "markdown",
   "id": "b568b6b4-20d6-4045-87c1-e80a46252eb7",
   "metadata": {},
   "source": [
    "- 사용자에게 메뉴를 입력받고 그에 해당하는 결과물을 출력한다.\n",
    "\n",
    "- 프로그램은 사용자가 ‘q’을 입력했을 때에만 중지된다.\n",
    "\n",
    "- 메뉴:\n",
    "\n",
    "구구단 출력기\n",
    "----------------------------------------------------------------------\n",
    "           1) n단 출력    2) n단까지 출력   3) n ~ m단 출력   q) 나가기\n",
    "----------------------------------------------------------------------\n",
    "메뉴를 선택하세요 > \n",
    "\n",
    "- 각 메뉴에 맞는 출력물을 프린트합니다.\n",
    "\n",
    "    - 조건1: 0 < n < 10\n",
    "    - 조건2: n ≤ m\n",
    "    - 조건3: 모든 상황에서 q을 눌러 종료할 수 있어야 한다.\n",
    "    - 조건4: 종료 시 출력할 문구 “이용해주셔서 감사합니다.”\n",
    "\n",
    "- 예외 상황에 대처 잘하기\n",
    "\n",
    "    - 조건에 맞지 않는 입력값이 들어왔을 때 재확인하기\n",
    "    - 어떤 상황에서도 프로그램이 에러 없이, 오류 없이 작동하도록 신경쓰기\n",
    "\n",
    "- 함수로 코드 정리하기"
   ]
  },
  {
   "cell_type": "code",
   "execution_count": null,
   "id": "1e253d24-22f6-4c75-ba1f-c9edb51cb034",
   "metadata": {},
   "outputs": [
    {
     "name": "stdout",
     "output_type": "stream",
     "text": [
      "\n",
      "        구구단 출력기>>\n",
      "        ----------------------------------------------------------------------\n",
      "                   1) n단 출력    2) n단까지 출력   3) n ~ m단 출력   q) 나가기\n",
      "        ----------------------------------------------------------------------\n",
      "        \n"
     ]
    },
    {
     "name": "stdin",
     "output_type": "stream",
     "text": [
      "메뉴를 선택해주세요: 3\n",
      "몇 단부터 출력할까요? 2\n",
      "몇 단까지 출력할까요? 5\n"
     ]
    },
    {
     "name": "stdout",
     "output_type": "stream",
     "text": [
      "=== 2단 ===\n",
      "2 x 1 = 2\n",
      "2 x 2 = 4\n",
      "2 x 3 = 6\n",
      "2 x 4 = 8\n",
      "2 x 5 = 10\n",
      "2 x 6 = 12\n",
      "2 x 7 = 14\n",
      "2 x 8 = 16\n",
      "2 x 9 = 18\n",
      "=== 3단 ===\n",
      "3 x 1 = 3\n",
      "3 x 2 = 6\n",
      "3 x 3 = 9\n",
      "3 x 4 = 12\n",
      "3 x 5 = 15\n",
      "3 x 6 = 18\n",
      "3 x 7 = 21\n",
      "3 x 8 = 24\n",
      "3 x 9 = 27\n",
      "=== 4단 ===\n",
      "4 x 1 = 4\n",
      "4 x 2 = 8\n",
      "4 x 3 = 12\n",
      "4 x 4 = 16\n",
      "4 x 5 = 20\n",
      "4 x 6 = 24\n",
      "4 x 7 = 28\n",
      "4 x 8 = 32\n",
      "4 x 9 = 36\n",
      "=== 5단 ===\n",
      "5 x 1 = 5\n",
      "5 x 2 = 10\n",
      "5 x 3 = 15\n",
      "5 x 4 = 20\n",
      "5 x 5 = 25\n",
      "5 x 6 = 30\n",
      "5 x 7 = 35\n",
      "5 x 8 = 40\n",
      "5 x 9 = 45\n",
      "\n",
      "        구구단 출력기>>\n",
      "        ----------------------------------------------------------------------\n",
      "                   1) n단 출력    2) n단까지 출력   3) n ~ m단 출력   q) 나가기\n",
      "        ----------------------------------------------------------------------\n",
      "        \n"
     ]
    },
    {
     "name": "stdin",
     "output_type": "stream",
     "text": [
      "메뉴를 선택해주세요: 3\n",
      "몇 단부터 출력할까요? 5\n",
      "몇 단까지 출력할까요? 2\n"
     ]
    },
    {
     "name": "stdout",
     "output_type": "stream",
     "text": [
      "첫 단보다 끝 단이 더 크도록 입력해주세요.\n"
     ]
    },
    {
     "name": "stdin",
     "output_type": "stream",
     "text": [
      "몇 단부터 출력할까요? q\n"
     ]
    }
   ],
   "source": [
    "def gugudan_program(start_dan, end_dan):\n",
    "    for dan in range(int(start_dan), int(end_dan)+1):\n",
    "        print(f'=== {dan}단 ===')\n",
    "        for j in range(1, 10):\n",
    "            print(f'{dan} x {j} = {dan * j}')\n",
    "\n",
    "    \n",
    "def quit_program():\n",
    "    print(\"프로그램을 종료합니다.\")\n",
    "    print(\"이용해주셔서 감사합니다.\")\n",
    "       \n",
    "\n",
    "def select_Dan():\n",
    "    while True:\n",
    "        start_dan = input(\"몇 단을 출력할까요?\")\n",
    "        end_dan = start_dan \n",
    "            \n",
    "        if start_dan == 'q':\n",
    "            return quit_program()\n",
    "            \n",
    "        elif ((start_dan.isalpha()) or (not start_dan.isalnum())) or ((int(start_dan) < 1) or (int(start_dan) > 9)):\n",
    "            print(\"1 ~ 9 사이의 자연수를 입력해주세요.\")\n",
    "            continue\n",
    "            \n",
    "        else:\n",
    "            return gugudan_program(start_dan, end_dan)\n",
    "        \n",
    "\n",
    "def select_endDan():\n",
    "    while True:\n",
    "        start_dan = 1\n",
    "        end_dan = input(\"몇 단까지 출력할까요?\")\n",
    "            \n",
    "        if end_dan == 'q':\n",
    "            return quit_program()\n",
    "            \n",
    "        elif ((end_dan.isalpha()) or (not end_dan.isalnum())) or ((int(end_dan) < 1) or (int(end_dan) > 9)):\n",
    "            print(\"1 ~ 9 사이의 자연수를 입력해주세요.\")\n",
    "            continue\n",
    "            \n",
    "        else:\n",
    "            return gugudan_program(start_dan, end_dan)\n",
    "\n",
    "def select_start_and_endDan():\n",
    "    while True:\n",
    "        start_dan = input(\"몇 단부터 출력할까요?\")\n",
    "        end_dan = input(\"몇 단까지 출력할까요?\")\n",
    "    \n",
    "        if (start_dan == 'q') or (end_dan == 'q'):\n",
    "            return quit_program()\n",
    "        \n",
    "        elif int(start_dan) > int(end_dan):\n",
    "            print(\"첫 단보다 끝 단이 더 크도록 입력해주세요.\")\n",
    "            continue\n",
    "    \n",
    "        if ((start_dan.isalpha()) or (not start_dan.isalnum())) or ((int(start_dan) < 1) or (int(start_dan) > 9)):\n",
    "            print(\"1 ~ 9 사이의 자연수를 입력해주세요.\")\n",
    "            continue\n",
    "            \n",
    "        elif ((end_dan.isalpha()) or (not end_dan.isalnum())) or ((int(end_dan) < 1) or (int(end_dan) > 9)):\n",
    "            print(\"1 ~ 9 사이의 자연수를 입력해주세요.\")\n",
    "            continue  \n",
    "            \n",
    "        else :\n",
    "            return gugudan_program(start_dan, end_dan)\n",
    "\n",
    "    \n",
    "    \n",
    "def gugudan_menu():\n",
    "        print(\"\"\"\n",
    "        구구단 출력기>>\n",
    "        ----------------------------------------------------------------------\n",
    "                   1) n단 출력    2) n단까지 출력   3) n ~ m단 출력   q) 나가기\n",
    "        ----------------------------------------------------------------------\n",
    "        \"\"\")\n",
    "        \n",
    "        menu = input(\"메뉴를 선택해주세요:\")\n",
    "        if menu == '1':\n",
    "            select_Dan()\n",
    "            gugudan_menu()\n",
    "  \n",
    "        elif menu == '2':\n",
    "            select_endDan()\n",
    "            gugudan_menu()\n",
    "        \n",
    "        elif menu == '3':\n",
    "            select_start_and_endDan()\n",
    "            gugudan_menu()\n",
    "        \n",
    "        elif menu == 'q':\n",
    "            quit_program()\n",
    "            \n",
    "        else:\n",
    "            print(\"메뉴를 잘못 입력하셨습니다. 다시 입력하세요.\")\n",
    "            gugudan_menu()\n",
    "            \n",
    "gugudan_menu()\n",
    "            "
   ]
  },
  {
   "cell_type": "code",
   "execution_count": null,
   "id": "f678a2a9-2bb0-456e-bda8-452eab315e4c",
   "metadata": {},
   "outputs": [],
   "source": []
  }
 ],
 "metadata": {
  "kernelspec": {
   "display_name": "Python 3 (ipykernel)",
   "language": "python",
   "name": "python3"
  },
  "language_info": {
   "codemirror_mode": {
    "name": "ipython",
    "version": 3
   },
   "file_extension": ".py",
   "mimetype": "text/x-python",
   "name": "python",
   "nbconvert_exporter": "python",
   "pygments_lexer": "ipython3",
   "version": "3.9.7"
  }
 },
 "nbformat": 4,
 "nbformat_minor": 5
}
