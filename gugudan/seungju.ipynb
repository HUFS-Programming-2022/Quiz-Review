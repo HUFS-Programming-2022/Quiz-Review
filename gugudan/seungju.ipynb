{
 "cells": [
  {
   "cell_type": "markdown",
   "id": "14fbc05e-ab8e-4fa5-ad6b-eb39bde0347c",
   "metadata": {},
   "source": [
    "## **중간고사 Review_구구단**"
   ]
  },
  {
   "cell_type": "code",
   "execution_count": 39,
   "id": "1e253d24-22f6-4c75-ba1f-c9edb51cb034",
   "metadata": {},
   "outputs": [
    {
     "name": "stdout",
     "output_type": "stream",
     "text": [
      "\n",
      "        구구단 출력기>>\n",
      "        ----------------------------------------------------------------------\n",
      "                   1) n단 출력    2) n단까지 출력   3) n ~ m단 출력   q) 나가기\n",
      "        ----------------------------------------------------------------------\n",
      "        \n"
     ]
    },
    {
     "name": "stdin",
     "output_type": "stream",
     "text": [
      "메뉴를 선택해주세요: 3\n",
      "몇 단부터 출력할까요? 5\n",
      "몇 단까지 출력할까요? 2\n"
     ]
    },
    {
     "name": "stdout",
     "output_type": "stream",
     "text": [
      "첫 단보다 끝 단이 더 크도록 입력해주세요.\n"
     ]
    },
    {
     "name": "stdin",
     "output_type": "stream",
     "text": [
      "몇 단부터 출력할까요? 2\n",
      "몇 단까지 출력할까요? 3\n"
     ]
    },
    {
     "name": "stdout",
     "output_type": "stream",
     "text": [
      "=== 2단 ===\n",
      "2 x 1 = 2\n",
      "2 x 2 = 4\n",
      "2 x 3 = 6\n",
      "2 x 4 = 8\n",
      "2 x 5 = 10\n",
      "2 x 6 = 12\n",
      "2 x 7 = 14\n",
      "2 x 8 = 16\n",
      "2 x 9 = 18\n",
      "=== 3단 ===\n",
      "3 x 1 = 3\n",
      "3 x 2 = 6\n",
      "3 x 3 = 9\n",
      "3 x 4 = 12\n",
      "3 x 5 = 15\n",
      "3 x 6 = 18\n",
      "3 x 7 = 21\n",
      "3 x 8 = 24\n",
      "3 x 9 = 27\n",
      "\n",
      "        구구단 출력기>>\n",
      "        ----------------------------------------------------------------------\n",
      "                   1) n단 출력    2) n단까지 출력   3) n ~ m단 출력   q) 나가기\n",
      "        ----------------------------------------------------------------------\n",
      "        \n"
     ]
    },
    {
     "name": "stdin",
     "output_type": "stream",
     "text": [
      "메뉴를 선택해주세요: q\n"
     ]
    },
    {
     "name": "stdout",
     "output_type": "stream",
     "text": [
      "프로그램을 종료합니다.\n",
      "이용해주셔서 감사합니다.\n"
     ]
    }
   ],
   "source": [
    "def gugudan_program(start_dan, end_dan):\n",
    "    for dan in range(int(start_dan), int(end_dan)+1):\n",
    "        print(f'=== {dan}단 ===')\n",
    "        for j in range(1, 10):\n",
    "            print(f'{dan} x {j} = {dan * j}')\n",
    "\n",
    "    \n",
    "def quit_program():\n",
    "    print(\"프로그램을 종료합니다.\")\n",
    "    print(\"이용해주셔서 감사합니다.\")\n",
    "       \n",
    "\n",
    "def select_Dan():\n",
    "    while True:\n",
    "        start_dan = input(\"몇 단을 출력할까요?\")\n",
    "        end_dan = start_dan \n",
    "            \n",
    "        if start_dan == 'q':\n",
    "            return quit_program()\n",
    "            \n",
    "        elif ((start_dan.isalpha()) or (not start_dan.isalnum())) or ((int(start_dan) < 1) or (int(start_dan) > 9)):\n",
    "            print(\"1 ~ 9 사이의 자연수를 입력해주세요.\")\n",
    "            continue\n",
    "            \n",
    "        else:\n",
    "            return gugudan_program(start_dan, end_dan)\n",
    "        \n",
    "\n",
    "def select_endDan():\n",
    "    while True:\n",
    "        start_dan = 1\n",
    "        end_dan = input(\"몇 단까지 출력할까요?\")\n",
    "            \n",
    "        if end_dan == 'q':\n",
    "            return quit_program()\n",
    "            \n",
    "        elif ((end_dan.isalpha()) or (not end_dan.isalnum())) or ((int(end_dan) < 1) or (int(end_dan) > 9)):\n",
    "            print(\"1 ~ 9 사이의 자연수를 입력해주세요.\")\n",
    "            continue\n",
    "            \n",
    "        else:\n",
    "            return gugudan_program(start_dan, end_dan)\n",
    "\n",
    "def select_start_and_endDan():\n",
    "    while True:\n",
    "        start_dan = input(\"몇 단부터 출력할까요?\")\n",
    "        end_dan = input(\"몇 단까지 출력할까요?\")\n",
    "    \n",
    "        if (start_dan == 'q') or (end_dan == 'q'):\n",
    "            return quit_program()\n",
    "        \n",
    "        elif int(start_dan) > int(end_dan):\n",
    "            print(\"첫 단보다 끝 단이 더 크도록 입력해주세요.\")\n",
    "            continue\n",
    "    \n",
    "        if ((start_dan.isalpha()) or (not start_dan.isalnum())) or ((int(start_dan) < 1) or (int(start_dan) > 9)):\n",
    "            print(\"1 ~ 9 사이의 자연수를 입력해주세요.\")\n",
    "            continue\n",
    "            \n",
    "        elif ((end_dan.isalpha()) or (not end_dan.isalnum())) or ((int(end_dan) < 1) or (int(end_dan) > 9)):\n",
    "            print(\"1 ~ 9 사이의 자연수를 입력해주세요.\")\n",
    "            continue  \n",
    "            \n",
    "        else :\n",
    "            return gugudan_program(start_dan, end_dan)\n",
    "\n",
    "    \n",
    "    \n",
    "def gugudan_menu():\n",
    "        print(\"\"\"\n",
    "        구구단 출력기>>\n",
    "        ----------------------------------------------------------------------\n",
    "                   1) n단 출력    2) n단까지 출력   3) n ~ m단 출력   q) 나가기\n",
    "        ----------------------------------------------------------------------\n",
    "        \"\"\")\n",
    "        \n",
    "        menu = input(\"메뉴를 선택해주세요:\")\n",
    "        if menu == '1':\n",
    "            select_Dan()\n",
    "            gugudan_menu()\n",
    "  \n",
    "        elif menu == '2':\n",
    "            select_endDan()\n",
    "            gugudan_menu()\n",
    "        \n",
    "        elif menu == '3':\n",
    "            select_start_and_endDan()\n",
    "            gugudan_menu()\n",
    "        \n",
    "        elif menu == 'q':\n",
    "            quit_program()\n",
    "            \n",
    "        else:\n",
    "            print(\"메뉴를 잘못 입력하셨습니다. 다시 입력하세요.\")\n",
    "            gugudan_menu()\n",
    "            \n",
    "gugudan_menu()\n",
    "            "
   ]
  }
 ],
 "metadata": {
  "kernelspec": {
   "display_name": "Python 3 (ipykernel)",
   "language": "python",
   "name": "python3"
  },
  "language_info": {
   "codemirror_mode": {
    "name": "ipython",
    "version": 3
   },
   "file_extension": ".py",
   "mimetype": "text/x-python",
   "name": "python",
   "nbconvert_exporter": "python",
   "pygments_lexer": "ipython3",
   "version": "3.9.7"
  }
 },
 "nbformat": 4,
 "nbformat_minor": 5
}
