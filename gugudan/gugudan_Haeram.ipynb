{
 "cells": [
  {
   "cell_type": "markdown",
   "id": "17ee8980",
   "metadata": {},
   "source": [
    "### 구구단 출력기\n"
   ]
  },
  {
   "cell_type": "markdown",
   "id": "a4947ad2",
   "metadata": {},
   "source": [
    "----------------------------------------------------------------------\n",
    "\t\t   1) n단 출력    2) n단까지 출력   3) n ~ m단 출력   q) 나가기\n",
    "----------------------------------------------------------------------\n",
    "메뉴를 선택하세요 > \n"
   ]
  },
  {
   "cell_type": "code",
   "execution_count": null,
   "id": "3dcf5a91",
   "metadata": {},
   "outputs": [],
   "source": [
    "def dan_gugudan():\n",
    "    dan=input('단을 입력하세요: ')\n",
    "    if 0 < dan < 10:\n",
    "        print(f'======{dan}======')\n",
    "        for i in range(1,10):    \n",
    "            print(f'{dan}x{i}={int(dan)*i}')\n",
    "        return dan_gugudan()\n",
    "    \n",
    "    elif dan=='q':\n",
    "        print('이용해주셔서 감사합니다. 프로그램을 종료합니다.')\n",
    "        \n",
    "    else:\n",
    "        print('잘못된 입력값입니다. 다시 입력해주세요')\n",
    "        return dan_gugudan()\n",
    "    \n",
    "def max_gugudan():\n",
    "    dan=input('몇 단까지 출력하시겠습니까?')\n",
    "    if 0 < dan < 10:\n",
    "        for i in range(1,dan + 1):\n",
    "            print(f'====={i}======')\n",
    "            for j in range(1, 10):    \n",
    "                print(f'{i}x{j}={int(i)*j}')\n",
    "        return max_gugudan()\n",
    "    \n",
    "    elif dan=='q':\n",
    "        print('이용해주셔서 감사합니다. 프로그램을 종료합니다.')\n",
    "        \n",
    "    else:\n",
    "        print('다시 입력해주세요')\n",
    "        return max_gugudan()\n",
    "    \n",
    "def from_to_gugudan():\n",
    "    start_dan=input('몇 단부터 출력하시겠습니까?')\n",
    "    end_dan=input('몇 단까지 출력하시겠습니까?')\n",
    "    if 0< start_dan < 10 and 0 < end_dan < 10:\n",
    "        if start_dan > end_dan :\n",
    "            for i in range(int(end_dan), int(start_dan)+1):\n",
    "                print(f'====={i}======')\n",
    "                for j in range(1, 10):    \n",
    "                     print(f'{i}x{j}={int(i)*j}')\n",
    "        else:\n",
    "            for i in range(int(start_dan), int(end_dan)+1):\n",
    "                print(f'====={i}======')\n",
    "                for j in range(1, 10):    \n",
    "                    print(f'{i}x{j}={int(i)*j}')\n",
    "                else: \n",
    "            print('잘못된 입력값입니다. 다시 입력해주세요')\n",
    "        return from_to_gugudan()\n",
    "    \n",
    "    elif start_dan=='q' or end_dan =='q':\n",
    "        print('이용해주셔서 감사합니다. 프로그램을 종료합니다.')\n",
    "        \n",
    "    else:\n",
    "        print('잘못된 입력값입니다. 다시 입력해주세요')\n",
    "        return from_to_gugudan()\n",
    "\n",
    "    \n",
    "def gugudan():\n",
    "    a=input()\n",
    "    if a == '1':\n",
    "        return dan_gugudan()\n",
    "    elif a == '2':\n",
    "        return max_gugudan()\n",
    "    elif a == '3':\n",
    "        return from_to_gugudan()\n",
    "    elif a == 'q':\n",
    "        print('이용해주셔서 감사합니다')\n",
    "    else:\n",
    "        print('다시 선택해주세요')\n",
    "        return gugudan()\n",
    "    \n",
    "gugudan()"
   ]
  }
 ],
 "metadata": {
  "kernelspec": {
   "display_name": "Python 3",
   "language": "python",
   "name": "python3"
  },
  "language_info": {
   "codemirror_mode": {
    "name": "ipython",
    "version": 3
   },
   "file_extension": ".py",
   "mimetype": "text/x-python",
   "name": "python",
   "nbconvert_exporter": "python",
   "pygments_lexer": "ipython3",
   "version": "3.8.8"
  }
 },
 "nbformat": 4,
 "nbformat_minor": 5
}
