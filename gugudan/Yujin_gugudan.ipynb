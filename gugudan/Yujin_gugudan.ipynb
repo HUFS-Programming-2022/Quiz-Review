{
 "cells": [
  {
   "cell_type": "code",
   "execution_count": 2,
   "id": "f7bf0325-9125-412a-be24-89cd45fc40f9",
   "metadata": {},
   "outputs": [],
   "source": [
    "def check_range(n, m=None):\n",
    "    if m == None:\n",
    "        if not (1 <= int(n) <= 9):\n",
    "            return False\n",
    "    elif n == '1':\n",
    "        if not (1 <= int(m) <= 9):\n",
    "            return False\n",
    "    else:\n",
    "        if not(1 <= int(n) <= 9) or not(1 <= int(m) <= 9):\n",
    "            return False\n",
    "        elif int(n) > int(m):\n",
    "            return False\n",
    "    return True"
   ]
  },
  {
   "cell_type": "code",
   "execution_count": 3,
   "id": "dd4aa852-622a-427f-80a5-02244030c99a",
   "metadata": {},
   "outputs": [],
   "source": [
    "def print_gugudan(n, m=None):\n",
    "    if m == None:\n",
    "        for i in range(int(n), int(n) + 1):\n",
    "                print(f\"\\n== {i}단 ==\")\n",
    "                for j in range(1,10):\n",
    "                    print(f\"{i} X {j} = {i * j} \")\n",
    "    else:\n",
    "        for i in range(int(n), int(m) + 1):\n",
    "            print(f\"\\n== {i}단 ==\")\n",
    "            for j in range(1,10):\n",
    "                print(f\"{i} X {j} = {i * j} \")"
   ]
  },
  {
   "cell_type": "code",
   "execution_count": 4,
   "id": "588e04d9-783d-4e58-87ef-0c6de215ab0a",
   "metadata": {},
   "outputs": [],
   "source": [
    "def end_program():\n",
    "    print('\\n이용해주셔서 감사합니다.')"
   ]
  },
  {
   "cell_type": "code",
   "execution_count": 5,
   "id": "612912bd-bca1-4001-90cf-5d16a749da97",
   "metadata": {
    "tags": []
   },
   "outputs": [
    {
     "name": "stdout",
     "output_type": "stream",
     "text": [
      "\n",
      "        구구단 출력기\n",
      "        ----------------------------------------------------------------------\n",
      "            1) n단 출력    2) n단까지 출력   3) n ~ m단 출력   q) 나가기\n",
      "        ----------------------------------------------------------------------\n"
     ]
    },
    {
     "name": "stdin",
     "output_type": "stream",
     "text": [
      "메뉴를 선택하세요 >  q\n"
     ]
    },
    {
     "name": "stdout",
     "output_type": "stream",
     "text": [
      "\n",
      "이용해주셔서 감사합니다.\n"
     ]
    }
   ],
   "source": [
    "# 1. 구구단 출력기\n",
    "def gugudan():\n",
    "    menu = 'start'\n",
    "    while menu != 'q':\n",
    "        print('''\n",
    "        구구단 출력기\n",
    "        ----------------------------------------------------------------------\n",
    "            1) n단 출력    2) n단까지 출력   3) n ~ m단 출력   q) 나가기\n",
    "        ----------------------------------------------------------------------''') \n",
    "        menu = input('메뉴를 선택하세요 > ')\n",
    "        number = ('1', '2', '3', '4', '5', '6', '7', '8', '9', 'q')\n",
    "        reenter = '\\n*1부터 9사이의 숫자 또는 q만 다시 입력해주세요*\\n' \n",
    "\n",
    "        if menu == '1':\n",
    "            while True:\n",
    "                n = input('몇 단을 출력할까요?(종료 q 입력): ')\n",
    "                if n == 'q':\n",
    "                    return end_program()\n",
    "                elif n in number and check_range(n):\n",
    "                    print_gugudan(n)\n",
    "                    break\n",
    "                else:\n",
    "                    print(reenter)         \n",
    "                                         \n",
    "        elif menu == '2':\n",
    "            while True:\n",
    "                n = 1\n",
    "                m = input('1단부터 몇 단까지 출력할까요?(종료 q 입력): ')\n",
    "                if m == 'q':\n",
    "                    return end_program()\n",
    "                elif m in number and check_range(n, m):\n",
    "                    print_gugudan(n, m)\n",
    "                    break\n",
    "                else:\n",
    "                    print(reenter) \n",
    "                                     \n",
    "        elif menu == '3':\n",
    "            while True:\n",
    "                n = input('시작 단수를 입력하세요(종료 q 입력): ')\n",
    "                if n == 'q':\n",
    "                    return end_program()\n",
    "                elif not (n in number and check_range(n)):\n",
    "                    print(reenter)\n",
    "                    continue\n",
    "                m = input('끝 단수를 입력하세요(종료 q 입력): ')\n",
    "                if m == 'q':\n",
    "                    return end_program()\n",
    "                elif not (m in number and check_range(n, m)):\n",
    "                    print('\\n*1부터 9사이의 숫자로, 시작 단이 끝 단보다 작거나 같아야 합니다*\\n')\n",
    "                    continue  \n",
    "                else: \n",
    "                    print_gugudan(n, m)\n",
    "                    break \n",
    "                    \n",
    "        elif menu == 'q':\n",
    "            return end_program()\n",
    "        \n",
    "        else :\n",
    "            print('\\n*메뉴를 선택해 숫자 또는 q만 입력해주세요*\\n') \n",
    "\n",
    "gugudan()"
   ]
  }
 ],
 "metadata": {
  "kernelspec": {
   "display_name": "Python 3 (ipykernel)",
   "language": "python",
   "name": "python3"
  },
  "language_info": {
   "codemirror_mode": {
    "name": "ipython",
    "version": 3
   },
   "file_extension": ".py",
   "mimetype": "text/x-python",
   "name": "python",
   "nbconvert_exporter": "python",
   "pygments_lexer": "ipython3",
   "version": "3.9.7"
  }
 },
 "nbformat": 4,
 "nbformat_minor": 5
}
