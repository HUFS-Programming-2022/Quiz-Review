{
 "cells": [
  {
   "cell_type": "code",
   "execution_count": null,
   "id": "92dcfa23-4250-496f-b6b3-ab0b50886ba3",
   "metadata": {},
   "outputs": [],
   "source": [
    "### 구구단 출력기\n",
    "\n",
    "- 사용자에게 메뉴를 입력받고 그에 해당하는 결과물을 출력한다.\n",
    "- 프로그램은 사용자가 ‘q’을 입력했을 때에만 중지된다.\n",
    "\n",
    "1. 메뉴를 제시한다.\n",
    "    \n",
    "    \"\"\"\n",
    "    구구단 출력기\n",
    "    ----------------------------------------------------------------------\n",
    "    \t\t   1) n단 출력    2) n단까지 출력   3) n ~ m단 출력   q) 나가기\n",
    "    ----------------------------------------------------------------------\n",
    "    메뉴를 선택하세요 > \n",
    "    \"\"\"\n",
    "    \n",
    "2. 각 메뉴에 맞는 출력물을 프린트합니다.\n",
    "    - 조건1: 0 < n < 10\n",
    "    - 조건2: n ≤ m\n",
    "    - 조건3: 모든 상황에서 q을 눌러 종료할 수 있어야 한다.\n",
    "    - 조건4: 종료 시 출력할 문구 `“이용해주셔서 감사합니다.”\n",
    "    \n",
    "3. 예외 상황에 대처 잘하기\n",
    "    - 조건에 맞지 않는 입력값이 들어왔을 때 재확인하기\n",
    "    - 어떤 상황에서도 프로그램이 에러 없이, 오류 없이 작동하도록 신경쓰기"
   ]
  },
  {
   "cell_type": "code",
   "execution_count": null,
   "id": "9e54fad8-56d2-4873-be78-cef068148fcb",
   "metadata": {
    "tags": []
   },
   "outputs": [
    {
     "name": "stdin",
     "output_type": "stream",
     "text": [
      "\n",
      "                 구구단 출력기\n",
      "                 ------------------------------------------------------------- \n",
      "                 1) n단 출력    2) n단까지 출력   3) n ~ m단 출력   q) 나가기  \n",
      "                 -------------------------------------------------------------\n",
      "                 메뉴를 선택하세요 >\n",
      "                  1\n"
     ]
    },
    {
     "name": "stdout",
     "output_type": "stream",
     "text": [
      "\n"
     ]
    },
    {
     "name": "stdin",
     "output_type": "stream",
     "text": [
      "구하고 싶은 단을 입력해주세요 : 2\n"
     ]
    },
    {
     "name": "stdout",
     "output_type": "stream",
     "text": [
      "====2단====\n",
      "2 X 1 = 2\n",
      "2 X 2 = 4\n",
      "2 X 3 = 6\n",
      "2 X 4 = 8\n",
      "2 X 5 = 10\n",
      "2 X 6 = 12\n",
      "2 X 7 = 14\n",
      "2 X 8 = 16\n",
      "2 X 9 = 18\n",
      "\n"
     ]
    },
    {
     "name": "stdin",
     "output_type": "stream",
     "text": [
      "\n",
      "                 구구단 출력기\n",
      "                 ------------------------------------------------------------- \n",
      "                 1) n단 출력    2) n단까지 출력   3) n ~ m단 출력   q) 나가기  \n",
      "                 -------------------------------------------------------------\n",
      "                 메뉴를 선택하세요 >\n",
      "                  1\n"
     ]
    },
    {
     "name": "stdout",
     "output_type": "stream",
     "text": [
      "\n"
     ]
    },
    {
     "name": "stdin",
     "output_type": "stream",
     "text": [
      "구하고 싶은 단을 입력해주세요 : e\n"
     ]
    },
    {
     "name": "stdout",
     "output_type": "stream",
     "text": [
      "단은 숫자만 입력가능합니다.\n",
      "====2단====\n",
      "2 X 1 = 2\n",
      "2 X 2 = 4\n",
      "2 X 3 = 6\n",
      "2 X 4 = 8\n",
      "2 X 5 = 10\n",
      "2 X 6 = 12\n",
      "2 X 7 = 14\n",
      "2 X 8 = 16\n",
      "2 X 9 = 18\n",
      "\n"
     ]
    },
    {
     "name": "stdin",
     "output_type": "stream",
     "text": [
      "\n",
      "                 구구단 출력기\n",
      "                 ------------------------------------------------------------- \n",
      "                 1) n단 출력    2) n단까지 출력   3) n ~ m단 출력   q) 나가기  \n",
      "                 -------------------------------------------------------------\n",
      "                 메뉴를 선택하세요 >\n",
      "                  e\n"
     ]
    },
    {
     "name": "stdout",
     "output_type": "stream",
     "text": [
      "\n",
      "e는 없는 메뉴입니다. 다시 입력해주세요.\n",
      "\n"
     ]
    }
   ],
   "source": [
    "gugudan_program = True\n",
    "while gugudan_program:\n",
    "    #메뉴 입력받기\n",
    "    menu = input('''\n",
    "                 구구단 출력기\n",
    "                 ------------------------------------------------------------- \n",
    "                 1) n단 출력    2) n단까지 출력   3) n ~ m단 출력   q) 나가기  \n",
    "                 -------------------------------------------------------------\n",
    "                 메뉴를 선택하세요 >\n",
    "                 ''')\n",
    "    print()\n",
    "    \n",
    "    if menu == 'q': # q라면 멈추기\n",
    "        print('\"이용해주셔서 감사합니다.\"')\n",
    "        gugudan_program = False #종료\n",
    "        \n",
    "    elif menu not in ['1','2','3','q']: # 잘못된 메뉴 입력은 다시 메뉴 받기\n",
    "        print(f'{menu}는 없는 메뉴입니다. 다시 입력해주세요.')\n",
    "        print()\n",
    "        \n",
    "    else:\n",
    "        gugudan = True  \n",
    "        while gugudan:  # n(first_dan)입력받기\n",
    "            \n",
    "            try: #예외 처리\n",
    "                first_dan = int(input('구하고 싶은 단을 입력해주세요 :'))\n",
    "            except ValueError:\n",
    "                print('단은 숫자만 입력가능합니다.')\n",
    "                gugudan = False\n",
    "            \n",
    "            \n",
    "            if first_dan <= 0: # n이 0이하면 다시 입력받기\n",
    "                print('1 이상의 수를 입력해주세요.')\n",
    "                    \n",
    "            elif first_dan >=10: # n이 10이상면 다시 입력받기\n",
    "                print('9 이하의 수를 입력해주세요.')\n",
    "            \n",
    "            elif menu == '1': # 메뉴 1번일 때\n",
    "                print(f'===={first_dan}단====')\n",
    "                for i in range(1,10):\n",
    "                    print(f'{first_dan} X {i} = {i * first_dan}')\n",
    "                print()\n",
    "                gugudan = False\n",
    "                        \n",
    "            elif menu == '2': # 메뉴 2번일 때\n",
    "                for i in range(1,first_dan+1):\n",
    "                    print(f'===={i}단====')\n",
    "                    for j in range(1,10):\n",
    "                        print(f'{i} X {j} = {j*i}')\n",
    "                    print()\n",
    "                gugudan = False\n",
    "                \n",
    "            elif menu == '3': # 메뉴 3번일 때\n",
    "                \n",
    "                try: #예외 처리\n",
    "                    end_dan = int(input('끝 단을 입력해주세요 :'))\n",
    "                except ValueError:\n",
    "                    print('단은 숫자만 입력가능합니다.')\n",
    "\n",
    "                if first_dan > end_dan: # m < n 이라면, n,m모두 값 다시 받기\n",
    "                    print('끝 단은 첫번째 단보다 작을 수 없습니다.')\n",
    "                            \n",
    "                elif end_dan >= 10 : # m이 10이상이면, n,m 모두 값 다시 받기\n",
    "                    print('9 이하의 수를 입력해주세요.')\n",
    "                            \n",
    "                else:\n",
    "                    for i in range(first_dan,end_dan+1):\n",
    "                        print(f'==={i}단===')\n",
    "                        for j in range(1,10):\n",
    "                             print(f'{i} X {j} = {j * i}')\n",
    "                        print()\n",
    "                        gugudan = False"
   ]
  },
  {
   "cell_type": "code",
   "execution_count": null,
   "id": "21b0e473-1070-46c6-94d7-717780e37a7b",
   "metadata": {},
   "outputs": [],
   "source": []
  }
 ],
 "metadata": {
  "kernelspec": {
   "display_name": "Python 3 (ipykernel)",
   "language": "python",
   "name": "python3"
  },
  "language_info": {
   "codemirror_mode": {
    "name": "ipython",
    "version": 3
   },
   "file_extension": ".py",
   "mimetype": "text/x-python",
   "name": "python",
   "nbconvert_exporter": "python",
   "pygments_lexer": "ipython3",
   "version": "3.9.7"
  }
 },
 "nbformat": 4,
 "nbformat_minor": 5
}
