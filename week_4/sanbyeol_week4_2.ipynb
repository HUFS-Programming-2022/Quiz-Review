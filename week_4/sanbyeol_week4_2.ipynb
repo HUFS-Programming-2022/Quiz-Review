{
 "cells": [
  {
   "cell_type": "markdown",
   "id": "9013a343-8299-42b1-87e1-4cdd041ffe7e",
   "metadata": {},
   "source": [
    "# 2"
   ]
  },
  {
   "cell_type": "code",
   "execution_count": null,
   "id": "3322acfe-7fdf-400f-b755-a2f2655df3dc",
   "metadata": {},
   "outputs": [],
   "source": [
    "#2. \n",
    "- gutenberg에서...\n",
    "- 파일 중 모음(a, e, i, o, u)으로 시작하는 파일을 골라\n",
    "- 단어를 가져오되 숫자, 문장부호를 모두 제거하고\n",
    "- 모든 단어를 하나의 스트링으로 출력하시오."
   ]
  },
  {
   "cell_type": "code",
   "execution_count": 2,
   "id": "7f3efe4d-a403-42da-9de4-7c6701637fa3",
   "metadata": {
    "tags": []
   },
   "outputs": [
    {
     "name": "stderr",
     "output_type": "stream",
     "text": [
      "[nltk_data] Downloading package gutenberg to\n",
      "[nltk_data]     C:\\Users\\USER\\AppData\\Roaming\\nltk_data...\n",
      "[nltk_data]   Package gutenberg is already up-to-date!\n"
     ]
    },
    {
     "name": "stdin",
     "output_type": "stream",
     "text": [
      "모음으로 시작하는 파일 중 정제하고 싶은 파일을 고르시오.\n",
      "1) 'austen-emma.txt'\n",
      "2) 'austen-persuasion.txt'\n",
      "3) 'austen-sense.txt\n",
      "4) 'edgeworth-parents.txt'\n",
      " 2\n"
     ]
    },
    {
     "data": {
      "text/plain": [
       "'PersuasionbyJaneAustenChapterSirWalterElliotofKellynchHallinSomersetshirewasamanwhoforhisownamusemen'"
      ]
     },
     "execution_count": 2,
     "metadata": {},
     "output_type": "execute_result"
    }
   ],
   "source": [
    "# 1\n",
    "import nltk\n",
    "from nltk.corpus import gutenberg\n",
    "nltk.download(['gutenberg'])\n",
    "\n",
    "# 2. 모음으로 시작하는 파일 고르기\n",
    "file_vowel = [text for text in gutenberg.fileids() if text[0] in ['a','e','i','o','u'] ]\n",
    "\n",
    "# 문장부호 리스트 불러오기\n",
    "import string\n",
    "punctuation = list(string.punctuation)\n",
    "\n",
    "def remove_punct_num(file_name):\n",
    "    file_word = gutenberg.words(fileids=[file_name]) # 파일 하나 가져오기 완료\n",
    "    # 1. 숫자 제거하기\n",
    "    # 문장부호 제거하기 \n",
    "    # 문장부호 리스트에 포함되지 않은 것 정제하기\n",
    "    # 숫자 제거하기\n",
    "    \n",
    "    # 1차 정제\n",
    "    text = [word for word in file_word if word.isalpha()] #문자열로만 구성된 단어들로 구성\n",
    "    \n",
    "    # 2차 정제\n",
    "    # 문자부호 , 숫자가 포함되어 있는지 확인\n",
    "    user_punct = [word for word in file_word if not word.isalpha() and word not in punctuation] # 문장부호가 섞에 단어\n",
    "    num_word = [word for word in user_punct if word.isalnum()] \n",
    "    # 숫자와 문자가 함께 있는 것 ex)28th 것들을 숫자만 제거하고 th를 살릴까 고민했지만,\n",
    "    # 순번을 나타내는 의미이기에 숫자가 없으면, 의미없는 단어라고 판단해, 문자열이 있지만 삭제.\n",
    "    # 확인결과 의미있는 단어들은 ex) _you_형태로, 앞뒤 문장부호만 삭제하면 됨.\n",
    "    \n",
    "    # 문장부호 및 숫자 삭제하기\n",
    "    non_num_punct = [word[1:-1] for word in user_punct if word not in num_word and word[1:-1].isalpha()]\n",
    "\n",
    "    # 1차 정제한 단어리스트에 2차 정제한 단어리스트 추가\n",
    "    result = text + non_num_punct\n",
    "    \n",
    "    # 한 스트링으로 출력\n",
    "    text_result = ''.join(result)\n",
    "    \n",
    "    return text_result\n",
    "\n",
    "def pick_file():\n",
    "    \"\"\"\n",
    "    모음으로 시작하는 파일 중 하나를 고르는 함수 \n",
    "    \"\"\"\n",
    "    file_num = input(\"모음으로 시작하는 파일 중 정제하고 싶은 파일을 고르시오.\\n1) 'austen-emma.txt'\\n2) 'austen-persuasion.txt'\\n3) 'austen-sense.txt\\n4) 'edgeworth-parents.txt'\\n\")\n",
    "    if file_num == '1':\n",
    "        file_name = 'austen-emma.txt'\n",
    "        return file_name\n",
    "    \n",
    "    elif file_num == '2':\n",
    "        file_name = 'austen-persuasion.txt'\n",
    "        return file_name\n",
    "    \n",
    "    elif file_num == '3':\n",
    "        file_name = 'austen-persuasion.txt'\n",
    "        return file_name\n",
    "    \n",
    "    elif file_num == '4':\n",
    "        file_name = 'edgeworth-parents.txt'\n",
    "        return file_name\n",
    "    \n",
    "    else:\n",
    "        return '존재하지 않는 파일 명입니다.'\n",
    "    \n",
    "\n",
    "    \n",
    "remove_punct_num(pick_file())[:100]"
   ]
  },
  {
   "cell_type": "code",
   "execution_count": null,
   "id": "8d633c54-07be-4051-90b5-c370ceee5fe9",
   "metadata": {
    "tags": []
   },
   "outputs": [],
   "source": []
  },
  {
   "cell_type": "code",
   "execution_count": null,
   "id": "6c79c903-8deb-4d39-995b-f64f13bae9bf",
   "metadata": {},
   "outputs": [],
   "source": []
  }
 ],
 "metadata": {
  "kernelspec": {
   "display_name": "Python 3 (ipykernel)",
   "language": "python",
   "name": "python3"
  },
  "language_info": {
   "codemirror_mode": {
    "name": "ipython",
    "version": 3
   },
   "file_extension": ".py",
   "mimetype": "text/x-python",
   "name": "python",
   "nbconvert_exporter": "python",
   "pygments_lexer": "ipython3",
   "version": "3.9.7"
  }
 },
 "nbformat": 4,
 "nbformat_minor": 5
}
