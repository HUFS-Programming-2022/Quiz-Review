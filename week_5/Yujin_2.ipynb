{
 "cells": [
  {
   "cell_type": "markdown",
   "id": "2f5060f9-2097-4185-913e-b3d9e36654f6",
   "metadata": {},
   "source": [
    "## 1. X = [3, 1, -2, 6, 7]인 리스트에 대해 prefix sum S는 다음과 같이 정의된다. S[i] = X[0] + X[1]+ … +X[i] 즉, S = [3, 4, 2, 8, 15] 가 된다. 이중 for 루프를 사용하여 prefixSum 함수를 구현하고 함수의 수행시간을 구하시오.\n",
    "\n",
    "- [힌트] 실행시간을 측정하기 위해서는 아래와 같은 함수를 사용한다."
   ]
  },
  {
   "cell_type": "code",
   "execution_count": 13,
   "id": "a30b3b6e-4e1d-4d65-976c-5e8d38681a81",
   "metadata": {},
   "outputs": [
    {
     "data": {
      "text/plain": [
       "1.953125"
      ]
     },
     "execution_count": 13,
     "metadata": {},
     "output_type": "execute_result"
    }
   ],
   "source": [
    "import time\n",
    "time.process_time() # time.process_time()함수는 현재 clock 시간을 알려준다."
   ]
  },
  {
   "cell_type": "code",
   "execution_count": 20,
   "id": "1ccc1dc5-7f0a-4914-ab0c-21786a98a7f1",
   "metadata": {},
   "outputs": [],
   "source": [
    "def prefix_sum(X):\n",
    "    '''\n",
    "    X: list\n",
    "    prefixSum을 구하는 함수\n",
    "    '''\n",
    "    # 더한 값을 넣기 위해 빈 리스트를 생성한다\n",
    "    S = []\n",
    "    # 이중 for문을 이용해 값을 구한다\n",
    "    for i in range(len(X)):\n",
    "        num = 0\n",
    "        # 해당 숫자의 앞 숫자를 모두 더하는 것을 생각해 범위를 설정한다\n",
    "        # 나온 값을 빈 리스트에 추가한다\n",
    "        for j in range(i + 1):\n",
    "            num += X[j]\n",
    "        S.append(num)\n",
    "    return S"
   ]
  },
  {
   "cell_type": "code",
   "execution_count": 21,
   "id": "d5377d54-ba40-4553-9e6e-0150b75d909d",
   "metadata": {},
   "outputs": [],
   "source": [
    "X = [3, 1, -2, 6, 7]"
   ]
  },
  {
   "cell_type": "code",
   "execution_count": 22,
   "id": "8e3ff1ac-3443-4960-8588-6b7a2c780cc7",
   "metadata": {
    "tags": []
   },
   "outputs": [
    {
     "name": "stdout",
     "output_type": "stream",
     "text": [
      "0.0\n"
     ]
    }
   ],
   "source": [
    "before = time.process_time()\n",
    "prefix_sum(X)\n",
    "after = time.process_time()\n",
    "\n",
    "print(after - before)\n",
    "# 왜 0초가 나오는지는 모르겠다.."
   ]
  },
  {
   "cell_type": "markdown",
   "id": "791b370a-6bc7-40f5-a707-304ec52690a0",
   "metadata": {},
   "source": [
    "---"
   ]
  },
  {
   "cell_type": "markdown",
   "id": "33e6f6bc-1d2a-4ba1-803f-18c37d22d993",
   "metadata": {},
   "source": [
    "## 2. 통계학에서 N개의 수를 대표하는 기본 통계값에는 다음과 같은 것들이 있다. 단, N은 홀수라고 가정하자.\n",
    "\n",
    "- 산술평균 : N개의 수들의 합을 N으로 나눈 값 \n",
    "- 중앙값 : N개의 수들을 증가하는 순서로 나열했을 경우 그 중앙에 위치하는 값 \n",
    "- 최빈값 : N개의 수들 중 가장 많이 나타나는 값 범위 : N개의 수들 중 최댓값과 최솟값의 차이\n",
    "\n",
    "- N개의 수가 주어졌을 때, 네 가지 기본 통계값을 구하는 프로그램을 작성하시오.\n",
    "\n",
    "- 입력: 첫째 줄에 수의 개수 N(1 ≤ N ≤ 500,000)이 주어진다. 단, N은 홀수이다. 그 다음 N개의 줄에는 정수들이 주어진다. 입력되는 정수의 절댓값은 4,000을 넘지 않는다.\n",
    "\n",
    "- 출력:\n",
    "    - 첫째 줄에는 산술평균을 출력한다. 소수점 이하 첫째 자리에서 반올림한 값을 출력한다.\n",
    "    - 둘째 줄에는 중앙값을 출력한다.\n",
    "    - 셋째 줄에는 최빈값을 출력한다. 여러 개 있을 때에는 최빈값 중 가장 작은 값을 출력한다.\n",
    "    - 넷째 줄에는 범위를 출력한다. (힌트: 범위 = 최대값-최소값)"
   ]
  },
  {
   "cell_type": "code",
   "execution_count": null,
   "id": "c58e5b87-7456-48dd-b9e8-f05a40541be2",
   "metadata": {},
   "outputs": [],
   "source": [
    "def divide(lst):\n",
    "    sum = 0\n",
    "    for n in lst:\n",
    "        sum += n\n",
    "\n",
    "    return sum / len(lst)\n",
    "\n",
    "def nums_mid(lst):\n",
    "    lst.sort()\n",
    "\n",
    "    return lst[len(lst)//2]def nums_mode(lst):\n",
    "    nums_set = set(lst)\n",
    "    max = 0\n",
    "    mode_num = 0\n",
    "    for num in nums_set:\n",
    "        if lst.count(num) > max:\n",
    "            max = lst.count(num)\n",
    "            mode_num = num\n",
    "\n",
    "    return mode_num\n",
    "\n",
    "def nums_range(lst):\n",
    "    max_num = max(lst)\n",
    "    min_num = min(lst)\n",
    "\n",
    "    return max_num - min_num\n",
    "\n",
    "n = int(input())\n",
    "nums = [\n",
    "    int(input())\n",
    "    for _ in range(n)\n",
    "]\n",
    "\n",
    "print(f'산술평균: {round(nums_mean(nums))}')\n",
    "print(f'중앙값: {nums_mid(nums)}')\n",
    "print(f'최빈값: {nums_mode(nums)}')\n",
    "print(f'범위: {nums_range(nums)}')"
   ]
  },
  {
   "cell_type": "code",
   "execution_count": null,
   "id": "7f4f3c8b-0e1b-48b8-89b4-acfb5d47f059",
   "metadata": {},
   "outputs": [],
   "source": []
  }
 ],
 "metadata": {
  "kernelspec": {
   "display_name": "Python 3 (ipykernel)",
   "language": "python",
   "name": "python3"
  },
  "language_info": {
   "codemirror_mode": {
    "name": "ipython",
    "version": 3
   },
   "file_extension": ".py",
   "mimetype": "text/x-python",
   "name": "python",
   "nbconvert_exporter": "python",
   "pygments_lexer": "ipython3",
   "version": "3.9.7"
  }
 },
 "nbformat": 4,
 "nbformat_minor": 5
}
