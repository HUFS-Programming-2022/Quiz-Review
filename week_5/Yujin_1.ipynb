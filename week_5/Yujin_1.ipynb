{
 "cells": [
  {
   "cell_type": "markdown",
   "id": "7356629c-d528-40d9-a862-dc153ffbc8af",
   "metadata": {},
   "source": [
    "# 1. 통계학에서 N개의 수를 대표하는 기본 통계값에는 다음과 같은 것들이 있다. 단, N은 홀수라고 가정하자.\n",
    "- 산술평균 : N개의 수들의 합을 N으로 나눈 값 \n",
    "- 중앙값 : N개의 수들을 증가하는 순서로 나열했을 경우 그 중앙에 위치하는 값 \n",
    "- 최빈값 : N개의 수들 중 가장 많이 나타나는 값 \n",
    "- 범위 : N개의 수들 중 최댓값과 최솟값의 차이\n",
    "- N개의 수가 주어졌을 때, 네 가지 기본 통계값을 구하는 프로그램을 작성하시오.\n",
    "- **입력**: 첫째 줄에 수의 개수 N(1 ≤ N ≤ 500,000)이 주어진다. 단, N은 홀수이다. 그 다음 N개의 줄에는 정수들이 주어진다. 입력되는 정수의 절댓값은 4,000을 넘지 않는다.\n",
    "- **출력**:\n",
    "    - 첫째 줄에는 산술평균을 출력한다. 소수점 이하 첫째 자리에서 반올림한 값을 출력한다.\n",
    "    - 둘째 줄에는 중앙값을 출력한다.\n",
    "    - 셋째 줄에는 최빈값을 출력한다. 여러 개 있을 때에는 최빈값 중 가장 작은 값을 출력한다.\n",
    "    - 넷째 줄에는 범위를 출력한다. (힌트: 범위 = 최대값-최소값)"
   ]
  },
  {
   "cell_type": "code",
   "execution_count": 51,
   "id": "9ecc9f88-43eb-4393-97cd-bf19647de798",
   "metadata": {},
   "outputs": [
    {
     "name": "stdin",
     "output_type": "stream",
     "text": [
      "몇 개의 수를 입력하시겠습니까? (홀수만 입력 가능) 4\n"
     ]
    },
    {
     "name": "stdout",
     "output_type": "stream",
     "text": [
      "\n",
      "*홀수만 입력해주세요*\n",
      "\n"
     ]
    },
    {
     "name": "stdin",
     "output_type": "stream",
     "text": [
      "몇 개의 수를 입력하시겠습니까? (홀수만 입력 가능) -1\n"
     ]
    },
    {
     "name": "stdout",
     "output_type": "stream",
     "text": [
      "\n",
      "*1부터 500,000사이의 숫자만 입력해주세요*\n",
      "\n"
     ]
    },
    {
     "name": "stdin",
     "output_type": "stream",
     "text": [
      "몇 개의 수를 입력하시겠습니까? (홀수만 입력 가능) 3\n",
      "\n",
      "1번째 정수를 입력하세요(4,000이하의 정수) -98\n",
      "\n",
      "2번째 정수를 입력하세요(4,000이하의 정수) 4001\n"
     ]
    },
    {
     "name": "stdout",
     "output_type": "stream",
     "text": [
      "\n",
      "*4,000이하의 정수를 입력하세요*\n"
     ]
    },
    {
     "name": "stdin",
     "output_type": "stream",
     "text": [
      "\n",
      "2번째 정수를 입력하세요(4,000이하의 정수) 56\n",
      "\n",
      "3번째 정수를 입력하세요(4,000이하의 정수) 1\n"
     ]
    },
    {
     "name": "stdout",
     "output_type": "stream",
     "text": [
      "\n",
      "산술평균: -14\n",
      "중앙값: 2\n",
      "최빈값: -98\n",
      "범위: 154\n"
     ]
    }
   ],
   "source": [
    "# for문을 이용해 리스트의 요소들을 모두 더해준다\n",
    "# 모두 더한 값을 요소의 개수로 나누어 산술평균을 구한다\n",
    "def calc_average(lst):\n",
    "    '''\n",
    "    lst: list, 숫자 리스트\n",
    "    모든 숫자를 더해서 숫자 개수만큼 나눠, 산술평균을 구하는 함수\n",
    "    '''\n",
    "    sum = 0\n",
    "    for num in lst:\n",
    "        sum += num\n",
    "    return sum / len(lst)\n",
    "\n",
    "# 중앙값을 구해야하므로 sorted()로 정렬해준다\n",
    "# 리스트의 길이를 2로 나눈 몫의 인덱스를 반환한다\n",
    "def get_midnum(lst):\n",
    "    '''\n",
    "    lst: list, 숫자 리스트\n",
    "    리스트의 중앙값을 구하는 함수\n",
    "    '''\n",
    "    sorted(lst)\n",
    "    return list[len(lst)//2]\n",
    "\n",
    "# freqdist를 이용하여 최빈값을 구한다\n",
    "# 값이 여러 개일 경우를 생각해 정렬한 리스트를 사용한다\n",
    "# most_common()을 이용해 가장 많이 나온 값을 구해 인덱스를 찾아 반환한다\n",
    "def get_mode(lst):\n",
    "    '''\n",
    "    lst: list, 숫자 리스트\n",
    "    '''\n",
    "    fdist = FreqDist(sorted(lst))\n",
    "    mode = fdist.most_common(1)\n",
    "    return mode[0][0]\n",
    "    \n",
    "\n",
    "# max()를 이용해 최댓값을 구한다\n",
    "# min()을 이용해 최솟값을 구한다\n",
    "# 최댓값에서 최솟값을 빼, 범위를 반환한다\n",
    "def get_range(lst):\n",
    "    '''\n",
    "    lst: list, 숫자 리스트\n",
    "    리스트에서의 최댓값과 최솟값을 구해 범위를 구하는 함수\n",
    "    '''\n",
    "    max_num = max(lst)\n",
    "    min_num = min(lst)\n",
    "    return max_num - min_num\n",
    "\n",
    "# while문을 이용하여 입력받는다\n",
    "# 1 <= n <= 50,000의 조건을 만족하지 않으면 다시 입력받는다\n",
    "# 짝수를 입력받으면 다시 입력받는다\n",
    "# 홀수를 입력받으면 while문을 끝낸다\n",
    "while True:\n",
    "    n = int(input('몇 개의 수를 입력하시겠습니까? (홀수만 입력 가능)'))\n",
    "    if not 1 <= n <= 500000:\n",
    "            print('\\n*1부터 500,000사이의 숫자만 입력해주세요*\\n')\n",
    "            continue\n",
    "    elif n % 2 == 0:\n",
    "        print('\\n*홀수만 입력해주세요*\\n')\n",
    "        continue\n",
    "    elif n % 2 == 1:\n",
    "        break\n",
    "\n",
    "# 입력받을 수를 담기 위해 빈 리스트를 생성한다\n",
    "# for문을 이용하여 입력받은 수만큼 반복한다\n",
    "# while문을 이용해 수를 입력받는다\n",
    "# 4,000이 넘는 수를 입력하면 다시 입력받는다\n",
    "# 조건에 맞게 입력했다면 빈 리스트에 추가한다\n",
    "nums = []\n",
    "for i in range(n):\n",
    "    while True:\n",
    "        num = int(input(f'\\n{i + 1}번째 정수를 입력하세요(4,000이하의 정수)'))\n",
    "        if not num <= 4000:\n",
    "            print('\\n*4,000이하의 정수를 입력하세요*')\n",
    "            continue\n",
    "        else:\n",
    "            nums.append(num)\n",
    "            break\n",
    "\n",
    "# round()를 이용하여 반올림한 값을 출력한다\n",
    "print(f'\\n산술평균: {round(calc_average(nums))}\\n중앙값: {get_midnum(nums)}\\n최빈값: {get_mode(nums)}\\n범위: {get_range(nums)}')"
   ]
  }
 ],
 "metadata": {
  "kernelspec": {
   "display_name": "Python 3 (ipykernel)",
   "language": "python",
   "name": "python3"
  },
  "language_info": {
   "codemirror_mode": {
    "name": "ipython",
    "version": 3
   },
   "file_extension": ".py",
   "mimetype": "text/x-python",
   "name": "python",
   "nbconvert_exporter": "python",
   "pygments_lexer": "ipython3",
   "version": "3.9.7"
  }
 },
 "nbformat": 4,
 "nbformat_minor": 5
}
