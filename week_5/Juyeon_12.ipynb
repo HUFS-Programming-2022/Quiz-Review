{
 "cells": [
  {
   "cell_type": "markdown",
   "id": "3552b6e2-92b1-4f43-8ad1-a333557a7a2b",
   "metadata": {
    "tags": []
   },
   "source": [
    "### WEEK 5"
   ]
  },
  {
   "cell_type": "code",
   "execution_count": null,
   "id": "bf065951-46f4-4fa3-b5d1-693b2ee84ce0",
   "metadata": {},
   "outputs": [],
   "source": [
    "\"\"\"\n",
    "1. 통계학에서 N개의 수를 대표하는 기본 통계값에는 다음과 같은 것들이 있다. 단, N은 홀수라고 가정하자.\n",
    "\n",
    "산술평균 : N개의 수들의 합을 N으로 나눈 값 \n",
    "중앙값 : N개의 수들을 증가하는 순서로 나열했을 경우 그 중앙에 위치하는 값 \n",
    "최빈값 : N개의 수들 중 가장 많이 나타나는 값 \n",
    "범위 : N개의 수들 중 최댓값과 최솟값의 차이\n",
    "\n",
    "N개의 수가 주어졌을 때, 네 가지 기본 통계값을 구하는 프로그램을 작성하시오.\n",
    "\n",
    "    -입력: 첫째 줄에 수의 개수 N(1 ≤ N ≤ 500,000)이 주어진다. 단, N은 홀수이다. 그 다음 N개의 줄에는 정수들이 주어진다. 입력되는 정수의 절댓값은 4,000을 넘지 않는다.\n",
    "\n",
    "    -출력:\n",
    "\n",
    "      첫째 줄에는 산술평균을 출력한다. 소수점 이하 첫째 자리에서 반올림한 값을 출력한다.\n",
    "      둘째 줄에는 중앙값을 출력한다.\n",
    "      셋째 줄에는 최빈값을 출력한다. 여러 개 있을 때에는 최빈값 중 가장 작은 값을 출력한다.\n",
    "      넷째 줄에는 범위를 출력한다. (힌트: 범위 = 최대값-최소값)\n",
    "      \n",
    "    -[ 입출력 예시 ] 입력) 5 출력) 2 1 2 3 1 8 10 -2 2\n",
    "\"\"\""
   ]
  },
  {
   "cell_type": "code",
   "execution_count": 131,
   "id": "e513951b-ba09-4055-9b01-65ac2bb8c5d5",
   "metadata": {},
   "outputs": [],
   "source": [
    "# 1. 기본 함수 만들기\n",
    "# 산술평균 함수\n",
    "def calc_arithmetic_mean(*args):\n",
    "    arithmetic_mean = sum(args)/N\n",
    "    \"\"\"\n",
    "    <소수점 계산> -> 정해지지 않은 수의 소수점 계산 방법을 고민해 보았으나 해답이 떠오르지 않아 미완 상태로 올립니다...!\n",
    "    if arithmetic_mean.e-1 >= 5:\n",
    "        arithmetic_mean = int(arithmetic_mean)+1\n",
    "    else:\n",
    "        arithmetic_mean = int(arithmetic_mean)\n",
    "    \"\"\"\n",
    "    return arithmetic_mean\n",
    "\n",
    "# 중앙값 함수\n",
    "def calc_median_value(*args):\n",
    "    list = []\n",
    "    sorted(args)\n",
    "    median_value = list[len(args)//2]\n",
    "    return median_value\n",
    "\n",
    "# 최빈값 함수\n",
    "def calc_mode(*args):\n",
    "    from nltk import FreqDist\n",
    "    fdist = FreqDist(sorted(args))\n",
    "    mode = fdist.most_common(1)\n",
    "    return mode\n",
    "\n",
    "# 범위 함수\n",
    "def calc_range(*args):\n",
    "    num_range = max(args)-min(args)\n",
    "    return num_range\n",
    "\n",
    "# 2. 프로그램 만들기\n",
    "# 산술평균 출력 함수\n",
    "def calc_statistics():\n",
    "    N = int(input(\"입력) \"))\n",
    "    \n",
    "    if 1<=N<=500000:\n",
    "        # 랜덤으로 숫자 출력 받기 -> 앞서 배운 randint 활용\n",
    "        list = []\n",
    "        for i in range(1, N+1):\n",
    "            import random\n",
    "            num =  random.randint(-3999, 4000)\n",
    "            list.append(num)\n",
    "            if len(list) == N:\n",
    "                break\n",
    "    else:\n",
    "        print(\"잘못된 입력입니다!\")\n",
    "    \n",
    "    return print(f\"출력) {list} {calc_arithmetic_mean(list)} {calc_median_value(list)} {calc_mode(list)} {calc_range(list)}\")       "
   ]
  },
  {
   "cell_type": "code",
   "execution_count": null,
   "id": "b2b8a5d5-21b6-411d-8848-9a150bf33b04",
   "metadata": {},
   "outputs": [],
   "source": [
    "\"\"\"\n",
    "2. X = [3, 1, -2, 6, 7]인 리스트에 대해 prefix sum S는 다음과 같이 정의된다. S[i] = X[0] + X[1]+ … +X[i] 즉, S = [3, 4, 2, 8, 15] 가 된다. 이중 for 루프를 사용하여 prefixSum 함수를 구현하고 함수의 수행시간을 구하시오.\n",
    "\n",
    "[힌트] 실행시간을 측정하기 위해서는 아래와 같은 함수를 사용한다.\n",
    "import time\n",
    "time.process_time() # time.process_time()함수는 현재 clock 시간을 알려준다.\n",
    "시간 측정 예시) 함수 f()의 시간을 측정하고 싶을 때,\n",
    "\n",
    "import time\n",
    "before = time.process_time() #현재 시간을 얻는다\n",
    "f() #함수 f 호출\n",
    "after = time.process_time() #현재 시간을 얻는다\n",
    "print(after-before) #함수 호출 전과 후의 시간 차이\n",
    "\"\"\""
   ]
  },
  {
   "cell_type": "code",
   "execution_count": 105,
   "id": "399d66c1-43f0-48fa-8b5e-98ac65e26fdb",
   "metadata": {},
   "outputs": [
    {
     "data": {
      "text/plain": [
       "[3, 4, 2, 8, 15]"
      ]
     },
     "execution_count": 105,
     "metadata": {},
     "output_type": "execute_result"
    }
   ],
   "source": [
    "# 1. prefixSum 함수 구현하기\n",
    "def prefixSum(X):\n",
    "    S = []\n",
    "    for i in range(len(X)): # 0~len(X)-1\n",
    "        num = 0 # 초기화\n",
    "        for s in range(i+1): # 0~i\n",
    "            num += X[s] #\n",
    "        S.append(num)\n",
    "    return S\n",
    "\n",
    "prefixSum([3, 1, -2, 6, 7]) #확인"
   ]
  },
  {
   "cell_type": "code",
   "execution_count": 106,
   "id": "e227e5dc-870d-4eaa-99f9-df93ff770979",
   "metadata": {},
   "outputs": [
    {
     "name": "stdout",
     "output_type": "stream",
     "text": [
      "0.0\n"
     ]
    }
   ],
   "source": [
    "# 2. 시간 측정하기 \n",
    "import time\n",
    "\n",
    "before = time.process_time()\n",
    "prefixSum([3, 1, -2, 6, 7])\n",
    "\n",
    "after = time.process_time()\n",
    "\n",
    "print(after-before)"
   ]
  },
  {
   "cell_type": "code",
   "execution_count": 103,
   "id": "2c8dd162-6246-46af-b855-b2c4c7ef3ac5",
   "metadata": {},
   "outputs": [],
   "source": [
    "# 0초와 가까운 시간값이 나올 경우 0으로 나타날 수 있다고 함."
   ]
  }
 ],
 "metadata": {
  "kernelspec": {
   "display_name": "Python 3 (ipykernel)",
   "language": "python",
   "name": "python3"
  },
  "language_info": {
   "codemirror_mode": {
    "name": "ipython",
    "version": 3
   },
   "file_extension": ".py",
   "mimetype": "text/x-python",
   "name": "python",
   "nbconvert_exporter": "python",
   "pygments_lexer": "ipython3",
   "version": "3.9.7"
  }
 },
 "nbformat": 4,
 "nbformat_minor": 5
}
