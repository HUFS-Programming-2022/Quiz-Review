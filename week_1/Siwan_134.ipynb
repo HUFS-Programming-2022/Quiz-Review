{
 "cells": [
  {
   "cell_type": "code",
   "execution_count": null,
   "id": "06f07c70",
   "metadata": {},
   "outputs": [],
   "source": [
    "# week01_quiz01\n",
    "\n",
    "biyodd_price = 1300\n",
    "biyodd_cost = 480\n",
    "gimbab_price = 2500\n",
    "gimbab_cost = 900\n",
    "cola_price = 800\n",
    "cola_cost = 380\n",
    "banana_price = 3200\n",
    "banana_cost = 1050\n",
    "homerunball_price = 1500\n",
    "homerunball_cost = 770\n",
    "\n",
    "the_number_of_biyodd = int(input('비요뜨 갯수 > '))\n",
    "the_number_of_gimbab = int(input('삼각김밥 갯수 > '))\n",
    "the_number_of_cola = int(input('콜라 갯수 > '))\n",
    "the_number_of_banana = int(input('바나나 갯수 > '))\n",
    "the_number_of_homerunball = int(input('홈런볼 갯수 > '))\n",
    "\n",
    "\n",
    "if the_number_of_biyodd + the_number_of_gimbab + the_number_of_cola + the_number_of_banana + the_number_of_homerunball >= 5:\n",
    "    total_sales = ((biyodd_price * 0.85 - biyodd_cost) * the_number_of_biyodd) + ((gimbab_price * 0.85 - gimbab_cost) * the_number_of_gimbab) + ((cola_price * 0.85 - cola_cost) * the_number_of_cola) + ((banana_price * 0.85 - banana_cost) * the_number_of_banana) + ((homerunball_price * 0.85 - homerunball_cost) * the_number_of_homerunball)\n",
    "    print(f'총 매출 > {total_sales}')\n",
    "else :\n",
    "    total_sales = ((biyodd_price - biyodd_cost) * the_number_of_biyodd)\n",
    "    + ((gimbab_price  - gimbab_cost) * the_number_of_gimbab) + ((cola_price - cola_cost) * the_number_of_cola) + ((banana_price - banana_cost) * the_number_of_banana) + ((homerunball_price - homerunball_cost) * the_number_of_homerunball)\n",
    "    print(f'총 매출 > {total_sales}')"
   ]
  },
  {
   "cell_type": "code",
   "execution_count": null,
   "id": "e6521198",
   "metadata": {},
   "outputs": [],
   "source": [
    "# week01_quiz03\n",
    "tree = 350\n",
    "snail_day = 5\n",
    "snail_night = -2\n",
    "one_day_snail = snail_day + snail_night\n",
    "\n",
    "if 350 % one_day_snail != 0:\n",
    "    print((350 // one_day_snail) + 1)\n",
    "else :\n",
    "    print(350// one_day_snail)"
   ]
  },
  {
   "cell_type": "code",
   "execution_count": null,
   "id": "53513ab1",
   "metadata": {},
   "outputs": [],
   "source": [
    "# week01_quiz04\n",
    "\n",
    "# 세 수를 입력받고 변수에 담는다\n",
    "input_num1 = float(input('첫 번째 숫자 입력 > '))\n",
    "input_num2 = float(input('두 번째 숫자 입력 > '))\n",
    "input_num3 = float(input('세 번째 숫자 입력 > '))\n",
    "\n",
    "if input_num1 >= input_num2 and input_num1 >= input_num3:\n",
    "    print('가장 큰 숫자 > ', input_num1)\n",
    "elif input_num2 >= input_num1 and input_num2 >= input_num3:\n",
    "    print('가장 큰 숫자 > ', input_num2)\n",
    "else :\n",
    "    print('가장 큰 숫자 > ', input_num3)"
   ]
  }
 ],
 "metadata": {
  "kernelspec": {
   "display_name": "Python 3 (ipykernel)",
   "language": "python",
   "name": "python3"
  },
  "language_info": {
   "codemirror_mode": {
    "name": "ipython",
    "version": 3
   },
   "file_extension": ".py",
   "mimetype": "text/x-python",
   "name": "python",
   "nbconvert_exporter": "python",
   "pygments_lexer": "ipython3",
   "version": "3.9.7"
  }
 },
 "nbformat": 4,
 "nbformat_minor": 5
}
