{
 "cells": [
  {
   "cell_type": "markdown",
   "id": "aa4aec36-3dd6-4664-a681-f22144cf8968",
   "metadata": {},
   "source": [
    "# Quiz - Week 1\n",
    "\n",
    "### 1. 편의점 매출 계산하기\n",
    "    - 총 매출 = (소비자 가격 - 원가) * 개수\n",
    "    - 조건: 5개 이상 구매 시 전체 물품의 15% 할인\n",
    "\n",
    "한 고객이 다음과 같이 물건을 구입했다고 할 때, 편의점의 매출을 계산하시오.\n",
    "    - 최대한 모든 리터럴을 변수에 담을 것\n",
    "    - 출력값은 총 매출액 (int)\n",
    "    \n",
    "   ||비요뜨|삼각김밥|콜라|바나나|홈런볼|\n",
    "   |---|---|---|---|---|---|\n",
    "   |원가|480|900|380|1050|770|\n",
    "   |소비자가|1300|2500|800|3200|1500|\n",
    "   |개수|3|5|6|2|4|"
   ]
  },
  {
   "cell_type": "code",
   "execution_count": 15,
   "id": "98dd51b9-82f5-4fe0-b211-943f46d242ba",
   "metadata": {},
   "outputs": [
    {
     "name": "stdout",
     "output_type": "stream",
     "text": [
      "17605\n"
     ]
    }
   ],
   "source": [
    "# 계산을 편리하게 하기 위해 해당 물건의 매출액을 계산하는 함수를 만든다.\n",
    "def calc_sales(product_cost, consumer_price, quantity):\n",
    "    \"\"\"\n",
    "    product_cost: int, 원가\n",
    "    consumer_price: int, 소비자가\n",
    "    quantity: int, 개수\n",
    "    물품 당 매출액을 계산한다. 단, 5개 이상 구매시 전체 물품의 15%을 할인한다.\n",
    "    \"\"\"\n",
    "    if quantity >= 5:\n",
    "        return int((consumer_price * 0.85 - product_cost) * quantity)\n",
    "    else:\n",
    "        return (consumer_price - product_cost) * quantity\n",
    "\n",
    "# 함수를 이용해 해당 물건의 매출액을 계산한다.\n",
    "yogurt = calc_sales(480, 1300, 3)\n",
    "kimbap = calc_sales(900, 2500, 5)\n",
    "coke = calc_sales(380, 800, 6)\n",
    "banana = calc_sales(1050, 3200, 2)\n",
    "snack = calc_sales(770, 1500, 4)\n",
    "\n",
    "# 각 물품의 매출액을 합해 편의점의 총 매출액을 계산한다.\n",
    "total_sales = yogurt + kimbap + coke + banana + snack\n",
    "\n",
    "print(total_sales)"
   ]
  },
  {
   "cell_type": "markdown",
   "id": "20a1ee4f-b333-4cdd-af93-ef3bcc431b03",
   "metadata": {},
   "source": [
    "### 2. 흙을 나르는 마이클\n",
    "옮겨야 할 흙은 총 n킬로그램이고, 마이클은 3kg씩 혹은 5kg씩 나를 수 있다.\n",
    "최대한 적은 노력으로 모든 흙을 나를 수 있는 코드를 작성하라.\n",
    "__단, 나르는 흙의 양은을 넘기지 않는다.__\n",
    "    \n",
    "    예: n = 18일 때, 3kg 6번보다 5kg 3번 + 3kg 1번이 (=4번) 더 나은 방법이다.\n",
    "    예: n = 19일 때, 3kg을 1번 더 옮겨야 함.\n",
    "    \n",
    "- n은 랜덤으로 주어진다\n",
    "```sh\n",
    "import random\n",
    "n = random.randint(10, 100)\n",
    "```\n",
    "- 출력값 = (3kg 횟수, 5kg 횟수)"
   ]
  },
  {
   "cell_type": "code",
   "execution_count": 18,
   "id": "0e6d0f2d-0297-43d1-a758-4a502bc412c1",
   "metadata": {},
   "outputs": [
    {
     "name": "stdout",
     "output_type": "stream",
     "text": [
      "3kg 횟수: 0회, 5kg 횟수: 6회\n"
     ]
    }
   ],
   "source": [
    "\"\"\"\n",
    "n은 랜덤으로 지정.\n",
    "x: int, 5kg 횟수\n",
    "y: int, 3kg 횟수\n",
    "\n",
    "가장 적은 노력으로 흙을 나르려면 5kg으로 최대한 많이 날라야 한다.\n",
    "이때 나르는 흙의 양은 넘기지 않아야한다.\n",
    "따라서 반복문을 이용해 조건을 만족하는 x의 최대값을 구하고,\n",
    "구한 x값으로 y값을 구한다.\n",
    "\"\"\"\n",
    "\n",
    "# n을 랜덤으로 지정한다.\n",
    "import random\n",
    "n = random.randint(10, 100)\n",
    "\n",
    "# x는 n을 5로 나눈 몫으로 지정.\n",
    "x = n // 5\n",
    "\n",
    "# 반복문을 통해 조건을 만족하는 x의 최대값을 구한다.\n",
    "# n에서 5*x 값을 뺀 값이 3의 배수가 될 때까지 x-1을 한다.\n",
    "while (n - 5 * x) % 3 != 0:\n",
    "    x -= 1\n",
    "\n",
    "# 반복문을 통해 구한 x값으로 y값을 구한다.\n",
    "y = (n - 5 * x) // 3\n",
    "\n",
    "# 결과를 출력한다.\n",
    "print(f'3kg 횟수: {y}회, 5kg 횟수: {x}회')"
   ]
  },
  {
   "cell_type": "markdown",
   "id": "afb6316c-f08f-4b90-ab18-ca7f31138986",
   "metadata": {},
   "source": [
    "### 4. 큰 수 찾기\n",
    "세 수를 입력받고 가장 큰 수를 찾는 코드를 작성하세요. (max 함수 이용하지 말 것)\n",
    "    \n",
    "    예: 12, 14, 15 입력 받았다면 15"
   ]
  },
  {
   "cell_type": "code",
   "execution_count": 3,
   "id": "51f69cfd-4ce1-4cee-9e55-5499e85d95c0",
   "metadata": {},
   "outputs": [
    {
     "name": "stdin",
     "output_type": "stream",
     "text": [
      "첫번째 숫자를 입력해주세요. >>>  1\n",
      "두번째 숫자를 입력해주세요. >>>  2\n",
      "세번째 숫자를 입력해주세요. >>>  2\n"
     ]
    },
    {
     "name": "stdout",
     "output_type": "stream",
     "text": [
      "가장 큰 수는 2입니다.\n"
     ]
    }
   ],
   "source": [
    "x = int(input('첫번째 숫자를 입력해주세요. >>> '))\n",
    "y = int(input('두번째 숫자를 입력해주세요. >>> '))\n",
    "z = int(input('세번째 숫자를 입력해주세요. >>> '))\n",
    "    \n",
    "if x >= y and x >= z:\n",
    "    print(f'가장 큰 수는 {x}입니다.')\n",
    "elif y > x and y >= z:\n",
    "    print(f'가장 큰 수는 {y}입니다.')\n",
    "elif z > x and z > y:\n",
    "    print(f'가장 큰 수는 {z}입니다.')"
   ]
  }
 ],
 "metadata": {
  "kernelspec": {
   "display_name": "Python 3 (ipykernel)",
   "language": "python",
   "name": "python3"
  },
  "language_info": {
   "codemirror_mode": {
    "name": "ipython",
    "version": 3
   },
   "file_extension": ".py",
   "mimetype": "text/x-python",
   "name": "python",
   "nbconvert_exporter": "python",
   "pygments_lexer": "ipython3",
   "version": "3.9.7"
  }
 },
 "nbformat": 4,
 "nbformat_minor": 5
}
