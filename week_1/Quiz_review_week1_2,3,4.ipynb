    "##2 "
   ]
  },
  {
   "cell_type": "code",
   "execution_count": null,
   "id": "0fa201e4-0dd9-4288-891b-adf495aebe77",
   "metadata": {},
   "outputs": [],
   "source": [
    "옮겨야 할 흙은 총 n킬로그램이고, 마이클은 3kg씩 혹은 5kg씩 나를 수 있다.\n",
    "최대한 적은 노력으로 모든 흙을 나를 수 있는 코드를 작성하라.\n",
    "(단, 나르는 흙의 양이 총량과 정확하게 떨어지지 않으면 총량을 살짝 넘겨야 한다.)\n",
    "출력 조건:\n",
    " - n은 랜덤으로 주어진다.\n",
    " - 출력값 = (3kg 나르는 횟수, 5kg 나르는 횟수)\n",
    "\"\"\"\n",
    "# 참고용\n",
    "import random\n",
    "n = random.randint(10, 100)\n",
    "\"\"\""
   ]
  },
  {
   "cell_type": "code",
   "execution_count": 5,
   "id": "ba95a5bf-459a-4661-8fc0-f6b02a048689",
   "metadata": {},
   "outputs": [
    {
     "name": "stdout",
     "output_type": "stream",
     "text": [
      "흙 32kg을 나르기 위해서는 3kg을 1번, 5kg을 6번 날라야 합니다. \n"
     ]
    }
   ],
   "source": [
    "import random\n",
    "n = random.randint(10, 100)\n",
    "count_five=''\n",
    "count_three=''\n",
    "\n",
    "if n % 5 == 0:\n",
    "    count_five = n//5\n",
    "elif n % 3 == 0:\n",
    "    count_three = n//3\n",
    "elif n % 5 < 3:\n",
    "    count_five = n//5\n",
    "    count_three = 1 \n",
    "else:                  # 나머지가 3보다 클 때\n",
    "    count_five = n//5\n",
    "    count_three = (n%5)//3 +1\n",
    "    \n",
    "print(f'흙 {n}kg을 나르기 위해서는 3kg을 {count_three}번, 5kg을 {count_five}번 날라야 합니다. ')"
   ]
  },
  {
   "cell_type": "markdown",
   "id": "00f99637-a9a2-49d0-86c3-e436dae5748a",
   "metadata": {},
   "source": [
    "## 3.달팽이"
   ]
  },
  {
   "cell_type": "code",
   "execution_count": null,
   "id": "3c658259-2529-4042-aeff-f004adde8d8a",
   "metadata": {},
   "outputs": [],
   "source": [
    "달팽이가 높이 350미터인 나무 막대를 올라간다.\n",
    "\"\"\"\n",
    "조건1: 달팽이는 낮에 5미터 올라간다.\n",
    "조건2: 밤에는 2미터 미끄러진다.\n",
    "조건3: 정상에 올라간 후에는 미끄러지지 않는다.\n",
    "달팽이가 막대기 정상에 올라가려면 며칠이 걸리는지 코드를 짜서 프린트하시오.\n",
    "(모든 리터럴은 변수에 담겨야 한다. 코드 및 정답을 모두 제출한다.)"
   ]
  },
  {
   "cell_type": "code",
   "execution_count": 1,
   "id": "c5d5d8c4-3edf-471d-8a47-4b48891e1333",
   "metadata": {},
   "outputs": [
    {
     "name": "stdout",
     "output_type": "stream",
     "text": [
      "달팽이가 정상까지 올라가가 위해 117일 걸린다.\n"
     ]
    }
   ],
   "source": [
    "height = 350\n",
    "day = 350 // (5-2) + 1\n",
    "\n",
    "print(f'달팽이가 정상까지 올라가가 위해 {day}일 걸린다.')"
   ]
  },
  {
   "cell_type": "markdown",
   "id": "07007aaf-5781-4df0-b9c1-ab9525e36eee",
   "metadata": {},
   "source": [
    "## 4."
   ]
  },
  {
   "cell_type": "code",
   "execution_count": null,
   "id": "73c26226-8230-494f-942d-774f2631707a",
   "metadata": {},
   "outputs": [],
   "source": [
    " 세 수를 입력 받고 가장 큰 수를 찾는 코드를 작성하시오.\n",
    "\"\"\"\n",
    "예: 12, 14, 15 입력 받았다면 15\n",
    "* 조건식을 위한 문제이기 때문에 max() 함수는 인정하지 않음\n",
    "'''"
   ]
  },
  {
   "cell_type": "code",
   "execution_count": 4,
   "id": "0cc51cd6-1269-474e-b077-87fdfe1f9aa9",
   "metadata": {},
   "outputs": [
    {
     "name": "stdin",
     "output_type": "stream",
     "text": [
      "숫자: 34\n",
      "숫자: 56\n",
      "숫자: 78\n"
     ]
    },
    {
     "name": "stdout",
     "output_type": "stream",
     "text": [
      "가장 큰 숫자는 78입니다.\n"
     ]
    }
   ],
   "source": [
    "num_1 = input('숫자:')\n",
    "num_2 = input('숫자:')\n",
    "num_3 = input('숫자:')\n",
    "\n",
    "if num_1 > (num_2 and num_3):\n",
    "    king_num = num_1\n",
    "elif num_2 > num_3:\n",
    "    king_num = num_2\n",
    "else : \n",
    "    king_num = num_3\n",
    "\n",
    "print(f'가장 큰 숫자는 {king_num}입니다.')\n",
    "    "
   ]
  },
  {
   "cell_type": "code",
   "execution_count": null,
   "id": "1d7d558d-e079-4f5c-b4fb-88dd51032da3",
   "metadata": {},
   "outputs": [],
   "source": []
  }
 ],
 "metadata": {
  "kernelspec": {
   "display_name": "Python 3 (ipykernel)",
   "language": "python",
   "name": "python3"
  },
  "language_info": {
   "codemirror_mode": {
    "name": "ipython",
    "version": 3
   },
   "file_extension": ".py",
   "mimetype": "text/x-python",
   "name": "python",
   "nbconvert_exporter": "python",
   "pygments_lexer": "ipython3",
   "version": "3.9.7"
  }
 },
 "nbformat": 4,
 "nbformat_minor": 5
}
