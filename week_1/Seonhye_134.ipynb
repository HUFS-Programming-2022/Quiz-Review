{
 "cells": [
  {
   "cell_type": "code",
   "execution_count": 12,
   "id": "62fa0314-6727-4d9f-9e4a-8bdd6868fb13",
   "metadata": {},
   "outputs": [
    {
     "name": "stdout",
     "output_type": "stream",
     "text": [
      "총 매출 [2460, 6000, 1890, 4300, 2920]\n"
     ]
    }
   ],
   "source": [
    "product_one = ['비요뜨', 480, 1300, 3]\n",
    "product_two = ['삼각김밥', 900, 2500, 5]\n",
    "product_three = ['콜라', 380, 800, 6]\n",
    "product_four = ['바나나', 1050, 3200, 2]\n",
    "product_five = ['홈런볼', 770, 1500, 4]\n",
    "\n",
    "product = [product_one, product_two, product_three, product_four, product_five]\n",
    "total = []\n",
    "\n",
    "for i in range(len(product)):\n",
    "    total_price = (product[i][2] - product[i][1]) * product[i][3]\n",
    "    if product[i][3] >= 5:\n",
    "        total_price = float(total_price) * 0.75\n",
    "    total.append(int(total_price))\n",
    "    \n",
    "print(f'총 매출 {total}')"
   ]
  },
  {
   "cell_type": "code",
   "execution_count": null,
   "id": "33ac44ca-0531-4ad0-b78b-ff19e7c62f19",
   "metadata": {},
   "outputs": [],
   "source": []
  }
 ],
 "metadata": {
  "kernelspec": {
   "display_name": "Python 3 (ipykernel)",
   "language": "python",
   "name": "python3"
  },
  "language_info": {
   "codemirror_mode": {
    "name": "ipython",
    "version": 3
   },
   "file_extension": ".py",
   "mimetype": "text/x-python",
   "name": "python",
   "nbconvert_exporter": "python",
   "pygments_lexer": "ipython3",
   "version": "3.9.7"
  }
 },
 "nbformat": 4,
 "nbformat_minor": 5
}
