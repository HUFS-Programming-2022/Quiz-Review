{
 "cells": [
  {
   "cell_type": "markdown",
   "id": "bb41048f",
   "metadata": {},
   "source": [
    "한 고객이 다음과 같이 물건을 구입했다고 할 때, 편의점의 매출을 계산하시오. - 최대한 모든 리터럴을 변수에 담을 것 - 출력값은 총 매출액 (int)\n",
    "\n",
    "- 총 매출 = (소비자 가격 - 원가) * 개수\n",
    "- 조건: 5개 이상 구매 시 전체 물품의 15% 할인\n",
    "\n",
    "비요뜨\t삼각김밥\t콜라\t바나나\t홈런볼\n",
    "원가\t480\t900\t380\t1050\t770\n",
    "소비자가\t1300\t2500\t800\t3200\t1500\n",
    "개수\t3\t5\t6\t2\t4"
   ]
  },
  {
   "cell_type": "code",
   "execution_count": 19,
   "id": "8c0edb59",
   "metadata": {},
   "outputs": [
    {
     "name": "stdout",
     "output_type": "stream",
     "text": [
      "총매출 : 17170\n"
     ]
    }
   ],
   "source": [
    "#1. 편의점 매출 계산하기\n",
    "\n",
    "yogurt = [1300, 480, 3]\n",
    "gimbab = [2500, 900, 5]\n",
    "coke = [800, 380, 6]\n",
    "banana = [3200, 1050, 2]\n",
    "homerunball = [1500, 770, 4]\n",
    "market=[yogurt, gimbab, coke, banana, homerunball]\n",
    "\n",
    "total_price = 0\n",
    "for i in market:\n",
    "    total_price += (i[0]-i[1])*i[2]\n",
    "\n",
    "discount = 0.85\n",
    "total_price = total_price * discount\n",
    "print(f'총매출 : {int(total_price)}')"
   ]
  },
  {
   "cell_type": "markdown",
   "id": "e99ada40",
   "metadata": {},
   "source": [
    "옮겨야 할 흙은 총 n킬로그램이고, 마이클은 3kg씩 혹은 5kg씩 나를 수 있다. 최대한 적은 노력으로 모든 흙을 나를 수 있는 코드를 작성하라. 단, 나르는 흙의 양은을 넘기지 않는다.\n",
    "\n",
    "예: n = 18일 때, 3kg 6번보다 5kg 3번 + 3kg 1번이 (=4번) 더 나은 방법이다.\n",
    "예: n = 19일 때, 3kg을 1번 더 옮겨야 함.\n",
    "n은 랜덤으로 주어진다\n",
    "import random\n",
    "n = random.randint(10, 100)"
   ]
  },
  {
   "cell_type": "code",
   "execution_count": 38,
   "id": "1c148c2f",
   "metadata": {},
   "outputs": [
    {
     "name": "stdout",
     "output_type": "stream",
     "text": [
      "58\n",
      "5kg 11번 + 3kg 1번\n"
     ]
    }
   ],
   "source": [
    "#2. 흙을 나르는 마이클\n",
    "\n",
    "import random\n",
    "n = random.randint(10, 100)\n",
    "print(n)\n",
    "if (n % 5) == 0:\n",
    "    print(f'5kg {n // 5}번')\n",
    "elif 0 <  (n % 5) <= 3:\n",
    "    print(f'5kg {n // 5}번 + 3kg 1번')\n",
    "else:\n",
    "    print(f'5kg {n // 5}번 + 3kg 2번')"
   ]
  },
  {
   "cell_type": "markdown",
   "id": "0a8edc68",
   "metadata": {},
   "source": [
    "달팽이가 높이 350미터인 나무 막대를 올라간다.\n",
    "\n",
    "달팽이는 낮에 5미터 올라간다.\n",
    "밤에는 2미터 미끄러진다.\n",
    "정상에 올라간 후에는 미끄러지지 않는다."
   ]
  },
  {
   "cell_type": "code",
   "execution_count": 67,
   "id": "29fb0985",
   "metadata": {},
   "outputs": [
    {
     "name": "stdout",
     "output_type": "stream",
     "text": [
      "116일\n"
     ]
    }
   ],
   "source": [
    "#3. 달팽이\n",
    "\n",
    "day = 5\n",
    "night = 2\n",
    "stick = 350\n",
    "if (stick-day) % (day-night) == 0:\n",
    "    print(f'{(stick-day) // (day-night)+1}일')\n",
    "else:\n",
    "    print(f'{(stick-day) // (day-night)+2}일')"
   ]
  },
  {
   "cell_type": "markdown",
   "id": "c31535fb",
   "metadata": {},
   "source": [
    "세 수를 입력받고 가장 큰 수를 찾는 코드를 작성하세요. (max 함수 이용하지 말 것)\n",
    "\n",
    "예: 12, 14, 15 입력 받았다면 15"
   ]
  },
  {
   "cell_type": "code",
   "execution_count": 68,
   "id": "31100391",
   "metadata": {},
   "outputs": [
    {
     "name": "stdout",
     "output_type": "stream",
     "text": [
      "12\n",
      "14\n",
      "15\n"
     ]
    },
    {
     "data": {
      "text/plain": [
       "15.0"
      ]
     },
     "execution_count": 68,
     "metadata": {},
     "output_type": "execute_result"
    }
   ],
   "source": [
    "#4. 큰수 찾기\n",
    "\n",
    "num1 = float(input())\n",
    "num2 = float(input())\n",
    "if num1 >= num2:\n",
    "    a = num1\n",
    "else:\n",
    "    a = num2\n",
    "num3 = float(input())\n",
    "if num3 >= a:\n",
    "    a = num3\n",
    "a"
   ]
  },
  {
   "cell_type": "code",
   "execution_count": null,
   "id": "a3dfc0e4",
   "metadata": {},
   "outputs": [],
   "source": []
  }
 ],
 "metadata": {
  "kernelspec": {
   "display_name": "Python 3 (ipykernel)",
   "language": "python",
   "name": "python3"
  },
  "language_info": {
   "codemirror_mode": {
    "name": "ipython",
    "version": 3
   },
   "file_extension": ".py",
   "mimetype": "text/x-python",
   "name": "python",
   "nbconvert_exporter": "python",
   "pygments_lexer": "ipython3",
   "version": "3.9.7"
  }
 },
 "nbformat": 4,
 "nbformat_minor": 5
}
