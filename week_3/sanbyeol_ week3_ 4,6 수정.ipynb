{
 "cells": [
  {
   "cell_type": "markdown",
   "id": "922f7dfd-4329-449a-8025-947c9e48330d",
   "metadata": {},
   "source": [
    "# 4"
   ]
  },
  {
   "cell_type": "code",
   "execution_count": null,
   "id": "5e243288-7075-43f2-9fd5-5afd55e2b5fc",
   "metadata": {},
   "outputs": [],
   "source": [
    "def get_GCD(first_num, second_num):\n",
    "    \"\"\"\n",
    "    최대 공약수 Greatest Common Divisor를 구하는 함수\n",
    "    입력 값(매게 변수)는 first_num, second_num\n",
    "    두 변수를 nums리스트에 담고, max()로 가장 큰 most_num에 할당\n",
    "    \n",
    "    for loop으로 i가 가장 큰 수부터 0까지 역으로 내려옴\n",
    "    -> '최대' 공약수를 찾아야 하기에 큰 수 부터\n",
    "    fist_num과 sencond_num을 나눴을 때, 나머지 == 0 이되는\n",
    "    -> 공통인 약수를 찾음 -> GCD에 할당\n",
    "    GCD는 최소공배수를 구하는 함수에서도 사용해야하함. 지역변수 > 전역변수로 global 바꿈\n",
    "    리턴 값 = GCD\n",
    "    \"\"\"\n",
    "    nums = [first_num, second_num]\n",
    "    most_num = max(nums)\n",
    "    \n",
    "    for i in range(most_num,0,-1) :\n",
    "        if (first_num % i == 0) and (second_num % i == 0):\n",
    "            global GCD\n",
    "            GCD = i # 두 수의 공약수(나머지가 0이 되게 하는 수) 중 가장 큰 수\n",
    "            # 공약수는 마지막 수인 1이 존재할 수 밖에 없기 때문에, else 작성 X\n",
    "            return GCD\n",
    "           \n",
    "def get_LCM_by_GCD(first_num, second_num, GCD):\n",
    "    \"\"\"\n",
    "    최대 공약수를 활용해\n",
    "    최소 공배수 Largest Common Multiple 를 구하는 함수\n",
    "    \n",
    "    최소공배수 = (0이 아닌) 두 수의 곱 / 최대공약수\n",
    "    곱 multipl이 0이 아니라면, 최소공배수는 곱/최대공약수 \n",
    "    리턴 값 = LCM\n",
    "    \n",
    "    곱 multiple이 0이라면, 최소공배수가 없으므로\n",
    "    리턴값 = '최소공배수를 구할 수 없습니다. '\n",
    "    \"\"\"\n",
    "    multipl = first_num * second_num\n",
    "    if  multipl != 0:\n",
    "        LCM = multipl/GCD\n",
    "        \n",
    "        return LCM\n",
    "    \n",
    "    else:\n",
    "        return '최소 공배수를 구할 수 없습니다.'\n",
    "    \n",
    "# 첫번째, 두번째 수를 전역 변수로 할당 => 두 함수에서 모두 사용할 수 있게 함    \n",
    "first_num = int(input('숫자를 입력해주세요 > '))\n",
    "second_num = int(input('숫자를 입력해주세요 > '))\n",
    "\n",
    "print(f'{first_num}, {second_num}의 최대 공약수 > {get_GCD(first_num,second_num)}\\n{first_num}, {second_num}의 최소 공배수 > {get_LCM_by_GCD(first_num,second_num, GCD)}')"
   ]
  },
  {
   "cell_type": "markdown",
   "id": "3a74455c-34ef-4aac-9499-4ebbe7920988",
   "metadata": {},
   "source": [
    "# 6."
   ]
  },
  {
   "cell_type": "code",
   "execution_count": null,
   "id": "c29c448a-3775-4f43-9768-0ac7567cca0c",
   "metadata": {},
   "outputs": [],
   "source": [
    "def make_triangle(n):\n",
    "    \"\"\"\n",
    "    n X 2 -1 을 시작으로 역삼각형을 그리는 함수\n",
    "    입력 값 = n\n",
    "    for n의 갯수만큼 반복한다.\n",
    "    밑으로 갈수록 앞, 공백의 갯수는 하나씩 증가한다.\n",
    "    ->공백의 갯수만큼 * 의 갯수는 줄어든다. \n",
    "    -> n-i 개 만큼 * 을 출력 : 중심축 만큼 출력됨\n",
    "    -> 중심축을 기준으로 , 뒷 부분 : n-1-공백 갯수\n",
    "    리턴 값 : 없음 (for loop에서 값 출력)\n",
    "    \"\"\"\n",
    "    for i in range(0,n):\n",
    "        print(' '*(i) + ('*'*(n-i)) + ('*'*(n-1-i)))\n",
    "        \n",
    "    return\n",
    "\n",
    "n = int(input('수를 입력해주세요:'))\n",
    "make_triangle(n)"
   ]
  }
 ],
 "metadata": {
  "kernelspec": {
   "display_name": "Python 3 (ipykernel)",
   "language": "python",
   "name": "python3"
  },
  "language_info": {
   "codemirror_mode": {
    "name": "ipython",
    "version": 3
   },
   "file_extension": ".py",
   "mimetype": "text/x-python",
   "name": "python",
   "nbconvert_exporter": "python",
   "pygments_lexer": "ipython3",
   "version": "3.9.7"
  }
 },
 "nbformat": 4,
 "nbformat_minor": 5
}
