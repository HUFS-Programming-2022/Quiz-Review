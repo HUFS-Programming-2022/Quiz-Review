{
  "nbformat": 4,
  "nbformat_minor": 0,
  "metadata": {
    "colab": {
      "name": "Donghyeon_week03.ipynb",
      "provenance": [],
      "collapsed_sections": []
    },
    "kernelspec": {
      "name": "python3",
      "display_name": "Python 3"
    },
    "language_info": {
      "name": "python"
    }
  },
  "cells": [
    {
      "cell_type": "markdown",
      "source": [
        "#### 1.[NLTK] text6에서 pt를 포함하는 단어 리스트를 출력하는 코드를 작성하세요."
      ],
      "metadata": {
        "id": "juik6nHTOdS0"
      }
    },
    {
      "cell_type": "code",
      "source": [
        "import nltk\n",
        "nltk.download('book', quiet=True)\n",
        "from nltk import book"
      ],
      "metadata": {
        "colab": {
          "base_uri": "https://localhost:8080/"
        },
        "id": "Ke9HsprVWtIj",
        "outputId": "bffed30f-cedf-4f18-9087-e91baf0a2895"
      },
      "execution_count": 1,
      "outputs": [
        {
          "output_type": "stream",
          "name": "stdout",
          "text": [
            "*** Introductory Examples for the NLTK Book ***\n",
            "Loading text1, ..., text9 and sent1, ..., sent9\n",
            "Type the name of the text or sentence to view it.\n",
            "Type: 'texts()' or 'sents()' to list the materials.\n",
            "text1: Moby Dick by Herman Melville 1851\n",
            "text2: Sense and Sensibility by Jane Austen 1811\n",
            "text3: The Book of Genesis\n",
            "text4: Inaugural Address Corpus\n",
            "text5: Chat Corpus\n",
            "text6: Monty Python and the Holy Grail\n",
            "text7: Wall Street Journal\n",
            "text8: Personals Corpus\n",
            "text9: The Man Who Was Thursday by G . K . Chesterton 1908\n"
          ]
        }
      ]
    },
    {
      "cell_type": "code",
      "source": [
        "text6 = book.text6"
      ],
      "metadata": {
        "id": "F01MfbPzW12T"
      },
      "execution_count": 2,
      "outputs": []
    },
    {
      "cell_type": "code",
      "source": [
        "[word.lower() for word in text6.tokens if 'pt' in word]"
      ],
      "metadata": {
        "colab": {
          "base_uri": "https://localhost:8080/"
        },
        "id": "iY2ScCSHXKqX",
        "outputId": "201d717f-9cc4-4b00-912d-344a513e6745"
      },
      "execution_count": 4,
      "outputs": [
        {
          "output_type": "execute_result",
          "data": {
            "text/plain": [
              "['empty',\n",
              " 'aptly',\n",
              " 'thpppppt',\n",
              " 'thppt',\n",
              " 'thppt',\n",
              " 'empty',\n",
              " 'thppppt',\n",
              " 'temptress',\n",
              " 'temptation',\n",
              " 'ptoo',\n",
              " 'chapter',\n",
              " 'excepting',\n",
              " 'thpppt']"
            ]
          },
          "metadata": {},
          "execution_count": 4
        }
      ]
    },
    {
      "cell_type": "markdown",
      "source": [
        "#### 4. 두 수의 최대공약수와 최소공배수를 구하는 함수를 짜시오."
      ],
      "metadata": {
        "id": "OXk5lRgy_TpV"
      }
    },
    {
      "cell_type": "code",
      "execution_count": 11,
      "metadata": {
        "id": "ffMtzOl29cKl"
      },
      "outputs": [],
      "source": [
        "def answer(a,b):\n",
        "    for i in range(1,min(a,b)+1):\n",
        "      if (a%i == 0) and (b%i == 0):\n",
        "         div = i\n",
        "    print(f'최대공약수는 {div}입니다')\n",
        "    print(f'최소공배수는 {int(a*b/div)}입니다')"
      ]
    },
    {
      "cell_type": "code",
      "source": [
        "answer(4,10)"
      ],
      "metadata": {
        "colab": {
          "base_uri": "https://localhost:8080/"
        },
        "id": "txxWNdXs9y8w",
        "outputId": "b6356094-76b8-42f7-c064-c087e473c214"
      },
      "execution_count": 14,
      "outputs": [
        {
          "output_type": "stream",
          "name": "stdout",
          "text": [
            "최대공약수는 2입니다\n",
            "최소공배수는 20입니다\n"
          ]
        }
      ]
    },
    {
      "cell_type": "markdown",
      "source": [
        "#### 6.다음 조건에 맞게 별찍기 프로그램을 작성하시오.\n",
        "\n",
        "\n",
        "- 첫째 줄에는 별 2×N-1개, 둘째 줄에는 별 2×N-3개, ..., N번째 줄에는 별 1개를 찍는다.\n",
        "\n",
        "- 별은 가운데를 기준으로 대칭이어야 한다.\n",
        "\n",
        "- 입력값: n\n",
        "\n",
        "- 출력값: 첫째 줄부터 N번째 줄까지 차례대로 별을 출력"
      ],
      "metadata": {
        "id": "rF6-SSEX2_gm"
      }
    },
    {
      "cell_type": "code",
      "source": [
        "n = int(input(\"숫자를 입력하세요: \"))\n",
        "\n",
        "for i in range(1,n+1):\n",
        "  print(\" \"*i+\"*\"*(2*n+1-2*i))"
      ],
      "metadata": {
        "id": "_i3_DgViAl40"
      },
      "execution_count": null,
      "outputs": []
    },
    {
      "cell_type": "code",
      "source": [
        ""
      ],
      "metadata": {
        "id": "8_U4sd4pOU4c"
      },
      "execution_count": null,
      "outputs": []
    }
  ]
}