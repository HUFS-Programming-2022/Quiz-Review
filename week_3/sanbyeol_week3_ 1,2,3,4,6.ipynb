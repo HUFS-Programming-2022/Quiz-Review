{
 "cells": [
  {
   "cell_type": "markdown",
   "id": "94e58d44-eb70-4ce4-a7f6-8559f95b7f3a",
   "metadata": {},
   "source": [
    "# WEEK 3 퀴즈 리뷰 / ImSanByeol"
   ]
  },
  {
   "cell_type": "markdown",
   "id": "703b314b-7c34-415f-a1fd-f9a5dd08f413",
   "metadata": {},
   "source": [
    "## 1. 완성\n",
    "- [NLTK] text6에서 pt를 포함하는 단어 리스트를 출력하는 코드를 작성하세요."
   ]
  },
  {
   "cell_type": "code",
   "execution_count": 35,
   "id": "f5e1f7d3-792b-40df-9ce3-a47107487f30",
   "metadata": {},
   "outputs": [
    {
     "name": "stdout",
     "output_type": "stream",
     "text": [
      "['Thppt', 'Thppppt', 'excepting', 'aptly', 'empty', 'temptation', 'Thpppt', 'temptress', 'Chapter', 'ptoo', 'Thpppppt']\n"
     ]
    }
   ],
   "source": [
    "from nltk import book\n",
    "import nltk\n",
    "nltk.download('book', quiet = True)\n",
    "text = book.text6\n",
    "# 텍스트 변수에 텍스트 6 할당\n",
    "\n",
    "text_six = list(set([word for word in text if 'pt' in word.lower()]))\n",
    "#텍스트 글자들\n",
    "print(text_six)\n",
    "\n",
    "# 중복제거와 소문자화 신경\n",
    "# 정확한 단어를 알려주기 위해, 출력은 소문자화 하지 않음"
   ]
  },
  {
   "cell_type": "markdown",
   "id": "8c99f3d9-ca67-46d5-9f04-53e70b1d8bb6",
   "metadata": {},
   "source": [
    "### 2. 완성 \n",
    "- [NLTK] nltk.book 텍스트들을 순회하며 각 코퍼스에서 what, when, where, who, why, which의 빈도수를 출력하는 코드를 작성하세요.\n",
    "- 단, 단어는 모두 소문자화함.\n",
    "- 전체 코드가 하나의 루프 안에 존재해야 함.\n",
    "- 프린트는 다음의 형식으로 맞춰야 함 텍스트1: what=3번, when=4번, where=6번, who=3번, why=11번, which=44번"
   ]
  },
  {
   "cell_type": "code",
   "execution_count": 31,
   "id": "530b2354-d792-403d-9aec-e4de6107b306",
   "metadata": {},
   "outputs": [
    {
     "name": "stdout",
     "output_type": "stream",
     "text": [
      "<Text: Moby Dick by Herman Melville 1851> : what=696번, where=354, when=639, who=673, why=119, which=650\n",
      "<Text: Sense and Sensibility by Jane Austen 1811> : what=486번, where=105, when=326, who=465, why=49, which=593\n",
      "<Text: The Book of Genesis> : what=51번, where=58, when=126, who=84, why=8, which=199\n",
      "<Text: Inaugural Address Corpus> : what=220번, where=127, when=233, who=600, why=16, which=1007\n",
      "<Text: Chat Corpus> : what=250번, where=72, when=55, who=133, why=66, which=6\n",
      "<Text: Monty Python and the Holy Grail> : what=92번, where=17, when=14, who=58, why=7, which=11\n",
      "<Text: Wall Street Journal> : what=73번, where=49, when=100, who=200, why=14, which=226\n",
      "<Text: Personals Corpus> : what=0번, where=0, when=1, who=17, why=0, which=0\n",
      "<Text: The Man Who Was Thursday by G . K . Chesterton 1908> : what=203번, where=66, when=148, who=280, why=54, which=199\n"
     ]
    }
   ],
   "source": [
    "from nltk import book\n",
    "import nltk\n",
    "nltk.download('book', quiet = True)\n",
    "\n",
    "texts = [book.text1, book.text2, book.text3, book.text4, book.text5, book.text6, book.text7, book.text8, book.text9]\n",
    "\n",
    "for text in texts:\n",
    "    text_lower = [word.lower() for word in text]\n",
    "    what = len([word for word in text_lower if 'what' in word])\n",
    "    where = len([word for word in text_lower if 'where' in word])\n",
    "    why = len([word for word in text_lower if 'why' in word])\n",
    "    who = len([word for word in text_lower if 'who' in word])\n",
    "    which = len([word for word in text_lower if 'which' in word])\n",
    "    when = len([word for word in text_lower if 'when' in word])\n",
    "    \n",
    "    print(f'{text} : what={what}번, where={where}, when={when}, who={who}, why={why}, which={which}')"
   ]
  },
  {
   "cell_type": "markdown",
   "id": "c2e8ac29-17f9-470a-b725-3187780a1650",
   "metadata": {},
   "source": [
    "### 3. 완성\n",
    "- 팩토리얼이란 다음과 같다.\n",
    "- 1! = 1 2! = 1 * 2 3! = 1 * 2 * 3 ... n! = 1 * 2 *3 * ... * n\n",
    "- 팩토리얼을 구한 뒤, 결과값의 맨 마지막 자리에서 시작해서 처음으로 0이 아닌 숫자가 나올 때까지 0의 개수를 구하는 함수를 만드시오. 예: 80000300 => 2개\n",
    "- 입력값= n\n",
    "- 출력값= 결과값, 0 개수"
   ]
  },
  {
   "cell_type": "code",
   "execution_count": 16,
   "id": "5e87bf49-8959-4072-b348-f1ae571d34c7",
   "metadata": {},
   "outputs": [
    {
     "name": "stdin",
     "output_type": "stream",
     "text": [
      "구하고자 하는 팩토리얼 수를 입럭하시오 >  6\n"
     ]
    },
    {
     "name": "stdout",
     "output_type": "stream",
     "text": [
      "6! = 720\n",
      "마지막 자리에서 자연수까지의 0의 갯수 = 1\n"
     ]
    }
   ],
   "source": [
    "\n",
    "def make_factorial(n):\n",
    "    \"\"\"\n",
    "    입력값 n 의 팩토리얼 값을 구하는 함수\n",
    "    \"\"\"\n",
    "    if type(n) == int:\n",
    "        result = 1\n",
    "        for i in range(1,n+1):\n",
    "            result *= i\n",
    "        return result\n",
    "    \n",
    "    else:\n",
    "        return('숫자가 아닙니다.')\n",
    "\n",
    "def find_natural_num_reverse():\n",
    "    \"\"\"\n",
    "    역으로 자연수가 나오기까지 0의 갯수를 구하는 함수\n",
    "    \"\"\"\n",
    "    \n",
    "    result = make_factorial(n)\n",
    "    for i in range(0,len(str(result))+1):\n",
    "        if str(result)[i] != '0':\n",
    "            pass\n",
    "            \n",
    "        elif str(result)[i] == '0':\n",
    "            count_zero = len(str(result))-i\n",
    "            #find 함수 사용할수있을거 같은데\n",
    "            return count_zero\n",
    "      \n",
    "\n",
    "n = int(input('구하고자 하는 팩토리얼 수를 입럭하시오 > '))\n",
    "print(f'{n}! = {make_factorial(n)}\\n마지막 자리에서 자연수까지의 0의 갯수 = {find_natural_num_reverse()}')"
   ]
  },
  {
   "cell_type": "markdown",
   "id": "74e65b42-a97e-4378-8e83-374b7d941c4e",
   "metadata": {},
   "source": [
    "# 4. 완성\n",
    "- 두 수의 최대공약수와 최소공배수를 구하는 함수를 짜시오. (함수를 각각 만들어서 활용해도 됨)\n",
    "- 공약수(common divisor)란 두 수 이상의 여러 수의 공통된 약수를 의미합니다. 최대공약수(GCD)란 두 수 이상의 여러 수의 공약수 중 최대인 수를 가리킵니다.\n",
    "- 두 수의 최소공배수는 두 수에 서로 공통으로 존재하는 배수 중 가장 작은 수를 뜻합니다.\n",
    "- 힌트: 최소공배수 = (0이 아닌) 두 수의 곱 / 최대공약수"
   ]
  },
  {
   "cell_type": "code",
   "execution_count": 19,
   "id": "44a48b23-50f4-48e9-82bd-9d2830946e6c",
   "metadata": {},
   "outputs": [
    {
     "name": "stdin",
     "output_type": "stream",
     "text": [
      "숫자를 입력해주세요 >  3\n",
      "숫자를 입력해주세요 >  4\n"
     ]
    },
    {
     "name": "stdout",
     "output_type": "stream",
     "text": [
      "3, 4의 최대 공약수 > 1\n",
      "3, 4의 최소 공배수 > 12.0\n"
     ]
    }
   ],
   "source": [
    "\n",
    "# 첫번째, 두번째 수를 전역 변수로 할당 받아서 두 함수에서 모두 사용할수 있도록 하기. \n",
    "\n",
    "def get_GCD(first_num, second_num):\n",
    "    \"\"\"\n",
    "    최대 공약수 Greatest Common Divisor를 구하는 함수\n",
    "    \"\"\"\n",
    "    nums = [first_num, second_num]\n",
    "    most_num = max(nums)\n",
    "    \n",
    "    for i in range(most_num,0,-1) :\n",
    "        if (first_num % i == 0) and (second_num % i == 0):\n",
    "            global GCD\n",
    "            GCD = i # 두 수의 공약수(나머지가 0이 되게 하는 수) 중 가장 큰 수\n",
    "            # 공약수는 마지막 수인 1이 존재할 수 밖에 없기 때문에, else 작성 X\n",
    "            return GCD\n",
    "           \n",
    "def get_LCM_by_GCD(first_num, second_num, GCD):\n",
    "    \"\"\"\n",
    "    최대 공약수를 활용해\n",
    "    최소 공배수 Largest Common Multiple 를 구하는 함수\n",
    "    \n",
    "    최소공배수 = (0이 아닌) 두 수의 곱 / 최대공약수\n",
    "    \"\"\"\n",
    "    multipl = first_num * second_num\n",
    "    if  multipl != 0:\n",
    "        LCM = multipl/GCD\n",
    "        \n",
    "        return LCM\n",
    "    \n",
    "    else:\n",
    "        return '최소 공배수를 구할 수 없습니다.'\n",
    "    \n",
    "    \n",
    "first_num = int(input('숫자를 입력해주세요 > '))\n",
    "second_num = int(input('숫자를 입력해주세요 > '))\n",
    "\n",
    "print(f'{first_num}, {second_num}의 최대 공약수 > {get_GCD(first_num,second_num)}\\n{first_num}, {second_num}의 최소 공배수 > {get_LCM_by_GCD(first_num,second_num, GCD)}')"
   ]
  },
  {
   "cell_type": "markdown",
   "id": "4e0491de-80e5-4f7b-a13c-d8ce17dc19d8",
   "metadata": {},
   "source": [
    "# 6 완성\n",
    "[ 조건 ]\n",
    "- 첫째 줄에는 별 2×N-1개, 둘째 줄에는 별 2×N-3개, ..., N번째 줄에는 별 1개를 찍는다.\n",
    "- 별은 가운데를 기준으로 대칭이어야 한다.\n",
    "- 입력값: n\n",
    "- 출력값: 첫째 줄부터 N번째 줄까지 차례대로 별을 출력"
   ]
  },
  {
   "cell_type": "code",
   "execution_count": 40,
   "id": "f6ded97e-e1ff-4da4-89ef-213d98cf2ec7",
   "metadata": {},
   "outputs": [
    {
     "name": "stdin",
     "output_type": "stream",
     "text": [
      "수를 입력해주세요: 6\n"
     ]
    },
    {
     "name": "stdout",
     "output_type": "stream",
     "text": [
      "***********\n",
      " *********\n",
      "  *******\n",
      "   *****\n",
      "    ***\n",
      "     *\n"
     ]
    }
   ],
   "source": [
    "n = int(input('수를 입력해주세요:'))\n",
    "\n",
    "\n",
    "for i in range(0,n):\n",
    "    print(' '*(i) + ('*'*(n-i)) + ('*'*(n-1-i)))"
   ]
  },
  {
   "cell_type": "code",
   "execution_count": null,
   "id": "6796ceeb-6d8f-4d74-9746-a7a42ae41411",
   "metadata": {},
   "outputs": [],
   "source": []
  }
 ],
 "metadata": {
  "kernelspec": {
   "display_name": "Python 3 (ipykernel)",
   "language": "python",
   "name": "python3"
  },
  "language_info": {
   "codemirror_mode": {
    "name": "ipython",
    "version": 3
   },
   "file_extension": ".py",
   "mimetype": "text/x-python",
   "name": "python",
   "nbconvert_exporter": "python",
   "pygments_lexer": "ipython3",
   "version": "3.9.7"
  }
 },
 "nbformat": 4,
 "nbformat_minor": 5
}
