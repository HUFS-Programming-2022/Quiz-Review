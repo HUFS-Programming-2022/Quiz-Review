{
 "cells": [
  {
   "cell_type": "markdown",
   "id": "eaeb1371-06a0-493e-80ac-777d721b21c8",
   "metadata": {
    "tags": []
   },
   "source": [
    "### WEEK 3"
   ]
  },
  {
   "cell_type": "code",
   "execution_count": 1,
   "id": "2a3f82b9-0c3f-41ff-ad87-edd44b897d57",
   "metadata": {},
   "outputs": [
    {
     "name": "stdout",
     "output_type": "stream",
     "text": [
      "*** Introductory Examples for the NLTK Book ***\n",
      "Loading text1, ..., text9 and sent1, ..., sent9\n",
      "Type the name of the text or sentence to view it.\n",
      "Type: 'texts()' or 'sents()' to list the materials.\n",
      "text1: Moby Dick by Herman Melville 1851\n",
      "text2: Sense and Sensibility by Jane Austen 1811\n",
      "text3: The Book of Genesis\n",
      "text4: Inaugural Address Corpus\n",
      "text5: Chat Corpus\n",
      "text6: Monty Python and the Holy Grail\n",
      "text7: Wall Street Journal\n",
      "text8: Personals Corpus\n",
      "text9: The Man Who Was Thursday by G . K . Chesterton 1908\n"
     ]
    },
    {
     "data": {
      "text/plain": [
       "True"
      ]
     },
     "execution_count": 1,
     "metadata": {},
     "output_type": "execute_result"
    }
   ],
   "source": [
    "import nltk\n",
    "from nltk import book\n",
    "nltk.download('book', quiet = True)#"
   ]
  },
  {
   "cell_type": "code",
   "execution_count": 27,
   "id": "f8a73838-f842-4955-944d-0e8e0348e7e0",
   "metadata": {},
   "outputs": [
    {
     "data": {
      "text/plain": [
       "['Chapter',\n",
       " 'Thpppppt',\n",
       " 'Thppppt',\n",
       " 'Thpppt',\n",
       " 'Thppt',\n",
       " 'Thppt',\n",
       " 'aptly',\n",
       " 'empty',\n",
       " 'empty',\n",
       " 'excepting',\n",
       " 'ptoo',\n",
       " 'temptation',\n",
       " 'temptress']"
      ]
     },
     "execution_count": 27,
     "metadata": {},
     "output_type": "execute_result"
    }
   ],
   "source": [
    "\"\"\"\n",
    "1. [NLTK] text6에서 pt를 포함하는 단어 리스트를 출력하는 코드를 작성하세요.\n",
    "\"\"\"\n",
    "text6 = book.text6\n",
    "\n",
    "sorted([word for word in text6 if word.isalpha and 'pt' in word.lower()])\n",
    "# 오류가 있다고 리뷰해 주셨는데 어떤 오류인지 스스로 알아낼 수 없어 그대로 올립니다...! 죄송합니다!"
   ]
  },
  {
   "cell_type": "code",
   "execution_count": 28,
   "id": "cf135677-f40d-4c2c-9d0a-3024edb432ae",
   "metadata": {},
   "outputs": [
    {
     "name": "stdin",
     "output_type": "stream",
     "text": [
      "첫 번째 수를 입력해 주세요! 5\n",
      "두 번째 수를 입력해 주세요! 10\n"
     ]
    },
    {
     "data": {
      "text/plain": [
       "50"
      ]
     },
     "execution_count": 28,
     "metadata": {},
     "output_type": "execute_result"
    }
   ],
   "source": [
    "\"\"\"    \n",
    "4. 두 수의 최대공약수와 최소공배수를 구하는 함수를 짜시오. (함수를 각각 만들어서 활용해도 됨)\n",
    "\n",
    "    -공약수(common divisor)란 두 수 이상의 여러 수의 공통된 약수를 의미합니다. 최대공약수(GCD)란 두 수 이상의 여러 수의 공약수 중 최대인 수를 가리킵니다.\n",
    "    -두 수의 최소공배수는 두 수에 서로 공통으로 존재하는 배수 중 가장 작은 수를 뜻합니다.\n",
    "    -힌트: 최소공배수 = (0이 아닌) 두 수의 곱 / 최대공약수\n",
    "\"\"\"\n",
    "# 최대공약수를 구하는 함수\n",
    "def calc_common_divisor(num1, num2):\n",
    "    for i in range(1, min(num1, num2)+1):\n",
    "        #1부터 두 수 중 작은 수까지의 수(i)로 두 수를 나누었을 때, 둘 다 나누어 떨어지면 해당 수(i)가 최대공약수이다!\n",
    "        if num1%i ==0 and num2%i == 0:\n",
    "            return i\n",
    "        \n",
    "# 최소공배수를 구하는 함수\n",
    "def calc_common_multiple(num1, num2, gcd):\n",
    "    # 최소공배수는 0이 아닌 두 수의 곱을 최대공약수로 나눈 값이다!\n",
    "    return int(num1*num2/gcd)\n",
    "\n",
    "# 두 수를 동시에 구하는 함수\n",
    "def calc_common(*args):\n",
    "    num1 = int(input(\"첫 번째 수를 입력해 주세요!\"))\n",
    "    num2 = int(input(\"두 번째 수를 입력해 주세요!\"))\n",
    "    \n",
    "    return calc_common_multiple(num1, num2, calc_common_divisor(num1, num2))\n",
    "\n",
    "\"\"\"\n",
    "<두 수를 동시에 구하는 함수를 만들려 시도했으나 else에서 에러가 발생해 위와 같이 다른 형태로 제출하게 되었습니다...!>\n",
    "def calc_common(*args):\n",
    "    num1 = int(input(\"첫 번째 수를 입력해 주세요!\"))\n",
    "    num2 = int(input(\"두 번째 수를 입력해 주세요!\"))\n",
    "    selection = input(\"다음 중 알고 싶은 수를 선택해 주세요! \\n GCD(최대공약수) LCM(최소공배수)\")\n",
    "    \n",
    "    if num1 != 0 and num2 != 0:\n",
    "        if selection == 'GCD' or '최대공약수':\n",
    "            return calc_common_divisor(num1, num2)\n",
    "    \n",
    "        elif selection == 'LCM' or '최소공배수':\n",
    "            return calc_common_multiple(num1, num2, calc_common_divisor(num1, num2)\n",
    "                                    \n",
    "        else:\n",
    "           print(\"잘못된 입력입니다. 다시 입력해 주세요!\")\n",
    "           return calc_common()  \n",
    "    else:\n",
    "        print(\"0이 아닌 수만을 입력해 주세요!\")\n",
    "        return calc_common()\n",
    "\"\"\"                                                     \n",
    "\n",
    "calc_common(10, 20)"
   ]
  },
  {
   "cell_type": "code",
   "execution_count": 26,
   "id": "6e68c0da-4140-4a8c-a7f4-86af225c2590",
   "metadata": {},
   "outputs": [
    {
     "name": "stdin",
     "output_type": "stream",
     "text": [
      "숫자를 입력하세요 :  10\n"
     ]
    },
    {
     "name": "stdout",
     "output_type": "stream",
     "text": [
      "*******************\n",
      " *****************\n",
      "  ***************\n",
      "   *************\n",
      "    ***********\n",
      "     *********\n",
      "      *******\n",
      "       *****\n",
      "        ***\n",
      "         *\n",
      "          "
     ]
    }
   ],
   "source": [
    "\"\"\" \n",
    "6. 다음 조건에 맞게 별찍기 프로그램을 작성하시오.\n",
    "\n",
    "[ 조건 ]\n",
    "\n",
    "    -첫째 줄에는 별 2×N-1개, 둘째 줄에는 별 2×N-3개, ..., N번째 줄에는 별 1개를 찍는다.\n",
    "\n",
    "    -별은 가운데를 기준으로 대칭이어야 한다.\n",
    "\n",
    "    -입력값: n\n",
    "\n",
    "    -출력값: 첫째 줄부터 N번째 줄까지 차례대로 별을 출력\n",
    "\n",
    "    - (출력 예시) 다음은 n = 5 일때 출력 예시이다. 참고해서 프로그램을 작성하시오.\n",
    "\n",
    "\"\"\"\n",
    "\n",
    "def make_stars():\n",
    "    n = int(input(\"숫자를 입력하세요 : \"))\n",
    "    minus = 1 # 첫째 줄에서는 1만큼 빠지므로 minus는 1로 초기값을 설정해 둔다.\n",
    "    blank = 0 # 첫쩨 줄은 띄우지 않으므로 blank는 0으로 초기값을 설정해 둔다.\n",
    "    \n",
    "    for i in range(n):\n",
    "        print('*'*(2*n-minus))\n",
    "        print(' '*blank, end = ' ') # *과 공백이 같은 줄에 있을 수 있게끔 end를 공백으로 설정해 준다.\n",
    "        minus += 2 # 두 번째 줄은 -3, 세 번째 줄은 -5, ... 와 같이 늘어나므로 빠지는 값이 2씩 늘어나게끔 설정한다.\n",
    "        blank += 1 # 두 번째 줄은 한 칸, 세 번째 줄은 두 칸, ... 과 같이 늘어나므로 공백값이 1씩 늘어나게끔 설정한다.\n",
    "\n",
    "make_stars()    "
   ]
  },
  {
   "cell_type": "code",
   "execution_count": null,
   "id": "24fed7b5-5de0-4f46-b1b9-77f975ad2a2d",
   "metadata": {},
   "outputs": [],
   "source": []
  }
 ],
 "metadata": {
  "kernelspec": {
   "display_name": "Python 3 (ipykernel)",
   "language": "python",
   "name": "python3"
  },
  "language_info": {
   "codemirror_mode": {
    "name": "ipython",
    "version": 3
   },
   "file_extension": ".py",
   "mimetype": "text/x-python",
   "name": "python",
   "nbconvert_exporter": "python",
   "pygments_lexer": "ipython3",
   "version": "3.9.7"
  }
 },
 "nbformat": 4,
 "nbformat_minor": 5
}
