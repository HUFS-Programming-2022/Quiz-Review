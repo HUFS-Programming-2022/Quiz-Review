{
 "cells": [
  {
   "cell_type": "code",
   "execution_count": 1,
   "id": "29c71c8c",
   "metadata": {},
   "outputs": [
    {
     "name": "stdout",
     "output_type": "stream",
     "text": [
      "Requirement already satisfied: nltk in c:\\anaconda3\\lib\\site-packages (3.6.5)\n",
      "Requirement already satisfied: click in c:\\anaconda3\\lib\\site-packages (from nltk) (8.0.3)\n",
      "Requirement already satisfied: joblib in c:\\anaconda3\\lib\\site-packages (from nltk) (1.1.0)\n",
      "Requirement already satisfied: regex>=2021.8.3 in c:\\anaconda3\\lib\\site-packages (from nltk) (2021.8.3)\n",
      "Requirement already satisfied: tqdm in c:\\anaconda3\\lib\\site-packages (from nltk) (4.62.3)\n",
      "Requirement already satisfied: colorama in c:\\anaconda3\\lib\\site-packages (from click->nltk) (0.4.4)\n"
     ]
    }
   ],
   "source": [
    "!pip install nltk"
   ]
  },
  {
   "cell_type": "code",
   "execution_count": 2,
   "id": "a6965fa4",
   "metadata": {},
   "outputs": [
    {
     "name": "stdout",
     "output_type": "stream",
     "text": [
      "*** Introductory Examples for the NLTK Book ***\n",
      "Loading text1, ..., text9 and sent1, ..., sent9\n",
      "Type the name of the text or sentence to view it.\n",
      "Type: 'texts()' or 'sents()' to list the materials.\n",
      "text1: Moby Dick by Herman Melville 1851\n",
      "text2: Sense and Sensibility by Jane Austen 1811\n",
      "text3: The Book of Genesis\n",
      "text4: Inaugural Address Corpus\n",
      "text5: Chat Corpus\n",
      "text6: Monty Python and the Holy Grail\n",
      "text7: Wall Street Journal\n",
      "text8: Personals Corpus\n",
      "text9: The Man Who Was Thursday by G . K . Chesterton 1908\n"
     ]
    },
    {
     "data": {
      "text/plain": [
       "True"
      ]
     },
     "execution_count": 2,
     "metadata": {},
     "output_type": "execute_result"
    }
   ],
   "source": [
    "import nltk\n",
    "from nltk import book\n",
    "nltk.download('book',quiet = True)"
   ]
  },
  {
   "cell_type": "code",
   "execution_count": 3,
   "id": "651d185d",
   "metadata": {},
   "outputs": [
    {
     "name": "stdout",
     "output_type": "stream",
     "text": [
      "['empty', 'aptly', 'Thpppppt', 'Thppt', 'Thppt', 'empty', 'Thppppt', 'temptress', 'temptation', 'ptoo', 'Chapter', 'excepting', 'Thpppt']\n"
     ]
    }
   ],
   "source": [
    "#Quiz03_1.\n",
    "final_list = []\n",
    "wordlist = list(book.text6)\n",
    "for word in wordlist :\n",
    "    if 'pt' in word :\n",
    "        final_list.append(word)\n",
    "        \n",
    "print(final_list)"
   ]
  },
  {
   "cell_type": "code",
   "execution_count": 9,
   "id": "3a793635",
   "metadata": {},
   "outputs": [
    {
     "name": "stdout",
     "output_type": "stream",
     "text": [
      "첫 번째 수를 입력하세요2\n",
      "두 번째 수를 입력하세요5\n",
      "두 수의 최소공약수와 최소공배수: (1, 10)\n"
     ]
    }
   ],
   "source": [
    "#Quiz03_4.\n",
    "num_a = int(input('첫 번째 수를 입력하세요'))\n",
    "num_b = int(input('두 번째 수를 입력하세요'))\n",
    "\n",
    "for i in range (1,min(num_a,num_b)+1) :\n",
    "    if num_a % i == 0 and num_b % i == 0 :\n",
    "        gcd = i\n",
    "lcm = int(num_a * num_b / gcd)\n",
    "\n",
    "print(f'두 수의 최소공약수와 최소공배수: {gcd,lcm}')"
   ]
  },
  {
   "cell_type": "code",
   "execution_count": 10,
   "id": "dcaf7456",
   "metadata": {},
   "outputs": [
    {
     "name": "stdout",
     "output_type": "stream",
     "text": [
      "6\n",
      "***********\n",
      " *********\n",
      "  *******\n",
      "   *****\n",
      "    ***\n",
      "     *\n"
     ]
    }
   ],
   "source": [
    "#Quiz03_6.\n",
    "n = int(input()) \n",
    "for i in range(n,0,-1): \n",
    "    print(\" \"*(n-i)+\"*\"*(i*2-1))"
   ]
  },
  {
   "cell_type": "code",
   "execution_count": null,
   "id": "fa4aa7e1",
   "metadata": {},
   "outputs": [],
   "source": []
  }
 ],
 "metadata": {
  "kernelspec": {
   "display_name": "Python 3 (ipykernel)",
   "language": "python",
   "name": "python3"
  },
  "language_info": {
   "codemirror_mode": {
    "name": "ipython",
    "version": 3
   },
   "file_extension": ".py",
   "mimetype": "text/x-python",
   "name": "python",
   "nbconvert_exporter": "python",
   "pygments_lexer": "ipython3",
   "version": "3.9.7"
  }
 },
 "nbformat": 4,
 "nbformat_minor": 5
}
