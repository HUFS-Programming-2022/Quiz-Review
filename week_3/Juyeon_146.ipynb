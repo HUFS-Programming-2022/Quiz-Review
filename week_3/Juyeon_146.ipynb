{
 "cells": [
  {
   "cell_type": "markdown",
   "id": "2bceee9c-a5d5-427c-a83e-f32693fd9f18",
   "metadata": {},
   "source": [
    "### WEEK 3"
   ]
  },
  {
   "cell_type": "code",
   "execution_count": 2,
   "id": "583c86e7-fa67-4db3-b0c1-4c3349464aa5",
   "metadata": {},
   "outputs": [
    {
     "name": "stdout",
     "output_type": "stream",
     "text": [
      "*** Introductory Examples for the NLTK Book ***\n",
      "Loading text1, ..., text9 and sent1, ..., sent9\n",
      "Type the name of the text or sentence to view it.\n",
      "Type: 'texts()' or 'sents()' to list the materials.\n",
      "text1: Moby Dick by Herman Melville 1851\n",
      "text2: Sense and Sensibility by Jane Austen 1811\n",
      "text3: The Book of Genesis\n",
      "text4: Inaugural Address Corpus\n",
      "text5: Chat Corpus\n",
      "text6: Monty Python and the Holy Grail\n",
      "text7: Wall Street Journal\n",
      "text8: Personals Corpus\n",
      "text9: The Man Who Was Thursday by G . K . Chesterton 1908\n"
     ]
    },
    {
     "data": {
      "text/plain": [
       "True"
      ]
     },
     "execution_count": 2,
     "metadata": {},
     "output_type": "execute_result"
    }
   ],
   "source": [
    "import nltk\n",
    "from nltk import book\n",
    "nltk.download('book', quiet = True)#"
   ]
  },
  {
   "cell_type": "code",
   "execution_count": 85,
   "id": "5cd67894-a863-4924-9371-2726bf1d77b9",
   "metadata": {},
   "outputs": [
    {
     "data": {
      "text/plain": [
       "['Chapter',\n",
       " 'Thpppppt',\n",
       " 'Thppppt',\n",
       " 'Thpppt',\n",
       " 'Thppt',\n",
       " 'Thppt',\n",
       " 'aptly',\n",
       " 'empty',\n",
       " 'empty',\n",
       " 'excepting',\n",
       " 'ptoo',\n",
       " 'temptation',\n",
       " 'temptress']"
      ]
     },
     "execution_count": 85,
     "metadata": {},
     "output_type": "execute_result"
    }
   ],
   "source": [
    "\"\"\"\n",
    "1. [NLTK] text6에서 pt를 포함하는 단어 리스트를 출력하는 코드를 작성하세요.\n",
    "\"\"\"\n",
    "text6 = book.text6\n",
    "\n",
    "sorted([word for word in text6 if word.isalpha and 'pt' in word.lower()])"
   ]
  },
  {
   "cell_type": "code",
   "execution_count": 106,
   "id": "747846be-dd1e-4133-87e8-97069097b0bb",
   "metadata": {},
   "outputs": [
    {
     "name": "stdin",
     "output_type": "stream",
     "text": [
      "숫자를 입력하세요: 6\n",
      "숫자를 입력하세요: 7\n"
     ]
    },
    {
     "data": {
      "text/plain": [
       "['최대공약수 : 1', '최소공배수 : 42']"
      ]
     },
     "execution_count": 106,
     "metadata": {},
     "output_type": "execute_result"
    }
   ],
   "source": [
    "\"\"\"    \n",
    "4. 두 수의 최대공약수와 최소공배수를 구하는 함수를 짜시오. (함수를 각각 만들어서 활용해도 됨)\n",
    "\n",
    "    -공약수(common divisor)란 두 수 이상의 여러 수의 공통된 약수를 의미합니다. 최대공약수(GCD)란 두 수 이상의 여러 수의 공약수 중 최대인 수를 가리킵니다.\n",
    "    -두 수의 최소공배수는 두 수에 서로 공통으로 존재하는 배수 중 가장 작은 수를 뜻합니다.\n",
    "    -힌트: 최소공배수 = (0이 아닌) 두 수의 곱 / 최대공약수\n",
    "\"\"\"\n",
    "\n",
    "def carc_common_multiple(num1, num2):\n",
    "    for i in range(1, min(num1, num2)+1):\n",
    "        if num1%i == 0 and num2%i == 0: \n",
    "            #1부터 두 수 중 작은 수까지의 수(i)로 두 수를 나누었을 때, 둘 다 나누어 떨어지면 해당 수(i)가 최대공약수\n",
    "            gcd = i\n",
    "    common_multiple = ['최대공약수 : '+str(gcd), '최소공배수 : '+str(int(num1*num2/gcd))]\n",
    "    common_multiple   \n",
    "    return common_multiple\n",
    "\n",
    "carc_common_multiple(int(input('숫자를 입력하세요:')), int(input('숫자를 입력하세요:')))"
   ]
  },
  {
   "cell_type": "code",
   "execution_count": 117,
   "id": "66dd7952-8289-438a-a5cb-bf5e97e10b90",
   "metadata": {},
   "outputs": [
    {
     "name": "stdin",
     "output_type": "stream",
     "text": [
      "숫자를 입력하세요 :  5\n"
     ]
    },
    {
     "name": "stdout",
     "output_type": "stream",
     "text": [
      " *********\n",
      "  *******\n",
      "   *****\n",
      "    ***\n",
      "     *\n"
     ]
    }
   ],
   "source": [
    "\"\"\" \n",
    "6. 다음 조건에 맞게 별찍기 프로그램을 작성하시오.\n",
    "\n",
    "[ 조건 ]\n",
    "\n",
    "    -첫째 줄에는 별 2×N-1개, 둘째 줄에는 별 2×N-3개, ..., N번째 줄에는 별 1개를 찍는다.\n",
    "\n",
    "    -별은 가운데를 기준으로 대칭이어야 한다.\n",
    "\n",
    "    -입력값: n\n",
    "\n",
    "    -출력값: 첫째 줄부터 N번째 줄까지 차례대로 별을 출력\n",
    "\n",
    "    - (출력 예시) 다음은 n = 5 일때 출력 예시이다. 참고해서 프로그램을 작성하시오.\n",
    "\n",
    "\"\"\"\n",
    "n = int(input('숫자를 입력하세요 : '))\n",
    "\n",
    "star = 1\n",
    "gap = 0\n",
    "\n",
    "for i in range(n):\n",
    "    print(' '*gap, end = ' ') #한 줄씩 내려갈 때마다 한 칸씩 뒤로 밀리므로 공백을 설정해 줌\n",
    "    print('*'*(2*n - star), end = '\\n') #각 줄마다 별을 출력해 줌, end를 이용해 다음 줄로 넘어가기\n",
    "    star += 2\n",
    "    gap += 1\n"
   ]
  }
 ],
 "metadata": {
  "kernelspec": {
   "display_name": "Python 3 (ipykernel)",
   "language": "python",
   "name": "python3"
  },
  "language_info": {
   "codemirror_mode": {
    "name": "ipython",
    "version": 3
   },
   "file_extension": ".py",
   "mimetype": "text/x-python",
   "name": "python",
   "nbconvert_exporter": "python",
   "pygments_lexer": "ipython3",
   "version": "3.9.7"
  }
 },
 "nbformat": 4,
 "nbformat_minor": 5
}
