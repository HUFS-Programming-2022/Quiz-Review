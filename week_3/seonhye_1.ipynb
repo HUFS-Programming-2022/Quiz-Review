{
 "cells": [
  {
   "cell_type": "markdown",
   "id": "af57fccb-17eb-4ec8-8a3f-16bf9c3c8f8d",
   "metadata": {},
   "source": [
    "#### **문제 1**\n",
    "[NLTK] text6에서 pt를 포함하는 단어 리스트를 출력하는 코드를 작성하세요."
   ]
  },
  {
   "cell_type": "code",
   "execution_count": 6,
   "id": "dd5e6392-5c6c-4243-beb1-a2e69fa8dc11",
   "metadata": {},
   "outputs": [],
   "source": [
    "from nltk import book"
   ]
  },
  {
   "cell_type": "code",
   "execution_count": 21,
   "id": "01b26874-1c46-4cae-b53e-38ea29e364f8",
   "metadata": {},
   "outputs": [
    {
     "data": {
      "text/plain": [
       "['empty',\n",
       " 'aptly',\n",
       " 'Thpppppt',\n",
       " 'Thppt',\n",
       " 'Thppt',\n",
       " 'empty',\n",
       " 'Thppppt',\n",
       " 'temptress',\n",
       " 'temptation',\n",
       " 'ptoo',\n",
       " 'Chapter',\n",
       " 'excepting',\n",
       " 'Thpppt']"
      ]
     },
     "execution_count": 21,
     "metadata": {},
     "output_type": "execute_result"
    }
   ],
   "source": [
    "six_word = book.text6.tokens\n",
    "pt_list = []\n",
    "\n",
    "word_list = [w for w in six_word if w.isalpha()]\n",
    "for word in word_list:\n",
    "    word_list = word.islower()\n",
    "    if 'pt' in word:\n",
    "        pt_list.append(word)\n",
    "\n",
    "pt_list"
   ]
  },
  {
   "cell_type": "markdown",
   "id": "fd538122-1fc3-4445-b7b6-b058977f1c71",
   "metadata": {},
   "source": [
    "#### **문제 3**\n",
    "팩토리얼 구하기"
   ]
  },
  {
   "cell_type": "code",
   "execution_count": 37,
   "id": "84838361-08b4-4991-b371-5846d8aa0602",
   "metadata": {},
   "outputs": [
    {
     "name": "stdin",
     "output_type": "stream",
     "text": [
      "팩토리얼을 구할 수를 입력하시오. 4\n"
     ]
    },
    {
     "name": "stdout",
     "output_type": "stream",
     "text": [
      "3\n",
      "4\n",
      "3\n",
      "0\n",
      "0\n"
     ]
    }
   ],
   "source": [
    "num = int(input('팩토리얼을 구할 수를 입력하시오.'))\n",
    "\n",
    "def factorial(n):\n",
    "    for i in range(1, n+1):\n",
    "        i *= (n-i)\n",
    "        print(i)\n",
    "    return i\n",
    "\n",
    "guess = factorial(num)\n",
    "print(guess)"
   ]
  },
  {
   "cell_type": "code",
   "execution_count": null,
   "id": "0efff506-d454-4d59-80ab-5d028d5342d4",
   "metadata": {},
   "outputs": [],
   "source": []
  }
 ],
 "metadata": {
  "kernelspec": {
   "display_name": "Python 3 (ipykernel)",
   "language": "python",
   "name": "python3"
  },
  "language_info": {
   "codemirror_mode": {
    "name": "ipython",
    "version": 3
   },
   "file_extension": ".py",
   "mimetype": "text/x-python",
   "name": "python",
   "nbconvert_exporter": "python",
   "pygments_lexer": "ipython3",
   "version": "3.9.7"
  }
 },
 "nbformat": 4,
 "nbformat_minor": 5
}
