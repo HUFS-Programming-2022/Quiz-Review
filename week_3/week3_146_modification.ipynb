{
 "cells": [
  {
   "cell_type": "markdown",
   "id": "d45cae23-459d-4a7f-b0e8-fa1112c65cfd",
   "metadata": {},
   "source": [
    "1. [NLTK] text6에서 pt를 포함하는 단어 리스트를 출력하는 코드를 작성하세요"
   ]
  },
  {
   "cell_type": "code",
   "execution_count": 3,
   "id": "23b3aeb4-ec93-48a2-9b3a-c7e327cbed9e",
   "metadata": {},
   "outputs": [
    {
     "name": "stdout",
     "output_type": "stream",
     "text": [
      "*** Introductory Examples for the NLTK Book ***\n",
      "Loading text1, ..., text9 and sent1, ..., sent9\n",
      "Type the name of the text or sentence to view it.\n",
      "Type: 'texts()' or 'sents()' to list the materials.\n",
      "text1: Moby Dick by Herman Melville 1851\n",
      "text2: Sense and Sensibility by Jane Austen 1811\n",
      "text3: The Book of Genesis\n",
      "text4: Inaugural Address Corpus\n",
      "text5: Chat Corpus\n",
      "text6: Monty Python and the Holy Grail\n",
      "text7: Wall Street Journal\n",
      "text8: Personals Corpus\n",
      "text9: The Man Who Was Thursday by G . K . Chesterton 1908\n"
     ]
    },
    {
     "data": {
      "text/plain": [
       "True"
      ]
     },
     "execution_count": 3,
     "metadata": {},
     "output_type": "execute_result"
    }
   ],
   "source": [
    "import nltk\n",
    "from nltk.book import *\n",
    "nltk.download('book', quiet = True)"
   ]
  },
  {
   "cell_type": "code",
   "execution_count": 4,
   "id": "0342fbd9-6834-44f0-b3dd-8fdae3123e52",
   "metadata": {},
   "outputs": [
    {
     "data": {
      "text/plain": [
       "['empty',\n",
       " 'aptly',\n",
       " 'Thpppppt',\n",
       " 'Thppt',\n",
       " 'Thppt',\n",
       " 'empty',\n",
       " 'Thppppt',\n",
       " 'temptress',\n",
       " 'temptation',\n",
       " 'ptoo',\n",
       " 'Chapter',\n",
       " 'excepting',\n",
       " 'Thpppt']"
      ]
     },
     "execution_count": 4,
     "metadata": {},
     "output_type": "execute_result"
    }
   ],
   "source": [
    "[w for w in text6 if 'pt' in w and w.lower()] # 아예 다"
   ]
  },
  {
   "cell_type": "markdown",
   "id": "970f6357-12bd-4f14-9f18-47f1d5e00e68",
   "metadata": {},
   "source": [
    "4. 두 수의 최대공약수와 최소공배수를 구하는 함수를 짜시오. (함수를 각각 만들어서 활용해도 됨)\n",
    "\n",
    "- 공약수(common divisor)란 두 수 이상의 여러 수의 공통된 약수를 의미합니다. 최대공약수(GCD)란 두 수 이상의 여러 수의 공약수 중 최대인 수를 가리킵니다.\n",
    "- 두 수의 최소공배수는 두 수에 서로 공통으로 존재하는 배수 중 가장 작은 수를 뜻합니다.\n",
    "- 힌트: 최소공배수 = (0이 아닌) 두 수의 곱 / 최대공약수"
   ]
  },
  {
   "cell_type": "code",
   "execution_count": 5,
   "id": "f1e8d11e-4b24-47b9-9f5e-7810bf068dbb",
   "metadata": {},
   "outputs": [
    {
     "name": "stdout",
     "output_type": "stream",
     "text": [
      "12\n",
      "5\n"
     ]
    }
   ],
   "source": [
    "#유클리드 호제법\n",
    "#최대공약수\n",
    "\n",
    "def GCD(x,y):\n",
    "    while y: # y가 자연수일 때\n",
    "        x , y = y , x % y # 나머지가 0일 때의 y값이 최대공약수.\n",
    "        return x\n",
    "\n",
    "print(GCD(10,12))\n",
    "\n",
    "#최소공배수\n",
    "def LCM(x,y):\n",
    "    result = (x*y) // GCD(x,y) #최소공배수 = 두 수의 곱 // 최대공약수\n",
    "    return result\n",
    "\n",
    "print(LCM(5,7))\n"
   ]
  },
  {
   "attachments": {
    "34de99a1-f53e-4c77-a6ed-f8869c98d433.png": {
     "image/png": "[encoded data removed]"
    },
    "cbc7ee48-e104-4d1a-94d8-cfce82b51bba.png": {
     "image/png": "[encoded data removed]"
    }
   },
   "cell_type": "markdown",
   "id": "111ad10c-bbe5-49f4-801f-e91b2b77085a",
   "metadata": {},
   "source": [
    "6. 다음 조건에 맞게 별찍기 프로그램을 작성하시오.\n",
    "\n",
    "[ 조건 ]\n",
    "\n",
    "- 첫째 줄에는 별 2×N-1개, 둘째 줄에는 별 2×N-3개, ..., N번째 줄에는 별 1개를 찍는다.\n",
    "\n",
    "- 별은 가운데를 기준으로 대칭이어야 한다.\n",
    "\n",
    "- 입력값: n\n",
    "\n",
    "\n",
    "- 출력값: 첫째 줄부터 N번째 줄까지 차례대로 별을 출력\n",
    "\n",
    "\n",
    "- (출력 예시) 다음은 n = 5 일때 출력 예시이다. 참고해서 프로그램을 작성하시오.\n",
    "\n",
    "\n",
    "![image.png](attachment:cbc7ee48-e104-4d1a-94d8-cfce82b51bba.png)![image.png](attachment:34de99a1-f53e-4c77-a6ed-f8869c98d433.png)"
   ]
  },
  {
   "cell_type": "code",
   "execution_count": 22,
   "id": "3e9a804a-d56d-4224-80e0-e82c3a572270",
   "metadata": {},
   "outputs": [
    {
     "name": "stdin",
     "output_type": "stream",
     "text": [
      " 5\n"
     ]
    },
    {
     "name": "stdout",
     "output_type": "stream",
     "text": [
      "*********\n",
      " *******\n",
      "  *****\n",
      "   ***\n",
      "    *\n"
     ]
    }
   ],
   "source": [
    "n = int(input())\n",
    "star = '*'\n",
    "space = ' '\n",
    "\n",
    "for i in range(0, n):\n",
    "    print(space * i, end='')\n",
    "    print(star * (n - i), end='')\n",
    "    print(star * (n - i - 1))"
   ]
  },
  {
   "cell_type": "code",
   "execution_count": null,
   "id": "511d1783-97b1-42c3-bf75-81b61c73fc5d",
   "metadata": {},
   "outputs": [],
   "source": []
  }
 ],
 "metadata": {
  "kernelspec": {
   "display_name": "Python 3 (ipykernel)",
   "language": "python",
   "name": "python3"
  },
  "language_info": {
   "codemirror_mode": {
    "name": "ipython",
    "version": 3
   },
   "file_extension": ".py",
   "mimetype": "text/x-python",
   "name": "python",
   "nbconvert_exporter": "python",
   "pygments_lexer": "ipython3",
   "version": "3.9.7"
  }
 },
 "nbformat": 4,
 "nbformat_minor": 5
}
