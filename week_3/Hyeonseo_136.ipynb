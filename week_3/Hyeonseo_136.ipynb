{
 "cells": [
  {
   "cell_type": "code",
   "execution_count": 1,
   "id": "682bd87a",
   "metadata": {},
   "outputs": [
    {
     "name": "stdout",
     "output_type": "stream",
     "text": [
      "Requirement already satisfied: nltk in c:\\anaconda3\\lib\\site-packages (3.6.5)\n",
      "Requirement already satisfied: click in c:\\anaconda3\\lib\\site-packages (from nltk) (8.0.3)\n",
      "Requirement already satisfied: joblib in c:\\anaconda3\\lib\\site-packages (from nltk) (1.1.0)\n",
      "Requirement already satisfied: regex>=2021.8.3 in c:\\anaconda3\\lib\\site-packages (from nltk) (2021.8.3)\n",
      "Requirement already satisfied: tqdm in c:\\anaconda3\\lib\\site-packages (from nltk) (4.62.3)\n",
      "Requirement already satisfied: colorama in c:\\anaconda3\\lib\\site-packages (from click->nltk) (0.4.4)\n"
     ]
    }
   ],
   "source": [
    "!pip install nltk"
   ]
  },
  {
   "cell_type": "code",
   "execution_count": 2,
   "id": "e776e5c6",
   "metadata": {},
   "outputs": [
    {
     "name": "stdout",
     "output_type": "stream",
     "text": [
      "*** Introductory Examples for the NLTK Book ***\n",
      "Loading text1, ..., text9 and sent1, ..., sent9\n",
      "Type the name of the text or sentence to view it.\n",
      "Type: 'texts()' or 'sents()' to list the materials.\n",
      "text1: Moby Dick by Herman Melville 1851\n",
      "text2: Sense and Sensibility by Jane Austen 1811\n",
      "text3: The Book of Genesis\n",
      "text4: Inaugural Address Corpus\n",
      "text5: Chat Corpus\n",
      "text6: Monty Python and the Holy Grail\n",
      "text7: Wall Street Journal\n",
      "text8: Personals Corpus\n",
      "text9: The Man Who Was Thursday by G . K . Chesterton 1908\n",
      "['empty', 'aptly', 'Thpppppt', 'Thppt', 'Thppt', 'empty', 'Thppppt', 'temptress', 'temptation', 'ptoo', 'Chapter', 'excepting', 'Thpppt']\n"
     ]
    }
   ],
   "source": [
    "import nltk\n",
    "from nltk import book\n",
    "nltk.download('book',quiet = True)"
   ]
  },
  {
   "cell_type": "code",
   "execution_count": 7,
   "id": "9af76761",
   "metadata": {},
   "outputs": [
    {
     "name": "stdout",
     "output_type": "stream",
     "text": [
      "['empty', 'aptly', 'Thpppppt', 'Thppt', 'Thppt', 'empty', 'Thppppt', 'temptress', 'temptation', 'ptoo', 'Chapter', 'excepting', 'Thpppt']\n"
     ]
    }
   ],
   "source": [
    "#Quiz03_1.\n",
    "final_list = []\n",
    "wordlist = list(book.text6)\n",
    "[final_list.append(word) for word in wordlist if 'pt' in word]\n",
    "        \n",
    "print(final_list)"
   ]
  },
  {
   "cell_type": "code",
   "execution_count": 12,
   "id": "39a78b7c",
   "metadata": {},
   "outputs": [
    {
     "name": "stdout",
     "output_type": "stream",
     "text": [
      "27\n",
      "10888869450418352160768000000,6\n"
     ]
    }
   ],
   "source": [
    "#Quiz03_3.\n",
    "fact_num = int(input())\n",
    "factorial = 1\n",
    "answer_num = 0\n",
    "\n",
    "for i in range (1,fact_num+1) :\n",
    "    factorial *= i\n",
    "factorial = (str(factorial)[::-1])\n",
    "for i in range (1, len(factorial)) :\n",
    "    if factorial[i] != '0':\n",
    "        answer_num += i\n",
    "        break\n",
    "        \n",
    "print(f'{factorial[::-1]},{answer_num}')"
   ]
  },
  {
   "cell_type": "code",
   "execution_count": 10,
   "id": "1b6aaaab",
   "metadata": {},
   "outputs": [
    {
     "name": "stdout",
     "output_type": "stream",
     "text": [
      "6\n",
      "***********\n",
      " ********* \n",
      "  *******  \n",
      "   *****   \n",
      "    ***    \n",
      "     *     \n",
      "            \n"
     ]
    }
   ],
   "source": [
    "#Quiz03_6.\n",
    "blank = ' '\n",
    "star = '*'\n",
    "n = int(input()) \n",
    "for i in range(0, n+1) :\n",
    "    print(blank*i + star *(2*(n-i)-1) + blank*i)"
   ]
  },
  {
   "cell_type": "code",
   "execution_count": null,
   "id": "bcc843e6",
   "metadata": {},
   "outputs": [],
   "source": []
  }
 ],
 "metadata": {
  "kernelspec": {
   "display_name": "Python 3 (ipykernel)",
   "language": "python",
   "name": "python3"
  },
  "language_info": {
   "codemirror_mode": {
    "name": "ipython",
    "version": 3
   },
   "file_extension": ".py",
   "mimetype": "text/x-python",
   "name": "python",
   "nbconvert_exporter": "python",
   "pygments_lexer": "ipython3",
   "version": "3.9.7"
  }
 },
 "nbformat": 4,
 "nbformat_minor": 5
}
