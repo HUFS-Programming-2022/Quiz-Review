{
 "cells": [
  {
   "cell_type": "markdown",
   "id": "eef47f61",
   "metadata": {},
   "source": [
    "1. [NLTK] text6에서 pt를 포함하는 단어 리스트를 출력하는 코드를 작성하세요.\n",
    "\n",
    "2. [NLTK] nltk.book 텍스트들을 순회하며 각 코퍼스에서 what, when, where, who, why, which의 빈도수를 출력하는 코드를 작성하세요.\n",
    "\n",
    "단, 단어는 모두 소문자화함.\n",
    "전체 코드가 하나의 루프 안에 존재해야 함.\n",
    "프린트는 다음의 형식으로 맞춰야 함 텍스트1: what=3번, when=4번, where=6번, who=3번, why=11번, which=44번\n",
    "\n",
    "3. 팩토리얼이란 다음과 같다.\n",
    "\n",
    " 1! = 1 2! = 1 * 2 3! = 1 * 2 * 3 ... n! = 1 * 2 *3 * ... * n\n",
    "\n",
    "팩토리얼을 구한 뒤, 결과값의 맨 마지막 자리에서 시작해서 처음으로 0이 아닌 숫자가 나올 때까지 0의 개수를 구하는 함수를 만드시오. 예: 80000300 => 2개\n",
    "\n",
    "입력값= n\n",
    "출력값= 결과값, 0 개수\n",
    "\n",
    "4. 두 수의 최대공약수와 최소공배수를 구하는 함수를 짜시오. (함수를 각각 만들어서 활용해도 됨)\n",
    "\n",
    "공약수(common divisor)란 두 수 이상의 여러 수의 공통된 약수를 의미합니다. 최대공약수(GCD)란 두 수 이상의 여러 수의 공약수 중 최대인 수를 가리킵니다.\n",
    "두 수의 최소공배수는 두 수에 서로 공통으로 존재하는 배수 중 가장 작은 수를 뜻합니다.\n",
    "힌트: 최소공배수 = (0이 아닌) 두 수의 곱 / 최대공약수\n",
    "\n",
    "5. 다음과 같은 규칙을 따르는 프로그램이 있다고 하자.\n",
    "\n",
    "주어진 수가 10보다 작다면 앞에 0을 붙여 두 자리 수로 만들고, 각 자리의 숫자를 더한다. 그 다음, 주어진 수의 가장 오른쪽 자리 수와 앞에서 구한 합의 가장 오른쪽 자리 수를 이어 붙이면 새로운 수를 만들 수 있다.\n",
    "\n",
    "예를 들어, 26은 2+6 = 8이다. 새로운 수는 68이다. 6+8 = 14이다. 새로운 수는 84이다. 8+4 = 12이다. 새로운 수는 42이다. 4+2 = 6이다. 새로운 수는 26이다. 26은 4번만에 원래 수로 돌아올 수 있다. 따라서 26의 사이클의 길이는 4이다.\n",
    "\n",
    "n이 주어졌을 때, n의 사이클의 길이를 구하는 프로그램을 작성하시오.\n",
    "\n",
    "입력: n (n은 0보다 크거나 같고, 99보다 작거나 같은 정수)\n",
    "출력: n의 사이클 길이\n",
    "\n",
    "6. 다음 조건에 맞게 별찍기 프로그램을 작성하시오.\n",
    "\n",
    "[ 조건 ]\n",
    "\n",
    "첫째 줄에는 별 2×N-1개, 둘째 줄에는 별 2×N-3개, ..., N번째 줄에는 별 1개를 찍는다.\n",
    "\n",
    "별은 가운데를 기준으로 대칭이어야 한다.\n",
    "\n",
    "입력값: n\n",
    "\n",
    "출력값: 첫째 줄부터 N번째 줄까지 차례대로 별을 출력\n",
    "\n",
    "(출력 예시) 다음은 n = 5 일때 출력 예시이다. 참고해서 프로그램을 작성하시오."
   ]
  },
  {
   "cell_type": "code",
   "execution_count": 1,
   "id": "fcf5be9d",
   "metadata": {},
   "outputs": [
    {
     "name": "stdout",
     "output_type": "stream",
     "text": [
      "*** Introductory Examples for the NLTK Book ***\n",
      "Loading text1, ..., text9 and sent1, ..., sent9\n",
      "Type the name of the text or sentence to view it.\n",
      "Type: 'texts()' or 'sents()' to list the materials.\n",
      "text1: Moby Dick by Herman Melville 1851\n",
      "text2: Sense and Sensibility by Jane Austen 1811\n",
      "text3: The Book of Genesis\n",
      "text4: Inaugural Address Corpus\n",
      "text5: Chat Corpus\n",
      "text6: Monty Python and the Holy Grail\n",
      "text7: Wall Street Journal\n",
      "text8: Personals Corpus\n",
      "text9: The Man Who Was Thursday by G . K . Chesterton 1908\n"
     ]
    },
    {
     "data": {
      "text/plain": [
       "['empty',\n",
       " 'aptly',\n",
       " 'Thpppppt',\n",
       " 'Thppt',\n",
       " 'Thppt',\n",
       " 'empty',\n",
       " 'Thppppt',\n",
       " 'temptress',\n",
       " 'temptation',\n",
       " 'ptoo',\n",
       " 'Chapter',\n",
       " 'excepting',\n",
       " 'Thpppt']"
      ]
     },
     "execution_count": 1,
     "metadata": {},
     "output_type": "execute_result"
    }
   ],
   "source": [
    "#1\n",
    "import nltk\n",
    "from nltk.book import *\n",
    "[word for word in text6 if 'pt' in word.lower()]"
   ]
  },
  {
   "cell_type": "code",
   "execution_count": 39,
   "id": "ffd4be48",
   "metadata": {},
   "outputs": [
    {
     "name": "stdout",
     "output_type": "stream",
     "text": [
      "<Text: Moby Dick by Herman Melville 1851>: what=618번, when=606번, where=220번, who=363번, why=119번, which=648번\n",
      "<Text: Sense and Sensibility by Jane Austen 1811>: what=444번, when=306번, where=91번, who=269번, why=49번, which=593번\n",
      "<Text: The Book of Genesis>: what=46번, when=120번, where=25번, who=24번, why=8번, which=199번\n",
      "<Text: Inaugural Address Corpus>: what=183번, when=221번, where=73번, who=381번, why=16번, which=1007번\n",
      "<Text: Chat Corpus>: what=201번, when=54번, where=66번, who=106번, why=65번, which=6번\n",
      "<Text: Monty Python and the Holy Grail>: what=92번, when=14번, where=14번, who=46번, why=7번, which=11번\n",
      "<Text: Wall Street Journal>: what=71번, when=98번, where=36번, who=167번, why=14번, which=225번\n",
      "<Text: Personals Corpus>: what=0번, when=1번, where=0번, who=17번, why=0번, which=0번\n",
      "<Text: The Man Who Was Thursday by G . K . Chesterton 1908>: what=171번, when=140번, where=43번, who=177번, why=54번, which=199번\n"
     ]
    }
   ],
   "source": [
    "#2\n",
    "import nltk\n",
    "from nltk.book import *\n",
    "text=[text1, text2, text3, text4, text5, text6, text7, text8, text9]\n",
    "for word in text:\n",
    "    text_list = [w.lower() for w in word]\n",
    "    print(f'{word}: what={text_list.count(\"what\")}번, when={text_list.count(\"when\")}번, where={text_list.count(\"where\")}번, who={text_list.count(\"who\")}번, why={text_list.count(\"why\")}번, which={text_list.count(\"which\")}번')"
   ]
  },
  {
   "cell_type": "code",
   "execution_count": null,
   "id": "2325cba5",
   "metadata": {},
   "outputs": [],
   "source": [
    "def factorial():\n",
    "    num = int(input())\n",
    "    result = 1\n",
    "    for i in range(1, num+1, 1):\n",
    "        result *= i "
   ]
  },
  {
   "cell_type": "code",
   "execution_count": 20,
   "id": "95f2001b",
   "metadata": {},
   "outputs": [
    {
     "name": "stdout",
     "output_type": "stream",
     "text": [
      "결과= 120, 끝자리 0의 개수= 1\n"
     ]
    },
    {
     "data": {
      "text/plain": [
       "5"
      ]
     },
     "execution_count": 20,
     "metadata": {},
     "output_type": "execute_result"
    }
   ],
   "source": [
    "#3\n",
    "def factorial(num):\n",
    "    i = 1\n",
    "    for n in range(1, num+1):\n",
    "        i *= n\n",
    "        \n",
    "        # 0 개수 세기\n",
    "        zeros = count_zeros(i)\n",
    "        if zeros:\n",
    "            print('결과= {}, 끝자리 0의 개수= {}'.format(i, zeros))\n",
    "            break\n",
    "    return n\n",
    "\n",
    "def count_zeros(num:int):\n",
    "    zero = '0'\n",
    "    str_num = str(num)\n",
    "    if str_num.endswith(zero):\n",
    "        index = str_num.find(zero)\n",
    "        return len(str_num) - index\n",
    "    \n",
    "    \n",
    "factorial(5)"
   ]
  },
  {
   "cell_type": "code",
   "execution_count": null,
   "id": "07216489",
   "metadata": {},
   "outputs": [],
   "source": [
    "# 4\n",
    "a=int(input())\n",
    "b=int(input())\n",
    "\n",
    "def gcd(a, b):\n",
    "    for i in range(min(a, b), 0, -1):\n",
    "        if a % i == 0 and b % i == 0:\n",
    "            return i\n",
    "        \n",
    "def lcm(a, b):\n",
    "    for i in range(min(a, b), 0, -1):\n",
    "        if a%i==0 and b%i==0:\n",
    "            gcd=i\n",
    "        return int(a*b/gcd)\n",
    "    \n",
    "print(gcd(a, b))\n",
    "print(lcm(a, b))"
   ]
  },
  {
   "cell_type": "code",
   "execution_count": null,
   "id": "fc59367d",
   "metadata": {},
   "outputs": [
    {
     "name": "stdout",
     "output_type": "stream",
     "text": [
      "26\n"
     ]
    }
   ],
   "source": [
    "#5\n",
    "n = int(input())\n",
    "count=1\n",
    "\n",
    "if n < 10:\n",
    "    n='0'+str(n)\n",
    "    \n",
    "n=str(n)\n",
    "while True:\n",
    "    num = n[0] + n[1]\n",
    "    if len(str(num))==1:\n",
    "        n=str(n)[1] + str(num)[0]\n",
    "    else:\n",
    "        n=str(n)[1] + str(n)[1]\n",
    "    if n==int(num):\n",
    "        break\n",
    "    count+=1\n",
    "print(count)"
   ]
  },
  {
   "cell_type": "code",
   "execution_count": 14,
   "id": "e00c95bb",
   "metadata": {},
   "outputs": [
    {
     "name": "stdout",
     "output_type": "stream",
     "text": [
      "3\n",
      "*****\n",
      " ***\n",
      "  *\n"
     ]
    }
   ],
   "source": [
    "#6\n",
    "n=int(input())\n",
    "for i in range(n, 0, -1):\n",
    "    print(' '*(n-i)+'*'*((i*2)-1))"
   ]
  },
  {
   "cell_type": "code",
   "execution_count": null,
   "id": "14a32dae",
   "metadata": {},
   "outputs": [],
   "source": []
  }
 ],
 "metadata": {
  "kernelspec": {
   "display_name": "Python 3 (ipykernel)",
   "language": "python",
   "name": "python3"
  },
  "language_info": {
   "codemirror_mode": {
    "name": "ipython",
    "version": 3
   },
   "file_extension": ".py",
   "mimetype": "text/x-python",
   "name": "python",
   "nbconvert_exporter": "python",
   "pygments_lexer": "ipython3",
   "version": "3.9.7"
  }
 },
 "nbformat": 4,
 "nbformat_minor": 5
}
