{
 "cells": [
  {
   "cell_type": "code",
   "execution_count": 43,
   "id": "06c1fdb3",
   "metadata": {},
   "outputs": [
    {
     "name": "stdout",
     "output_type": "stream",
     "text": [
      "*** Introductory Examples for the NLTK Book ***\n",
      "Loading text1, ..., text9 and sent1, ..., sent9\n",
      "Type the name of the text or sentence to view it.\n",
      "Type: 'texts()' or 'sents()' to list the materials.\n",
      "text1: Moby Dick by Herman Melville 1851\n",
      "text2: Sense and Sensibility by Jane Austen 1811\n",
      "text3: The Book of Genesis\n",
      "text4: Inaugural Address Corpus\n",
      "text5: Chat Corpus\n",
      "text6: Monty Python and the Holy Grail\n",
      "text7: Wall Street Journal\n",
      "text8: Personals Corpus\n",
      "text9: The Man Who Was Thursday by G . K . Chesterton 1908\n"
     ]
    }
   ],
   "source": [
    "import nltk\n",
    "from nltk.book import *"
   ]
  },
  {
   "cell_type": "code",
   "execution_count": 44,
   "id": "d2f198b6",
   "metadata": {},
   "outputs": [
    {
     "data": {
      "text/plain": [
       "['empty',\n",
       " 'aptly',\n",
       " 'Thpppppt',\n",
       " 'Thppt',\n",
       " 'Thppt',\n",
       " 'empty',\n",
       " 'Thppppt',\n",
       " 'temptress',\n",
       " 'temptation',\n",
       " 'ptoo',\n",
       " 'Chapter',\n",
       " 'excepting',\n",
       " 'Thpppt']"
      ]
     },
     "execution_count": 44,
     "metadata": {},
     "output_type": "execute_result"
    }
   ],
   "source": [
    "# 1)\n",
    "[word for word in text6 if 'pt' in word]"
   ]
  },
  {
   "cell_type": "code",
   "execution_count": 45,
   "id": "47a477e0",
   "metadata": {},
   "outputs": [
    {
     "name": "stdout",
     "output_type": "stream",
     "text": [
      "<Text: Moby Dick by Herman Melville 1851> : what=618번, when=606번, where=220번, who=363번, why=119번, which=648번\n",
      "<Text: Sense and Sensibility by Jane Austen 1811> : what=444번, when=306번, where=91번, who=269번, why=49번, which=593번\n",
      "<Text: The Book of Genesis> : what=46번, when=120번, where=25번, who=24번, why=8번, which=199번\n",
      "<Text: Inaugural Address Corpus> : what=183번, when=221번, where=73번, who=381번, why=16번, which=1007번\n",
      "<Text: Chat Corpus> : what=201번, when=54번, where=66번, who=106번, why=65번, which=6번\n",
      "<Text: Monty Python and the Holy Grail> : what=92번, when=14번, where=14번, who=46번, why=7번, which=11번\n",
      "<Text: Wall Street Journal> : what=71번, when=98번, where=36번, who=167번, why=14번, which=225번\n",
      "<Text: Personals Corpus> : what=0번, when=1번, where=0번, who=17번, why=0번, which=0번\n",
      "<Text: The Man Who Was Thursday by G . K . Chesterton 1908> : what=171번, when=140번, where=43번, who=177번, why=54번, which=199번\n"
     ]
    }
   ],
   "source": [
    "# 2)\n",
    "texts = [text1, text2, text3, text4, text5, text6, text7, text8, text9]\n",
    "for text in (getattr(nltk.book, f'text{i}')for i in range(1,10)):\n",
    "    text_lower_list = [w.lower() for w in text]\n",
    "    print(f\"{text} : what={text_lower_list.count('what')}번, when={text_lower_list.count('when')}번, where={text_lower_list.count('where')}번, who={text_lower_list.count('who')}번, why={text_lower_list.count('why')}번, which={text_lower_list.count('which')}번\")"
   ]
  },
  {
   "cell_type": "code",
   "execution_count": 46,
   "id": "aa3ca82d",
   "metadata": {},
   "outputs": [
    {
     "name": "stdout",
     "output_type": "stream",
     "text": [
      "숫자 입력 >100\n"
     ]
    },
    {
     "data": {
      "text/plain": [
       "'93326215443944152681699238856266700490715968264381621468592963895217599993229915608941463976156518286253697920827223758251185210916864000000000000000000000000, 24개'"
      ]
     },
     "execution_count": 46,
     "metadata": {},
     "output_type": "execute_result"
    }
   ],
   "source": [
    "# 3)\n",
    "def zero_count():\n",
    "    number = int(input('숫자 입력 >'))\n",
    "    pactorial = 1\n",
    "    num_zero = 0\n",
    "    for i in range(1, number+1):\n",
    "        pactorial *= i\n",
    "    new_pac = str(pactorial)\n",
    "\n",
    "    for i in range(0, len(new_pac)):\n",
    "        if new_pac[::-1][i] != '0':\n",
    "            break\n",
    "        else:\n",
    "            num_zero += 1\n",
    "    return f'{pactorial}, {num_zero}개'\n",
    "zero_count()"
   ]
  }
 ],
 "metadata": {
  "kernelspec": {
   "display_name": "Python 3 (ipykernel)",
   "language": "python",
   "name": "python3"
  },
  "language_info": {
   "codemirror_mode": {
    "name": "ipython",
    "version": 3
   },
   "file_extension": ".py",
   "mimetype": "text/x-python",
   "name": "python",
   "nbconvert_exporter": "python",
   "pygments_lexer": "ipython3",
   "version": "3.9.7"
  }
 },
 "nbformat": 4,
 "nbformat_minor": 5
}
