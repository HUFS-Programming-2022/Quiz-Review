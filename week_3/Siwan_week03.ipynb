{
 "cells": [
  {
   "cell_type": "code",
   "execution_count": 43,
   "id": "06c1fdb3",
   "metadata": {},
   "outputs": [
    {
     "name": "stdout",
     "output_type": "stream",
     "text": [
      "*** Introductory Examples for the NLTK Book ***\n",
      "Loading text1, ..., text9 and sent1, ..., sent9\n",
      "Type the name of the text or sentence to view it.\n",
      "Type: 'texts()' or 'sents()' to list the materials.\n",
      "text1: Moby Dick by Herman Melville 1851\n",
      "text2: Sense and Sensibility by Jane Austen 1811\n",
      "text3: The Book of Genesis\n",
      "text4: Inaugural Address Corpus\n",
      "text5: Chat Corpus\n",
      "text6: Monty Python and the Holy Grail\n",
      "text7: Wall Street Journal\n",
      "text8: Personals Corpus\n",
      "text9: The Man Who Was Thursday by G . K . Chesterton 1908\n"
     ]
    }
   ],
   "source": [
    "import nltk\n",
    "from nltk.book import *"
   ]
  },
  {
   "cell_type": "code",
   "execution_count": 44,
   "id": "d2f198b6",
   "metadata": {},
   "outputs": [
    {
     "data": {
      "text/plain": [
       "['empty',\n",
       " 'aptly',\n",
       " 'Thpppppt',\n",
       " 'Thppt',\n",
       " 'Thppt',\n",
       " 'empty',\n",
       " 'Thppppt',\n",
       " 'temptress',\n",
       " 'temptation',\n",
       " 'ptoo',\n",
       " 'Chapter',\n",
       " 'excepting',\n",
       " 'Thpppt']"
      ]
     },
     "execution_count": 44,
     "metadata": {},
     "output_type": "execute_result"
    }
   ],
   "source": [
    "# 1)\n",
    "[word for word in text6 if 'pt' in word]"
   ]
  },
  {
   "cell_type": "markdown",
   "id": "668da690-6813-40e6-8041-80b4d07461b1",
   "metadata": {},
   "source": [
    "### >>코멘트\n",
    "- PT, pT, Pt와 같은 모든 경우 아우르지 못함"
   ]
  },
  {
   "cell_type": "code",
   "execution_count": 45,
   "id": "47a477e0",
   "metadata": {},
   "outputs": [
    {
     "name": "stdout",
     "output_type": "stream",
     "text": [
      "<Text: Moby Dick by Herman Melville 1851> : what=618번, when=606번, where=220번, who=363번, why=119번, which=648번\n",
      "<Text: Sense and Sensibility by Jane Austen 1811> : what=444번, when=306번, where=91번, who=269번, why=49번, which=593번\n",
      "<Text: The Book of Genesis> : what=46번, when=120번, where=25번, who=24번, why=8번, which=199번\n",
      "<Text: Inaugural Address Corpus> : what=183번, when=221번, where=73번, who=381번, why=16번, which=1007번\n",
      "<Text: Chat Corpus> : what=201번, when=54번, where=66번, who=106번, why=65번, which=6번\n",
      "<Text: Monty Python and the Holy Grail> : what=92번, when=14번, where=14번, who=46번, why=7번, which=11번\n",
      "<Text: Wall Street Journal> : what=71번, when=98번, where=36번, who=167번, why=14번, which=225번\n",
      "<Text: Personals Corpus> : what=0번, when=1번, where=0번, who=17번, why=0번, which=0번\n",
      "<Text: The Man Who Was Thursday by G . K . Chesterton 1908> : what=171번, when=140번, where=43번, who=177번, why=54번, which=199번\n"
     ]
    }
   ],
   "source": [
    "# 2)\n",
    "texts = [text1, text2, text3, text4, text5, text6, text7, text8, text9]\n",
    "for text in (getattr(nltk.book, f'text{i}')for i in range(1,10)):\n",
    "    text_lower_list = [w.lower() for w in text]\n",
    "    print(f\"{text} : what={text_lower_list.count('what')}번, when={text_lower_list.count('when')}번, where={text_lower_list.count('where')}번, who={text_lower_list.count('who')}번, why={text_lower_list.count('why')}번, which={text_lower_list.count('which')}번\")"
   ]
  },
  {
   "cell_type": "markdown",
   "id": "7615a3b6-c6eb-4c0b-b349-5b6a47124ba3",
   "metadata": {},
   "source": [
    "### >>코멘트\n",
    "- 하드코딩 피할 것\n",
    "- cfd 활용할 것\n",
    "- count 쓰지 말 것"
   ]
  },
  {
   "cell_type": "code",
   "execution_count": 46,
   "id": "aa3ca82d",
   "metadata": {},
   "outputs": [
    {
     "name": "stdout",
     "output_type": "stream",
     "text": [
      "숫자 입력 >100\n"
     ]
    },
    {
     "data": {
      "text/plain": [
       "'93326215443944152681699238856266700490715968264381621468592963895217599993229915608941463976156518286253697920827223758251185210916864000000000000000000000000, 24개'"
      ]
     },
     "execution_count": 46,
     "metadata": {},
     "output_type": "execute_result"
    }
   ],
   "source": [
    "# 3)\n",
    "def zero_count():\n",
    "    number = int(input('숫자 입력 >'))\n",
    "    pactorial = 1\n",
    "    num_zero = 0\n",
    "    for i in range(1, number+1):\n",
    "        pactorial *= i\n",
    "    new_pac = str(pactorial)\n",
    "\n",
    "    for i in range(0, len(new_pac)):\n",
    "        if new_pac[::-1][i] != '0':\n",
    "            break\n",
    "        else:\n",
    "            num_zero += 1\n",
    "    return f'{pactorial}, {num_zero}개'\n",
    "zero_count()"
   ]
  },
  {
   "cell_type": "markdown",
   "id": "2b11c4c3-8664-4852-94db-bd991bd5ddcb",
   "metadata": {},
   "source": [
    "### >>코멘트\n",
    "- input 삭제하기\n",
    "- 함수는 2개로 나누는 게 직관적임 (팩토리얼, 끝자리 개수 구하는 함수)\n",
    "- 0의 개수를 for loop으로 세지 말고 인덱스 찾는 방법으로 접근할 것"
   ]
  },
  {
   "cell_type": "code",
   "execution_count": 18,
   "id": "ee8b639b-3026-4d3b-9fba-e21f581f3025",
   "metadata": {},
   "outputs": [
    {
     "name": "stdout",
     "output_type": "stream",
     "text": [
      "결과= 120, 끝자리 0의 개수= 1\n"
     ]
    },
    {
     "data": {
      "text/plain": [
       "5"
      ]
     },
     "execution_count": 18,
     "metadata": {},
     "output_type": "execute_result"
    }
   ],
   "source": [
    "def factorial(num):\n",
    "    i = 1\n",
    "    for n in range(1, num+1):\n",
    "        i *= n\n",
    "        \n",
    "        # 0 개수 세기\n",
    "        zeros = count_zeros(i)\n",
    "        if zeros:\n",
    "            print('결과= {}, 끝자리 0의 개수= {}'.format(i, zeros))\n",
    "            break\n",
    "    return n\n",
    "\n",
    "def count_zeros(num:int):\n",
    "    zero = '0'\n",
    "    str_num = str(num)\n",
    "    if str_num.endswith(zero):\n",
    "        index = str_num.find(zero)\n",
    "        return len(str_num) - index\n",
    "    \n",
    "    \n",
    "factorial(5)"
   ]
  },
  {
   "cell_type": "code",
   "execution_count": null,
   "id": "fa05a50b-b924-465a-a144-45c2bd30146a",
   "metadata": {},
   "outputs": [],
   "source": []
  }
 ],
 "metadata": {
  "kernelspec": {
   "display_name": "Python 3 (ipykernel)",
   "language": "python",
   "name": "python3"
  },
  "language_info": {
   "codemirror_mode": {
    "name": "ipython",
    "version": 3
   },
   "file_extension": ".py",
   "mimetype": "text/x-python",
   "name": "python",
   "nbconvert_exporter": "python",
   "pygments_lexer": "ipython3",
   "version": "3.8.10"
  }
 },
 "nbformat": 4,
 "nbformat_minor": 5
}
