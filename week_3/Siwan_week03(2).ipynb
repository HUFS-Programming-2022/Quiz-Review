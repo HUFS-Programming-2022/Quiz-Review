{
 "cells": [
  {
   "cell_type": "code",
   "execution_count": 1,
   "id": "06c1fdb3",
   "metadata": {},
   "outputs": [
    {
     "name": "stdout",
     "output_type": "stream",
     "text": [
      "*** Introductory Examples for the NLTK Book ***\n",
      "Loading text1, ..., text9 and sent1, ..., sent9\n",
      "Type the name of the text or sentence to view it.\n",
      "Type: 'texts()' or 'sents()' to list the materials.\n",
      "text1: Moby Dick by Herman Melville 1851\n",
      "text2: Sense and Sensibility by Jane Austen 1811\n",
      "text3: The Book of Genesis\n",
      "text4: Inaugural Address Corpus\n",
      "text5: Chat Corpus\n",
      "text6: Monty Python and the Holy Grail\n",
      "text7: Wall Street Journal\n",
      "text8: Personals Corpus\n",
      "text9: The Man Who Was Thursday by G . K . Chesterton 1908\n"
     ]
    }
   ],
   "source": [
    "import nltk\n",
    "from nltk.book import *"
   ]
  },
  {
   "cell_type": "code",
   "execution_count": 2,
   "id": "d2f198b6",
   "metadata": {},
   "outputs": [
    {
     "data": {
      "text/plain": [
       "['empty',\n",
       " 'aptly',\n",
       " 'thpppppt',\n",
       " 'thppt',\n",
       " 'thppt',\n",
       " 'empty',\n",
       " 'thppppt',\n",
       " 'temptress',\n",
       " 'temptation',\n",
       " 'ptoo',\n",
       " 'chapter',\n",
       " 'excepting',\n",
       " 'thpppt']"
      ]
     },
     "execution_count": 2,
     "metadata": {},
     "output_type": "execute_result"
    }
   ],
   "source": [
    "# 1)\n",
    "\n",
    "text6_lower = [word.lower() for word in text6]\n",
    "[word for word in text6_lower if 'pt' in word]"
   ]
  },
  {
   "cell_type": "code",
   "execution_count": 30,
   "id": "47a477e0",
   "metadata": {},
   "outputs": [
    {
     "name": "stdout",
     "output_type": "stream",
     "text": [
      "<Text: Moby Dick by Herman Melville 1851> : what=618, when=606, where=220, who=363, why=119, which=648\n",
      "<Text: Sense and Sensibility by Jane Austen 1811> : what=444, when=306, where=91, who=269, why=49, which=593\n",
      "<Text: The Book of Genesis> : what=46, when=120, where=25, who=24, why=8, which=199\n",
      "<Text: Inaugural Address Corpus> : what=183, when=221, where=73, who=381, why=16, which=1007\n",
      "<Text: Chat Corpus> : what=201, when=54, where=66, who=106, why=65, which=6\n",
      "<Text: Monty Python and the Holy Grail> : what=92, when=14, where=14, who=46, why=7, which=11\n",
      "<Text: Wall Street Journal> : what=71, when=98, where=36, who=167, why=14, which=225\n",
      "<Text: Personals Corpus> : what=0, when=1, where=0, who=17, why=0, which=0\n",
      "<Text: The Man Who Was Thursday by G . K . Chesterton 1908> : what=171, when=140, where=43, who=177, why=54, which=199\n"
     ]
    }
   ],
   "source": [
    "# 2)\n",
    "'''for text in (getattr(nltk.book, f'text{i}')for i in range(1,10)):\n",
    "    text_lower_list = [w.lower() for w in text]\n",
    "    print(f\"{text} : what={text_lower_list.count('what')}번, when={text_lower_list.count('when')}번, where={text_lower_list.count('where')}번, who={text_lower_list.count('who')}번, why={text_lower_list.count('why')}번, which={text_lower_list.count('which')}번\")\n",
    "'''\n",
    "texts = [getattr(nltk.book, f'text{i}')for i in range(1, 10)]\n",
    "cfd = nltk.ConditionalFreqDist(\n",
    "    (text, word.lower())\n",
    "    for text in texts\n",
    "    for word in text)\n",
    "cfd[text1]['what']\n",
    "for i in texts:\n",
    "    print('{} : what={}, when={}, where={}, who={}, why={}, which={}'.format(i, cfd[i]['what'], cfd[i]['when'], cfd[i]['where'], cfd[i]['who'], cfd[i]['why'], cfd[i]['which'])\n",
    "         )"
   ]
  },
  {
   "cell_type": "code",
   "execution_count": 48,
   "id": "aa3ca82d",
   "metadata": {},
   "outputs": [
    {
     "ename": "NameError",
     "evalue": "name 'new_pac' is not defined",
     "output_type": "error",
     "traceback": [
      "\u001b[1;31m---------------------------------------------------------------------------\u001b[0m",
      "\u001b[1;31mNameError\u001b[0m                                 Traceback (most recent call last)",
      "\u001b[1;32mC:\\Users\\Public\\Documents\\ESTsoft\\CreatorTemp/ipykernel_19472/3311332850.py\u001b[0m in \u001b[0;36m<module>\u001b[1;34m\u001b[0m\n\u001b[0;32m     15\u001b[0m             \u001b[0mnum_zero\u001b[0m \u001b[1;33m+=\u001b[0m \u001b[1;36m1\u001b[0m\u001b[1;33m\u001b[0m\u001b[1;33m\u001b[0m\u001b[0m\n\u001b[0;32m     16\u001b[0m     \u001b[1;32mreturn\u001b[0m \u001b[1;34mf'{pactorial}, {num_zero}개'\u001b[0m\u001b[1;33m\u001b[0m\u001b[1;33m\u001b[0m\u001b[0m\n\u001b[1;32m---> 17\u001b[1;33m \u001b[0mzero_count\u001b[0m\u001b[1;33m(\u001b[0m\u001b[1;36m5\u001b[0m\u001b[1;33m)\u001b[0m\u001b[1;33m\u001b[0m\u001b[1;33m\u001b[0m\u001b[0m\n\u001b[0m",
      "\u001b[1;32mC:\\Users\\Public\\Documents\\ESTsoft\\CreatorTemp/ipykernel_19472/3311332850.py\u001b[0m in \u001b[0;36mzero_count\u001b[1;34m(number)\u001b[0m\n\u001b[0;32m      9\u001b[0m \u001b[1;32mdef\u001b[0m \u001b[0mzero_count\u001b[0m\u001b[1;33m(\u001b[0m\u001b[0mnumber\u001b[0m\u001b[1;33m)\u001b[0m\u001b[1;33m:\u001b[0m\u001b[1;33m\u001b[0m\u001b[1;33m\u001b[0m\u001b[0m\n\u001b[0;32m     10\u001b[0m     \u001b[0mpactorial\u001b[0m\u001b[1;33m(\u001b[0m\u001b[0mnumber\u001b[0m\u001b[1;33m)\u001b[0m\u001b[1;33m\u001b[0m\u001b[1;33m\u001b[0m\u001b[0m\n\u001b[1;32m---> 11\u001b[1;33m     \u001b[1;32mfor\u001b[0m \u001b[0mi\u001b[0m \u001b[1;32min\u001b[0m \u001b[0mrange\u001b[0m\u001b[1;33m(\u001b[0m\u001b[1;36m0\u001b[0m\u001b[1;33m,\u001b[0m \u001b[0mlen\u001b[0m\u001b[1;33m(\u001b[0m\u001b[0mnew_pac\u001b[0m\u001b[1;33m)\u001b[0m\u001b[1;33m)\u001b[0m\u001b[1;33m:\u001b[0m\u001b[1;33m\u001b[0m\u001b[1;33m\u001b[0m\u001b[0m\n\u001b[0m\u001b[0;32m     12\u001b[0m         \u001b[1;32mif\u001b[0m \u001b[0mnew_pac\u001b[0m\u001b[1;33m[\u001b[0m\u001b[1;33m:\u001b[0m\u001b[1;33m:\u001b[0m\u001b[1;33m-\u001b[0m\u001b[1;36m1\u001b[0m\u001b[1;33m]\u001b[0m\u001b[1;33m[\u001b[0m\u001b[0mi\u001b[0m\u001b[1;33m]\u001b[0m \u001b[1;33m!=\u001b[0m \u001b[1;34m'0'\u001b[0m\u001b[1;33m:\u001b[0m\u001b[1;33m\u001b[0m\u001b[1;33m\u001b[0m\u001b[0m\n\u001b[0;32m     13\u001b[0m             \u001b[1;32mbreak\u001b[0m\u001b[1;33m\u001b[0m\u001b[1;33m\u001b[0m\u001b[0m\n",
      "\u001b[1;31mNameError\u001b[0m: name 'new_pac' is not defined"
     ]
    }
   ],
   "source": [
    "# 3)\n",
    "def pactorial(number):\n",
    "    pactorial = 1\n",
    "    num_zero = 0\n",
    "    for i in range(1, number+1):\n",
    "        pactorial *= i\n",
    "    new_pac = str(pactorial)\n",
    "    return new_pac\n",
    "\n",
    "def zero_count(number):\n",
    "    pactorial(number)\n",
    "    for i in range(0, len(new_pac)):\n",
    "        if new_pac[::-1][i] != '0':\n",
    "            break\n",
    "        else:\n",
    "            num_zero += 1\n",
    "    return f'{pactorial}, {num_zero}개'\n",
    "zero_count(5)"
   ]
  },
  {
   "cell_type": "code",
   "execution_count": null,
   "id": "e38d0222",
   "metadata": {},
   "outputs": [],
   "source": []
  }
 ],
 "metadata": {
  "kernelspec": {
   "display_name": "Python 3 (ipykernel)",
   "language": "python",
   "name": "python3"
  },
  "language_info": {
   "codemirror_mode": {
    "name": "ipython",
    "version": 3
   },
   "file_extension": ".py",
   "mimetype": "text/x-python",
   "name": "python",
   "nbconvert_exporter": "python",
   "pygments_lexer": "ipython3",
   "version": "3.9.7"
  }
 },
 "nbformat": 4,
 "nbformat_minor": 5
}
