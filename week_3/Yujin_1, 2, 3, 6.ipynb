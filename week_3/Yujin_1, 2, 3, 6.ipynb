{
 "cells": [
  {
   "cell_type": "markdown",
   "id": "0cf1cb4e-66d5-488c-9aca-37256ea003ee",
   "metadata": {},
   "source": [
    "## 1. [NLTK] text6에서 pt를 포함하는 **단어 리스트**를 출력하는 코드를 작성하세요."
   ]
  },
  {
   "cell_type": "code",
   "execution_count": 1,
   "id": "c20955a2-0e0b-4489-8f49-cdb46b0f4fee",
   "metadata": {},
   "outputs": [
    {
     "name": "stdout",
     "output_type": "stream",
     "text": [
      "*** Introductory Examples for the NLTK Book ***\n",
      "Loading text1, ..., text9 and sent1, ..., sent9\n",
      "Type the name of the text or sentence to view it.\n",
      "Type: 'texts()' or 'sents()' to list the materials.\n",
      "text1: Moby Dick by Herman Melville 1851\n",
      "text2: Sense and Sensibility by Jane Austen 1811\n",
      "text3: The Book of Genesis\n",
      "text4: Inaugural Address Corpus\n",
      "text5: Chat Corpus\n",
      "text6: Monty Python and the Holy Grail\n",
      "text7: Wall Street Journal\n",
      "text8: Personals Corpus\n",
      "text9: The Man Who Was Thursday by G . K . Chesterton 1908\n"
     ]
    },
    {
     "data": {
      "text/plain": [
       "True"
      ]
     },
     "execution_count": 1,
     "metadata": {},
     "output_type": "execute_result"
    }
   ],
   "source": [
    "import nltk\n",
    "from nltk.book import *\n",
    "nltk.download('book', quiet=True)"
   ]
  },
  {
   "cell_type": "code",
   "execution_count": 13,
   "id": "17002a8d-3409-46d8-bbb6-ef5d15c6a7f0",
   "metadata": {},
   "outputs": [
    {
     "data": {
      "text/plain": [
       "{'Chapter',\n",
       " 'Thpppppt',\n",
       " 'Thppppt',\n",
       " 'Thpppt',\n",
       " 'Thppt',\n",
       " 'aptly',\n",
       " 'empty',\n",
       " 'excepting',\n",
       " 'ptoo',\n",
       " 'temptation',\n",
       " 'temptress'}"
      ]
     },
     "execution_count": 13,
     "metadata": {},
     "output_type": "execute_result"
    }
   ],
   "source": [
    "# 리스트컴프리핸션을 사용해 조건에 맞는 단어를 찾는다\n",
    "# 조건 : 단어에 'pt'를 포함하는가\n",
    "# 'PT', 'pT', 'Pt'의 경우를 위해 소문자화 한 뒤 확인한다\n",
    "# set()으로 중복을 없앤다\n",
    "set([word for word in text6 if 'pt' in word.lower()])"
   ]
  },
  {
   "cell_type": "markdown",
   "id": "1d95e68b-f766-4999-a4fe-1f81f2facbfc",
   "metadata": {},
   "source": [
    "---"
   ]
  },
  {
   "cell_type": "markdown",
   "id": "f06f4e5b-f970-48c7-8eb4-a8d061dddfb4",
   "metadata": {},
   "source": [
    "## 2. [NLTK] nltk.book 텍스트들을 순회하며 각 코퍼스에서 what, when, where, who, why, which의 빈도수를 출력하는 코드를 작성하세요. \n",
    "- 단, 단어는 모두 소문자화함.\n",
    "- 전체 코드가 하나의 루프 안에 존재해야 함.\n",
    "- 프린트는 다음의 형식으로 맞춰야 함 텍스트1: what=3번, when=4번, where=6번, who=3번, why=11번, which=44번"
   ]
  },
  {
   "cell_type": "code",
   "execution_count": 18,
   "id": "fd261436-9f03-4b90-8a84-aeab40254f75",
   "metadata": {},
   "outputs": [
    {
     "name": "stdout",
     "output_type": "stream",
     "text": [
      "텍스트1 : what=618번, when=606번, where=220번, who=363번, why=119번, which=648번\n",
      "텍스트2 : what=444번, when=306번, where=91번, who=269번, why=49번, which=593번\n",
      "텍스트3 : what=46번, when=120번, where=25번, who=24번, why=8번, which=199번\n",
      "텍스트4 : what=183번, when=221번, where=73번, who=381번, why=16번, which=1007번\n",
      "텍스트5 : what=201번, when=54번, where=66번, who=106번, why=65번, which=6번\n",
      "텍스트6 : what=92번, when=14번, where=14번, who=46번, why=7번, which=11번\n",
      "텍스트7 : what=71번, when=98번, where=36번, who=167번, why=14번, which=225번\n",
      "텍스트8 : what=0번, when=1번, where=0번, who=17번, why=0번, which=0번\n",
      "텍스트9 : what=171번, when=140번, where=43번, who=177번, why=54번, which=199번\n"
     ]
    }
   ],
   "source": [
    "# 모든 텍스트를 리스트에 담아준다\n",
    "texts = [text1, text2, text3, text4, text5, text6, text7, text8, text9]\n",
    "\n",
    "# for문을 이용하여 빈도수를 출력한다\n",
    "# 리스트 컴프리핸션을 사용해 각 텍스트의 단어들을 소문자화 한다\n",
    "# FreqDist를 이용해 해당 단어의 개수를 찾는다\n",
    "for i in range(len(texts)):\n",
    "    texts[i] = [word.lower() for word in texts[i]]\n",
    "    fdist = FreqDist(texts[i])\n",
    "    print(f\"텍스트{i + 1} : what={fdist['what']}번, when={fdist['when']}번, where={fdist['where']}번, who={fdist['who']}번, why={fdist['why']}번, which={fdist['which']}번\")"
   ]
  },
  {
   "cell_type": "markdown",
   "id": "b3d45497-1736-4c44-840c-8e2d489a2266",
   "metadata": {},
   "source": [
    "---"
   ]
  },
  {
   "cell_type": "markdown",
   "id": "fde82e91-4e94-44ad-b87e-3a866894f3d0",
   "metadata": {},
   "source": [
    "## 3. 팩토리얼을 구한 뒤, 결과값의 맨 마지막 자리에서 시작해서 처음으로 0이 아닌 숫자가 나올 때까지 0의 개수를 구하는 함수를 만드시오. \n",
    "- 예: 80000300 => 2개\n",
    "- 입력값= n\n",
    "- 출력값= 결과값, 0 개수\n"
   ]
  },
  {
   "cell_type": "code",
   "execution_count": 27,
   "id": "0f517a6a-80f3-4a15-8a65-9ca3bd442df3",
   "metadata": {},
   "outputs": [],
   "source": [
    "# 팩토리얼을 구하는 함수를 만든다\n",
    "# for문을 사용해 팩토리얼을 구한다\n",
    "# 결과값을 반환한다\n",
    "def calc_factorial(n):\n",
    "    '''\n",
    "    n : int, 팩토리얼 구하고 싶은 값\n",
    "    n!을 구한다\n",
    "    '''\n",
    "    result = 1\n",
    "    for i in range(1, n + 1):\n",
    "        result *= i\n",
    "    return result\n",
    "\n",
    "# 역으로 0이 아닌 숫자가 나올 때까지의 0의 개수를 구하는 함수를 만든다\n",
    "# 값을 str으로 변환하고 리스트를 역으로 for문을 실행한다\n",
    "# 숫자가 0이 아니면 멈춘다\n",
    "# 0이면 cnt에 1을 더해준다\n",
    "# 0의 개수를 반환한다\n",
    "def count_zero(n):\n",
    "    '''\n",
    "    n : 맨 마지막 자리에서 시작해서 처음으로 0이 아닌 숫자가 나올 때까지 0의 개수를 구하고 싶은 수 \n",
    "    역으로 0이 아닌 숫자가 나올 때까지 0의 개수를 구한다\n",
    "    '''\n",
    "    cnt = 0\n",
    "    for num in list(str(n))[::-1]:\n",
    "        if num != '0':\n",
    "            break\n",
    "        else:\n",
    "            cnt += 1 \n",
    "    return cnt"
   ]
  },
  {
   "cell_type": "code",
   "execution_count": 31,
   "id": "100bb911-7b7f-439b-905e-4d80fe3ad691",
   "metadata": {},
   "outputs": [
    {
     "name": "stdin",
     "output_type": "stream",
     "text": [
      "팩토리얼을 구하고 싶은 수를 입력하세요 12\n"
     ]
    },
    {
     "name": "stdout",
     "output_type": "stream",
     "text": [
      "12! = 479001600, 0의 개수 => 2개\n"
     ]
    }
   ],
   "source": [
    "n = int(input('팩토리얼을 구하고 싶은 수를 입력하세요'))\n",
    "\n",
    "# 팩토리얼 결과값을 변수로 받아서 사용한다\n",
    "result = calc_factorial(n)\n",
    "print(f'{n}! = {result}, 0의 개수 => {count_zero(result)}개')"
   ]
  },
  {
   "cell_type": "markdown",
   "id": "221030bb-4430-4ffb-b44b-b7f8e4653871",
   "metadata": {},
   "source": [
    "---"
   ]
  },
  {
   "cell_type": "markdown",
   "id": "06a0d547-457c-48b2-850c-95989a449247",
   "metadata": {},
   "source": [
    "## 6. 다음 조건에 맞게 별찍기 프로그램을 작성하시오.\n",
    "[조건]\n",
    "- 첫째 줄에는 별 2N-1개, 둘째 줄에는 별 2N-3개, ..., N번째 줄에는 별 1개를 찍는다.\n",
    "- 별은 가운데를 기준으로 대칭이어야 한다.\n",
    "- 입력값: n\n",
    "- 출력값: 첫째 줄부터 N번째 줄까지 차례대로 별을 출력"
   ]
  },
  {
   "cell_type": "code",
   "execution_count": 39,
   "id": "7db9292f-7b55-42f3-8e77-77b24e95c393",
   "metadata": {},
   "outputs": [
    {
     "name": "stdin",
     "output_type": "stream",
     "text": [
      "몇 번째 줄까지 별을 찍을까요? 5\n"
     ]
    },
    {
     "name": "stdout",
     "output_type": "stream",
     "text": [
      "*********\n",
      " *******\n",
      "  *****\n",
      "   ***\n",
      "    *\n"
     ]
    }
   ],
   "source": [
    "n = int(input('몇 번째 줄까지 별을 찍을까요?'))\n",
    "\n",
    "star = '*'\n",
    "space = ' '\n",
    "\n",
    "# for문을 이용하여 별을 출력한다\n",
    "# space가 1씩 증가하는 성질을 이용한다\n",
    "# 첫째 줄에는 별 2N-1개, 둘째 줄에는 별 2N-3개...의 성질을 이용한다\n",
    "for i in range(1, n + 1):\n",
    "    print(space * (i-1) + star * (2 * n - (2 * i - 1))) "
   ]
  }
 ],
 "metadata": {
  "kernelspec": {
   "display_name": "Python 3 (ipykernel)",
   "language": "python",
   "name": "python3"
  },
  "language_info": {
   "codemirror_mode": {
    "name": "ipython",
    "version": 3
   },
   "file_extension": ".py",
   "mimetype": "text/x-python",
   "name": "python",
   "nbconvert_exporter": "python",
   "pygments_lexer": "ipython3",
   "version": "3.9.7"
  }
 },
 "nbformat": 4,
 "nbformat_minor": 5
}
