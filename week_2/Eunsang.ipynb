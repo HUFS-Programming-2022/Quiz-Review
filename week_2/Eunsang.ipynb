{
 "cells": [
  {
   "cell_type": "markdown",
   "id": "e725a0ce-de81-436c-8991-09f599502618",
   "metadata": {},
   "source": [
    "## Quiz - week2"
   ]
  },
  {
   "cell_type": "markdown",
   "id": "afc80098-d8ee-4a2a-8c02-4102e068c0b4",
   "metadata": {},
   "source": [
    "### 1. text5에서 4번 출현하는 단어들을 중복되지 않게 오름차순으로 출력하시오"
   ]
  },
  {
   "cell_type": "code",
   "execution_count": 1,
   "id": "95336188-93c1-441b-a10a-3c95600dad1e",
   "metadata": {},
   "outputs": [
    {
     "name": "stdout",
     "output_type": "stream",
     "text": [
      "Requirement already satisfied: nltk in c:\\programdata\\anaconda3\\lib\\site-packages (3.6.5)\n",
      "Requirement already satisfied: click in c:\\programdata\\anaconda3\\lib\\site-packages (from nltk) (8.0.3)\n",
      "Requirement already satisfied: joblib in c:\\programdata\\anaconda3\\lib\\site-packages (from nltk) (1.1.0)\n",
      "Requirement already satisfied: regex>=2021.8.3 in c:\\programdata\\anaconda3\\lib\\site-packages (from nltk) (2021.8.3)\n",
      "Requirement already satisfied: tqdm in c:\\programdata\\anaconda3\\lib\\site-packages (from nltk) (4.62.3)\n",
      "Requirement already satisfied: colorama in c:\\programdata\\anaconda3\\lib\\site-packages (from click->nltk) (0.4.4)\n",
      "*** Introductory Examples for the NLTK Book ***\n",
      "Loading text1, ..., text9 and sent1, ..., sent9\n",
      "Type the name of the text or sentence to view it.\n",
      "Type: 'texts()' or 'sents()' to list the materials.\n",
      "text1: Moby Dick by Herman Melville 1851\n",
      "text2: Sense and Sensibility by Jane Austen 1811\n",
      "text3: The Book of Genesis\n",
      "text4: Inaugural Address Corpus\n",
      "text5: Chat Corpus\n",
      "text6: Monty Python and the Holy Grail\n",
      "text7: Wall Street Journal\n",
      "text8: Personals Corpus\n",
      "text9: The Man Who Was Thursday by G . K . Chesterton 1908\n"
     ]
    },
    {
     "data": {
      "text/plain": [
       "{'aberdeen',\n",
       " 'afternoon',\n",
       " 'ahhhh',\n",
       " 'ai',\n",
       " 'alright',\n",
       " 'american',\n",
       " 'amy',\n",
       " 'asses',\n",
       " 'barbie',\n",
       " 'beat',\n",
       " 'behind',\n",
       " 'between',\n",
       " 'bible',\n",
       " 'bitch',\n",
       " 'blank',\n",
       " 'booty',\n",
       " 'bring',\n",
       " 'calling',\n",
       " 'caught',\n",
       " 'charge',\n",
       " 'cheap',\n",
       " 'choice',\n",
       " 'claws',\n",
       " 'country',\n",
       " 'cup',\n",
       " 'dam',\n",
       " 'dances',\n",
       " 'darlin',\n",
       " 'date',\n",
       " 'dating',\n",
       " 'daughter',\n",
       " 'dawnstar',\n",
       " 'desert',\n",
       " 'diego',\n",
       " 'different',\n",
       " 'dis',\n",
       " 'door',\n",
       " 'dr',\n",
       " 'dreams',\n",
       " 'drew',\n",
       " 'each',\n",
       " 'elle',\n",
       " 'est',\n",
       " 'fabric',\n",
       " 'falls',\n",
       " 'fart',\n",
       " 'favorite',\n",
       " 'fighting',\n",
       " 'figure',\n",
       " 'finally',\n",
       " 'found',\n",
       " 'ga',\n",
       " 'giggles',\n",
       " 'glad',\n",
       " 'grrr',\n",
       " 'guitar',\n",
       " 'hail',\n",
       " 'happens',\n",
       " 'hawt',\n",
       " 'hehehehe',\n",
       " 'hes',\n",
       " 'himself',\n",
       " 'hook',\n",
       " 'hott',\n",
       " 'idiots',\n",
       " 'imagine',\n",
       " 'interested',\n",
       " 'invite',\n",
       " 'ive',\n",
       " 'jerk',\n",
       " 'john',\n",
       " 'joining',\n",
       " 'jus',\n",
       " 'kittie',\n",
       " 'knees',\n",
       " 'lame',\n",
       " 'laugh',\n",
       " 'laundry',\n",
       " 'lie',\n",
       " 'lies',\n",
       " 'line',\n",
       " 'lmaoo',\n",
       " 'lmaooo',\n",
       " 'lmfao',\n",
       " 'lookin',\n",
       " 'lovely',\n",
       " 'lunch',\n",
       " 'mad',\n",
       " 'maidstone',\n",
       " 'mary',\n",
       " 'mercy',\n",
       " 'messaging',\n",
       " 'mmmm',\n",
       " 'mmmmm',\n",
       " 'needed',\n",
       " 'noise',\n",
       " 'ohio',\n",
       " 'ones',\n",
       " 'open',\n",
       " 'ouch',\n",
       " 'pain',\n",
       " 'parent',\n",
       " 'pass',\n",
       " 'perving',\n",
       " 'pfft',\n",
       " 'pissed',\n",
       " 'poooland',\n",
       " 'pretty',\n",
       " 'prison',\n",
       " 'probably',\n",
       " 'promise',\n",
       " 'proud',\n",
       " 'puff',\n",
       " 'pursued',\n",
       " 'questions',\n",
       " 'realize',\n",
       " 'reminder',\n",
       " 'rest',\n",
       " 'road',\n",
       " 'rocker',\n",
       " 'rofl',\n",
       " 'rolling',\n",
       " 'rum',\n",
       " 'san',\n",
       " 'screen',\n",
       " 'sea',\n",
       " 'self',\n",
       " 'shane',\n",
       " 'shes',\n",
       " 'shot',\n",
       " 'sigh',\n",
       " 'silver',\n",
       " 'smoking',\n",
       " 'socks',\n",
       " 'special',\n",
       " 'spins',\n",
       " 'st',\n",
       " 'stuck',\n",
       " 'swear',\n",
       " 'swim',\n",
       " 'talked',\n",
       " 'team',\n",
       " 'temptations',\n",
       " 'theres',\n",
       " 'tho',\n",
       " 'through',\n",
       " 'throught',\n",
       " 'tisk',\n",
       " 'tongue',\n",
       " 'trials',\n",
       " 'trying',\n",
       " 'ugly',\n",
       " 'umm',\n",
       " 'visit',\n",
       " 'waiting',\n",
       " 'wanting',\n",
       " 'ways',\n",
       " 'wind',\n",
       " 'window',\n",
       " 'wisconsin',\n",
       " 'woohoo',\n",
       " 'worked',\n",
       " 'worse',\n",
       " 'wut',\n",
       " 'x',\n",
       " 'yawns',\n",
       " 'yeppers',\n",
       " 'yesterday',\n",
       " 'yours',\n",
       " 'yourself'}"
      ]
     },
     "execution_count": 1,
     "metadata": {},
     "output_type": "execute_result"
    }
   ],
   "source": [
    "# nltk import\n",
    "!pip install nltk\n",
    "import nltk\n",
    "from nltk.book import *\n",
    "nltk.download('book', quiet=True)\n",
    "\n",
    "# 특수문자로 이루어진 것들은 단어라고 판단하지 않아 isalpha()함수 사용.\n",
    "# 대소문자를 구분하지 않고 단어의 빈도수를 찾는 것이 맞다고 판단.\n",
    "# text5의 단어들을 모두 소문자화하고, 특수문자를 걸러 준 뒤 오름차순으로 정렬하여 text_lower에 담음.\n",
    "text_lower = sorted([word.lower() for word in text5 if word.isalpha()])\n",
    "\n",
    "# Frequency Distribution 을 이용해 text_lower의 빈도수 확인.\n",
    "# 리스트 컴프리헨션으로 4번 출현하는 단어를 찾음.\n",
    "# set으로 중복을 없애줌.\n",
    "fdist = FreqDist(text_lower)\n",
    "set([word for word in text_lower if fdist[word] == 4])"
   ]
  },
  {
   "cell_type": "markdown",
   "id": "f9791eff-d6d9-4c5a-9d5f-e9475183875d",
   "metadata": {},
   "source": [
    "### 5. text7에서 가장 긴 단어는 몇 자(character)인가?"
   ]
  },
  {
   "cell_type": "code",
   "execution_count": 2,
   "id": "852aee11-51fc-4782-9fd0-d780d3c6cc0f",
   "metadata": {},
   "outputs": [
    {
     "name": "stdout",
     "output_type": "stream",
     "text": [
      "Requirement already satisfied: nltk in c:\\programdata\\anaconda3\\lib\\site-packages (3.6.5)\n",
      "Requirement already satisfied: click in c:\\programdata\\anaconda3\\lib\\site-packages (from nltk) (8.0.3)\n",
      "Requirement already satisfied: joblib in c:\\programdata\\anaconda3\\lib\\site-packages (from nltk) (1.1.0)\n",
      "Requirement already satisfied: regex>=2021.8.3 in c:\\programdata\\anaconda3\\lib\\site-packages (from nltk) (2021.8.3)\n",
      "Requirement already satisfied: tqdm in c:\\programdata\\anaconda3\\lib\\site-packages (from nltk) (4.62.3)\n",
      "Requirement already satisfied: colorama in c:\\programdata\\anaconda3\\lib\\site-packages (from click->nltk) (0.4.4)\n"
     ]
    },
    {
     "data": {
      "text/plain": [
       "24"
      ]
     },
     "execution_count": 2,
     "metadata": {},
     "output_type": "execute_result"
    }
   ],
   "source": [
    "# nltk import\n",
    "!pip install nltk\n",
    "import nltk\n",
    "from nltk.book import *\n",
    "nltk.download('book', quiet=True)\n",
    "\n",
    "# text7의 모든 토큰의 길이를 리스트 컴프리헨션으로 찾는다.\n",
    "# 이 리스트를 내림차순한 뒤 첫번째 값을 찾는다.\n",
    "sorted([len(word) for word in text7], reverse=True)[0]"
   ]
  },
  {
   "cell_type": "markdown",
   "id": "4c09b80a-3521-495c-b810-d14bca05e667",
   "metadata": {},
   "source": [
    "### 6. 아래의 지문을 똑같이 출력하는 프로그램을 작성하시오. (한 줄에 한 문장씩 출력, 문자열 간격과 줄바꿈에 유의하여 작성)"
   ]
  },
  {
   "cell_type": "code",
   "execution_count": 3,
   "id": "61796f79-ed3d-4043-947a-c22ad9d96fde",
   "metadata": {},
   "outputs": [
    {
     "name": "stdout",
     "output_type": "stream",
     "text": [
      "과목명: 고급 파이썬 프로그래밍\\Advanced Python programming\n",
      "\t\"이 수업은 금요일에 진행됩니다.\"\n",
      "\n",
      "수업은 실시간 강의로 진행됩니다.\n",
      "\t- 질의사항은 조교에게 메일로 보내주세요\n"
     ]
    }
   ],
   "source": [
    "# 이스케이프 문자를 활용.\n",
    "text = '과목명: 고급 파이썬 프로그래밍\\\\Advanced Python programming\\n\\t\\\"이 수업은 금요일에 진행됩니다.\\\"\\\n",
    "\\n\\n수업은 실시간 강의로 진행됩니다.\\n\\t- 질의사항은 조교에게 메일로 보내주세요'\n",
    "print(text)"
   ]
  }
 ],
 "metadata": {
  "kernelspec": {
   "display_name": "Python 3 (ipykernel)",
   "language": "python",
   "name": "python3"
  },
  "language_info": {
   "codemirror_mode": {
    "name": "ipython",
    "version": 3
   },
   "file_extension": ".py",
   "mimetype": "text/x-python",
   "name": "python",
   "nbconvert_exporter": "python",
   "pygments_lexer": "ipython3",
   "version": "3.9.7"
  }
 },
 "nbformat": 4,
 "nbformat_minor": 5
}
