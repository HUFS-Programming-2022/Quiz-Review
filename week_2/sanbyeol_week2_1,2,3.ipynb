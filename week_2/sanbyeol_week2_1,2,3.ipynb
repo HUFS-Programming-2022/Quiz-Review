{
 "cells": [
  {
   "cell_type": "code",
   "execution_count": null,
   "id": "da91d022-e62f-4333-8301-388922778e70",
   "metadata": {},
   "outputs": [],
   "source": [
    "1. text5에서 4번 출현하는 단어들을 중복되지 않게 오름차순으로 출력하시오\n",
    "2.\n",
    "-. text4에서 democracy는 몇 번 나오는지 출력하시오.\n",
    "-. text4에서는 한 번 출현하지만 text3에서는 여러 번 출현하는 단어는 몇 개인지 출력하시오\n",
    "\n",
    "3. text1~9 중 가장 어휘가 풍부한 코퍼스는?\n",
    "\n",
    "4.. NLTK 임포트하고, text4에서 4자리 단어만 출력하세요.\n",
    "\n",
    "5.text7에서 가장 긴 단어는 몇 자(character)인가?\n",
    "\n",
    "6.아래의 지문을 똑같이 출력하는 프로그램을 작성하시오. (한 줄에 한 문장씩 출력, 문자열 간격과 줄바꿈에 유의하여 작성)\n",
    "\n",
    "과목명: 고급 파이썬 프로그래밍\\Advanced Python programming\n",
    "    \"이 수업은 금요일에 진행됩니다.\"\n",
    "    \n",
    "수업은 실시간 강의로 진행됩니다.\n",
    "    - 질의사항은 조교에게 메일로 보내주세요"
   ]
  },
  {
   "cell_type": "code",
   "execution_count": 1,
   "id": "ad71fd10-5735-4007-894c-9aa0dc233ddf",
   "metadata": {
    "tags": []
   },
   "outputs": [
    {
     "name": "stdout",
     "output_type": "stream",
     "text": [
      "*** Introductory Examples for the NLTK Book ***\n",
      "Loading text1, ..., text9 and sent1, ..., sent9\n",
      "Type the name of the text or sentence to view it.\n",
      "Type: 'texts()' or 'sents()' to list the materials.\n",
      "text1: Moby Dick by Herman Melville 1851\n",
      "text2: Sense and Sensibility by Jane Austen 1811\n",
      "text3: The Book of Genesis\n",
      "text4: Inaugural Address Corpus\n",
      "text5: Chat Corpus\n",
      "text6: Monty Python and the Holy Grail\n",
      "text7: Wall Street Journal\n",
      "text8: Personals Corpus\n",
      "text9: The Man Who Was Thursday by G . K . Chesterton 1908\n",
      "['yourself', 'yours', 'yesterday', 'yeppers', 'yawns', 'wut', 'wow', 'worse', 'worked', 'woot', 'woohoo', 'window', 'white', 'wellbutrin', 'we', 'ways', 'wanting', 'waiting', 'visit', 'until', 'ummm', 'umm', 'ugly', 'ugh', 'u', 'turn', 'trying', 'trials', 'tongue', 'to', 'throught', 'three', 'tho', 'temptations', 'team', 'talked', 'swear', 'stuck', 'spins', 'special', 'south', 'socks', 'smoking', 'silver', 'sigh', 'shot', 'shore', 'shes', 'shane', 'self', 'sea', 'screen', 's', 'rum', 'room', 'rolling', 'rocker', 'rest', 'realize', 'reading', 'quit', 'questions', 'pursued', 'puff', 'proud', 'promise', 'probably', 'private', 'prison', 'pretty', 'poooland', 'pms', 'pissed', 'pfft', 'perving', 'pass', 'parent', 'pain', 'ouch', 'open', 'ones', 'one', 'ok', 'none', 'noise', 'needed', 'n', 'my', 'mouth', 'mmmmm', 'mmmm', 'mmm', 'messaging', 'md', 'mad', 'lunch', 'lord', 'lookin', 'lmaooo', 'lmaoo', 'lives', 'line', 'like', 'lie', 'laundry', 'laugh', 'lame', 'knees', 'kittie', 'kent', 'jus', 'joining', 'jerk', 'invite', 'interesting', 'interested', 'imagine', 'idiots', 'id', 'huge', 'hook', 'holy', 'history', 'himself', 'high', 'heyyy', 'hes', 'hehehehe', 'happens', 'hahahaha', 'guitar', 'grrr', 'go', 'glad', 'giggles', 'found', 'florida', 'figure', 'fart', 'falls', 'fabric', 'evil', 'everyone', 'est', 'each', 'drive', 'door', 'dis', 'dirty', 'different', 'desert', 'depends', 'dawnstar', 'daughter', 'dating', 'date', 'darlin', 'dances', 'dam', 'cute', 'cup', 'country', 'com', 'claws', 'choice', 'cheap', 'charge', 'caught', 'calling', 'c', 'bring', 'box', 'blank', 'bitch', 'between', 'behind', 'beat', 'barbie', 'asses', 'any', 'alright', 'ahh', 'afternoon']\n"
     ]
    }
   ],
   "source": [
    "# 1번 \n",
    "from nltk import book\n",
    "import nltk\n",
    "nltk.download('book', quiet = True)\n",
    "text_five = list(book.text5)\n",
    "\n",
    "fdist = nltk.FreqDist(text_five)\n",
    "\n",
    "out_put = sorted(set([word.lower() for word in word_1 if word.isalpha() if fdist[word] == 4]),reverse = True)\n",
    "print(out_put)"
   ]
  },
  {
   "cell_type": "code",
   "execution_count": 2,
   "id": "06358f26-8207-49db-b24d-d6115d152cf9",
   "metadata": {},
   "outputs": [
    {
     "name": "stdout",
     "output_type": "stream",
     "text": [
      "text4에서 democracy는 65번 나온다.\n",
      "text4에서 한번, text3에서 여러번 출현하는 단어는 1818개이다.\n"
     ]
    }
   ],
   "source": [
    "# 2\n",
    "\n",
    "import nltk\n",
    "nltk.download('book', quiet = True)\n",
    "text = book.text4\n",
    "\n",
    "# 2-1\n",
    "print(f'text4에서 democracy는 { text.count(\"democracy\") }번 나온다.')\n",
    "\n",
    "# 2-2\n",
    "text_three = list(book.text3)\n",
    "text_four = list(book.text4)\n",
    "\n",
    "text3_lower = [word.lower() for word in text_three if word.isalpha()]\n",
    "text4_lower = [word.lower() for word in text_four]\n",
    "\n",
    "fdist3 = nltk.FreqDist(text3_lower)\n",
    "fdist4 = nltk.FreqDist(text4_lower)\n",
    "\n",
    "output = [word for word in text3_lower if fdist3[word] >= 2 if fdist4[word] == 1]\n",
    "\n",
    "print(f'text4에서 한번, text3에서 여러번 출현하는 단어는 {len(output)}개이다.')\n"
   ]
  },
  {
   "cell_type": "code",
   "execution_count": 29,
   "id": "ad394b88-a8cf-4478-885b-42f21fa465e3",
   "metadata": {},
   "outputs": [
    {
     "name": "stdout",
     "output_type": "stream",
     "text": [
      "[<Text: Moby Dick by Herman Melville 1851>]가 19317개로 어휘가 가장 풍부하다.\n"
     ]
    }
   ],
   "source": [
    "# 3. text1~9 중 가장 어휘가 풍부한 코퍼스는?\n",
    "import nltk\n",
    "nltk.download('book', quiet = True)\n",
    "\n",
    "texts = [book.text1, book.text2, book.text3, book.text4, book.text5, book.text6, book.text7, book.text8, book.text9]\n",
    "# text_set = [set(list(text)) for text in texts word]\n",
    "\n",
    "# 고민\n",
    "\"\"\"\n",
    "texts_alpha = []\n",
    "for text in texts:\n",
    "    text_word = list(text)\n",
    "    text_alpha = [word for word in text_word if word.isalpha()]\n",
    "    texts_alpha.extend(text_alpha)\n",
    "\n",
    "print(texts_alpha)\n",
    "# print(texts)\n",
    "\"\"\"\n",
    "text_word_count = {text: len(set(list(text))) for text in texts}\n",
    "\n",
    "largest = int([v[1] for v in text_word_count.items()][0])\n",
    "for i in [v[1] for v in text_word_count.items()]:\n",
    "    if i > largest:\n",
    "        i = largest\n",
    "        \n",
    "largest_key = [key for key, value in text_word_count.items() if value == largest]\n",
    "\n",
    "print(f'{largest_key}가 {largest}개로 어휘가 가장 풍부하다.')"
   ]
  },
  {
   "cell_type": "code",
   "execution_count": null,
   "id": "ae7802f0-e4ef-4d74-8f63-8f1cd24b416f",
   "metadata": {},
   "outputs": [],
   "source": []
  }
 ],
 "metadata": {
  "kernelspec": {
   "display_name": "Python 3 (ipykernel)",
   "language": "python",
   "name": "python3"
  },
  "language_info": {
   "codemirror_mode": {
    "name": "ipython",
    "version": 3
   },
   "file_extension": ".py",
   "mimetype": "text/x-python",
   "name": "python",
   "nbconvert_exporter": "python",
   "pygments_lexer": "ipython3",
   "version": "3.9.7"
  }
 },
 "nbformat": 4,
 "nbformat_minor": 5
}
