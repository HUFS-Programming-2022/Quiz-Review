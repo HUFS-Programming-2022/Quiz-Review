{
 "cells": [
  {
   "cell_type": "markdown",
   "id": "a2139988-65b7-4d54-a489-3f3a992a7dbe",
   "metadata": {},
   "source": [
    "### Quiz - Week 2: NLTK Book"
   ]
  },
  {
   "cell_type": "markdown",
   "id": "2a2f9665-994e-4345-810d-f8fb51254783",
   "metadata": {},
   "source": [
    "1. \n",
    "- text5에서 4번 출현하는 단어들을 중복되지 않게 오름차순으로 출력하시오"
   ]
  },
  {
   "cell_type": "code",
   "execution_count": 5,
   "id": "45432942-33ea-4e14-a5d3-721053ea0b96",
   "metadata": {},
   "outputs": [
    {
     "name": "stdout",
     "output_type": "stream",
     "text": [
      "Requirement already satisfied: nltk in c:\\users\\82103\\.conda\\envs\\jupyterlab\\lib\\site-packages (3.7)\n",
      "Requirement already satisfied: tqdm in c:\\users\\82103\\.conda\\envs\\jupyterlab\\lib\\site-packages (from nltk) (4.63.0)\n",
      "Requirement already satisfied: regex>=2021.8.3 in c:\\users\\82103\\.conda\\envs\\jupyterlab\\lib\\site-packages (from nltk) (2022.3.15)\n",
      "Requirement already satisfied: click in c:\\users\\82103\\.conda\\envs\\jupyterlab\\lib\\site-packages (from nltk) (8.0.4)\n",
      "Requirement already satisfied: joblib in c:\\users\\82103\\.conda\\envs\\jupyterlab\\lib\\site-packages (from nltk) (1.1.0)\n",
      "Requirement already satisfied: colorama in c:\\users\\82103\\appdata\\roaming\\python\\python39\\site-packages (from click->nltk) (0.4.4)\n"
     ]
    }
   ],
   "source": [
    "!pip install nltk"
   ]
  },
  {
   "cell_type": "code",
   "execution_count": 2,
   "id": "f0932c4c-dfa0-48ad-9028-4eba0965e720",
   "metadata": {},
   "outputs": [
    {
     "name": "stdout",
     "output_type": "stream",
     "text": [
      "*** Introductory Examples for the NLTK Book ***\n",
      "Loading text1, ..., text9 and sent1, ..., sent9\n",
      "Type the name of the text or sentence to view it.\n",
      "Type: 'texts()' or 'sents()' to list the materials.\n",
      "text1: Moby Dick by Herman Melville 1851\n",
      "text2: Sense and Sensibility by Jane Austen 1811\n",
      "text3: The Book of Genesis\n",
      "text4: Inaugural Address Corpus\n",
      "text5: Chat Corpus\n",
      "text6: Monty Python and the Holy Grail\n",
      "text7: Wall Street Journal\n",
      "text8: Personals Corpus\n",
      "text9: The Man Who Was Thursday by G . K . Chesterton 1908\n"
     ]
    },
    {
     "data": {
      "text/plain": [
       "True"
      ]
     },
     "execution_count": 2,
     "metadata": {},
     "output_type": "execute_result"
    }
   ],
   "source": [
    "import nltk\n",
    "from nltk.book import *\n",
    "nltk.download('book', quiet = True)"
   ]
  },
  {
   "cell_type": "code",
   "execution_count": 3,
   "id": "11ed0536-686d-4bf7-b1ac-a8943fb5e8fe",
   "metadata": {
    "tags": []
   },
   "outputs": [
    {
     "data": {
      "text/plain": [
       "['Any', 'Dawnstar', 'EST', 'Everyone', 'Florida']"
      ]
     },
     "execution_count": 3,
     "metadata": {},
     "output_type": "execute_result"
    }
   ],
   "source": [
    "from nltk import FreqDist\n",
    "\n",
    "fdist = FreqDist(text5)\n",
    "# 대소문자는 구분하지 않음.\n",
    "sorted(set([w for w in text5 if fdist[w] == 4 and w.isalpha()]))[:5]"
   ]
  },
  {
   "cell_type": "markdown",
   "id": "415c4c82-7e7e-46b5-b732-518f47491dba",
   "metadata": {},
   "source": [
    "2.\n",
    "- text4에서 democracy는 몇 번 나오는지 출력하시오.\n",
    "- text4에서는 한 번 출현하지만 text3에서는 여러 번 출현하는 단어는 몇 개인지 출력하시오"
   ]
  },
  {
   "cell_type": "code",
   "execution_count": 5,
   "id": "5a73c10d-a5ef-4fd5-9ecc-aed5e5e3c067",
   "metadata": {},
   "outputs": [
    {
     "data": {
      "text/plain": [
       "65"
      ]
     },
     "execution_count": 5,
     "metadata": {},
     "output_type": "execute_result"
    }
   ],
   "source": [
    "#1\n",
    "fdist4 = FreqDist(text4)\n",
    "fdist4['democracy']"
   ]
  },
  {
   "cell_type": "code",
   "execution_count": 10,
   "id": "29ad7341-b899-4737-ac71-b6de207340d9",
   "metadata": {
    "tags": []
   },
   "outputs": [
    {
     "name": "stdout",
     "output_type": "stream",
     "text": [
      "text4에서 한 번 출현하지만 text3에서 여러번 출현하는 단어는 총 120개 입니다.\n"
     ]
    }
   ],
   "source": [
    "#2\n",
    "fdist3 = FreqDist(text3)\n",
    "text4_once = fdist4.hapaxes()\n",
    "\n",
    "len_words = len(sorted(set([w for w in text3 if w in text4_once and text3.count(w) >= 2])))\n",
    "\n",
    "print(f'text4에서 한 번 출현하지만 text3에서 여러번 출현하는 단어는 총 {len_words}개 입니다.')"
   ]
  },
  {
   "cell_type": "markdown",
   "id": "340000f9-1d22-4c34-91f9-3e554237a448",
   "metadata": {},
   "source": [
    "5.\n",
    "- text7에서 가장 긴 단어는 몇 자(character)인가?"
   ]
  },
  {
   "cell_type": "code",
   "execution_count": 17,
   "id": "84fb2c0f-9dc5-4132-9151-1452567adb63",
   "metadata": {},
   "outputs": [
    {
     "name": "stdout",
     "output_type": "stream",
     "text": [
      "text7에서 가장 긴 단어는 24자 입니다.\n"
     ]
    }
   ],
   "source": [
    "longest_text7 = (sorted([len(w) for w in text7], reverse = True))[0]\n",
    "\n",
    "print(f'text7에서 가장 긴 단어는 {longest_text7}자 입니다.')"
   ]
  },
  {
   "cell_type": "code",
   "execution_count": null,
   "id": "77813a6e-1ef6-4c35-996b-88eea0ce6921",
   "metadata": {},
   "outputs": [],
   "source": []
  }
 ],
 "metadata": {
  "kernelspec": {
   "display_name": "Python 3 (ipykernel)",
   "language": "python",
   "name": "python3"
  },
  "language_info": {
   "codemirror_mode": {
    "name": "ipython",
    "version": 3
   },
   "file_extension": ".py",
   "mimetype": "text/x-python",
   "name": "python",
   "nbconvert_exporter": "python",
   "pygments_lexer": "ipython3",
   "version": "3.9.7"
  }
 },
 "nbformat": 4,
 "nbformat_minor": 5
}
