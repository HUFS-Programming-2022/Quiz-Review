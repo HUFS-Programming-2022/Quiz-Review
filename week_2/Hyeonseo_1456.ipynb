{
 "cells": [
  {
   "cell_type": "code",
   "execution_count": 2,
   "id": "7f663246",
   "metadata": {},
   "outputs": [
    {
     "name": "stdout",
     "output_type": "stream",
     "text": [
      "Requirement already satisfied: nltk in c:\\anaconda3\\lib\\site-packages (3.6.5)\n",
      "Requirement already satisfied: click in c:\\anaconda3\\lib\\site-packages (from nltk) (8.0.3)\n",
      "Requirement already satisfied: joblib in c:\\anaconda3\\lib\\site-packages (from nltk) (1.1.0)\n",
      "Requirement already satisfied: regex>=2021.8.3 in c:\\anaconda3\\lib\\site-packages (from nltk) (2021.8.3)\n",
      "Requirement already satisfied: tqdm in c:\\anaconda3\\lib\\site-packages (from nltk) (4.62.3)\n",
      "Requirement already satisfied: colorama in c:\\anaconda3\\lib\\site-packages (from click->nltk) (0.4.4)\n"
     ]
    }
   ],
   "source": [
    "!pip install nltk"
   ]
  },
  {
   "cell_type": "code",
   "execution_count": 44,
   "id": "48fe8fa8",
   "metadata": {},
   "outputs": [
    {
     "data": {
      "text/plain": [
       "True"
      ]
     },
     "execution_count": 44,
     "metadata": {},
     "output_type": "execute_result"
    }
   ],
   "source": [
    "import nltk\n",
    "from nltk import book\n",
    "nltk.download('book',quiet = True)"
   ]
  },
  {
   "cell_type": "code",
   "execution_count": 47,
   "id": "1099336c",
   "metadata": {},
   "outputs": [
    {
     "name": "stdout",
     "output_type": "stream",
     "text": [
      "['afternoon', 'ahh', 'alright', 'any', 'asses', 'barbie', 'beat', 'behind', 'between', 'bitch', 'blank', 'box', 'bring', 'c', 'calling', 'caught', 'charge', 'cheap', 'choice', 'claws', 'com', 'country', 'cup', 'cute', 'dam', 'dances', 'darlin', 'date', 'dating', 'daughter', 'dawnstar', 'depends', 'desert', 'different', 'dirty', 'dis', 'door', 'drive', 'each', 'est', 'everyone', 'evil', 'fabric', 'falls', 'fart', 'figure', 'florida', 'found', 'giggles', 'glad', 'go', 'grrr', 'guitar', 'hahahaha', 'happens', 'hehehehe', 'hes', 'heyyy', 'high', 'himself', 'history', 'holy', 'hook', 'huge', 'id', 'idiots', 'imagine', 'interested', 'interesting', 'invite', 'jerk', 'joining', 'jus', 'kent', 'kittie', 'knees', 'lame', 'laugh', 'laundry', 'lie', 'like', 'line', 'lives', 'lmaoo', 'lmaooo', 'lookin', 'lord', 'lunch', 'mad', 'md', 'messaging', 'mmm', 'mmmm', 'mmmmm', 'mouth', 'my', 'n', 'needed', 'noise', 'none', 'ok', 'one', 'ones', 'open', 'ouch', 'pain', 'parent', 'pass', 'perving', 'pfft', 'pissed', 'pms', 'poooland', 'pretty', 'prison', 'private', 'probably', 'promise', 'proud', 'puff', 'pursued', 'questions', 'quit', 'reading', 'realize', 'rest', 'rocker', 'rolling', 'room', 'rum', 's', 'screen', 'sea', 'self', 'shane', 'shes', 'shore', 'shot', 'sigh', 'silver', 'smoking', 'socks', 'south', 'special', 'spins', 'stuck', 'swear', 'talked', 'team', 'temptations', 'tho', 'three', 'throught', 'to', 'tongue', 'trials', 'trying', 'turn', 'u', 'ugh', 'ugly', 'umm', 'ummm', 'until', 'visit', 'waiting', 'wanting', 'ways', 'we', 'wellbutrin', 'white', 'window', 'woohoo', 'woot', 'worked', 'worse', 'wow', 'wut', 'yawns', 'yeppers', 'yesterday', 'yours', 'yourself']\n"
     ]
    }
   ],
   "source": [
    "# Quiz 02_1\n",
    "final_list = [] # 2. 4번 출현하는 단어를 담을 리스트 생성\n",
    "wordlist = book.text5 # 3. text 5를 단어의 리스트 형태로 토큰화, 중복 제거하지 않으면 같은 단어가 4번씩 들어가게 되므로, set 처리 -> 오름차순 sorted 처리\n",
    "fdist = nltk.FreqDist(text5) # 4. FreqDist 설정(단어의 빈도수는 count() 함수를 사용해도 되지만, 시간이 너무 오래 걸림)\n",
    "for word in wordlist :\n",
    "    if fdist[word] == 4 and word.isalpha(): # 5. wordlist 순회하며 text5에 4번 출현하는, 알파벳 단어를 찾아 final_list에 담기\n",
    "        final_list.append(word.lower())\n",
    "final_list = sorted(set(final_list)) # 6. set > 중복 제거, sorted > 소문자 처리된 단어를 오름차순으로 정렬\n",
    "print(final_list)"
   ]
  },
  {
   "cell_type": "code",
   "execution_count": 48,
   "id": "dc11da04",
   "metadata": {},
   "outputs": [
    {
     "name": "stdout",
     "output_type": "stream",
     "text": [
      "['able', 'ably', 'acts', 'adds', 'addâ', 'afte', 'aged', 'ages', 'aids', 'aims', 'ally', 'also', 'amen', 'amid', 'anew', 'ants', 'area', 'arid', 'arms', 'army', 'arts', 'asia', 'asks', 'atom', 'aver', 'avow', 'away', 'back', 'balk', 'balm', 'band', 'bane', 'bank', 'bare', 'base', 'basi', 'bays', 'bear', 'been', 'bell', 'bend', 'best', 'bill', 'bind', 'bled', 'blot', 'blow', 'blue', 'boat', 'body', 'bold', 'bona', 'bond', 'book', 'bore', 'born', 'both', 'bred', 'bulk', 'bush', 'busy', 'call', 'calm', 'came', 'camp', 'cape', 'care', 'cars', 'case', 'cash', 'cast', 'cede', 'chop', 'city', 'clad', 'clay', 'coal', 'code', 'coin', 'cold', 'come', 'cook', 'cool', 'cope', 'core', 'corn', 'cost', 'crop', 'cuba', 'curb', 'cure', 'cuts', 'dads', 'dams', 'dare', 'dark', 'data', 'date', 'dawn', 'days', 'dead', 'deaf', 'deal', 'dear', 'debt', 'deed', 'deem', 'deep', 'defy', 'deny', 'didn', 'died', 'dies', 'dire', 'dock', 'does', 'dogs', 'dole', 'dome', 'done', 'door', 'doth', 'down', 'draw', 'drop', 'duly', 'dust', 'duty', 'each', 'earn', 'ears', 'ease', 'east', 'easy', 'echo', 'edge', 'else', 'ends', 'envy', 'even', 'ever', 'evil', 'eyes', 'face', 'fact', 'fade', 'fail', 'fair', 'fall', 'fame', 'fans', 'fare', 'farm', 'fast', 'fate', 'fear', 'feed', 'feel', 'feet', 'fell', 'felt', 'fiat', 'fide', 'fill', 'find', 'fine', 'fire', 'firm', 'fish', 'fist', 'five', 'flag', 'fled', 'flew', 'flow', 'foes', 'fold', 'food', 'form', 'fort', 'four', 'free', 'from', 'fuel', 'full', 'fund', 'fury', 'gain', 'gaul', 'gave', 'gaze', 'gets', 'gift', 'girl', 'give', 'glad', 'glow', 'glut', 'goad', 'goal', 'goes', 'gold', 'gone', 'good', 'gore', 'gray', 'grim', 'grip', 'grow', 'gulf', 'guns', 'hadn', 'half', 'hall', 'halt', 'hand', 'hang', 'hard', 'harm', 'hate', 'hath', 'have', 'head', 'heal', 'hear', 'heat', 'heed', 'held', 'help', 'here', 'hero', 'high', 'hill', 'hire', 'hold', 'holy', 'home', 'hope', 'horn', 'host', 'hour', 'hurt', 'huts', 'idea', 'idle', 'ills', 'indo', 'into', 'iowa', 'iraq', 'iron', 'isle', 'jars', 'jews', 'jima', 'jobs', 'john', 'join', 'july', 'just', 'keen', 'keep', 'kept', 'kill', 'kind', 'king', 'kite', 'knew', 'knit', 'know', 'labs', 'lack', 'lady', 'laid', 'land', 'lash', 'last', 'late', 'laws', 'lawâ', 'lead', 'left', 'lend', 'less', 'lest', 'levy', 'lies', 'lieu', 'life', 'lift', 'like', 'limb', 'line', 'link', 'list', 'live', 'lock', 'lone', 'long', 'look', 'lord', 'lose', 'loss', 'lost', 'love', 'lure', 'lurk', 'made', 'mail', 'main', 'make', 'mall', 'many', 'maps', 'mark', 'mars', 'mass', 'math', 'mean', 'meet', 'mere', 'mild', 'mill', 'mind', 'mine', 'miss', 'mobs', 'mode', 'moms', 'moon', 'more', 'most', 'move', 'much', 'must', 'name', 'navy', 'near', 'neck', 'need', 'news', 'next', 'nigh', 'none', 'note', 'oath', 'obey', 'odds', 'ohio', 'omen', 'omit', 'once', 'ones', 'only', 'onto', 'open', 'ores', 'ours', 'over', 'owes', 'pace', 'pack', 'pact', 'page', 'paid', 'pain', 'pall', 'part', 'pass', 'past', 'path', 'pave', 'pays', 'pick', 'pile', 'pits', 'pity', 'plan', 'play', 'poet', 'pool', 'poor', 'pope', 'pork', 'post', 'pray', 'pres', 'prey', 'prop', 'pure', 'push', 'puts', 'race', 'rage', 'rail', 'rang', 'rank', 'rare', 'rash', 'rate', 'rays', 'read', 'real', 'reap', 'rear', 'rely', 'rend', 'rest', 'rice', 'rich', 'rico', 'ride', 'rise', 'risk', 'road', 'robe', 'robs', 'rock', 'rode', 'role', 'roll', 'rome', 'room', 'root', 'rose', 'rude', 'ruin', 'rule', 'runs', 'rush', 'safe', 'sahn', 'said', 'sake', 'sale', 'same', 'sane', 'saps', 'save', 'says', 'scan', 'scar', 'seal', 'seas', 'seat', 'sect', 'seed', 'seek', 'seem', 'seen', 'sees', 'self', 'sell', 'send', 'sets', 'shed', 'ship', 'shop', 'show', 'shut', 'sick', 'side', 'sign', 'silk', 'sing', 'sink', 'size', 'skin', 'slow', 'snow', 'soil', 'sole', 'some', 'song', 'sons', 'soon', 'sore', 'sort', 'soul', 'span', 'spin', 'spot', 'spun', 'star', 'stay', 'step', 'stir', 'stop', 'such', 'suit', 'sums', 'sung', 'sunk', 'suns', 'sure', 'sway', 'take', 'talk', 'task', 'tear', 'teem', 'tell', 'tend', 'tens', 'term', 'test', 'text', 'than', 'that', 'thee', 'them', 'then', 'they', 'this', 'thou', 'thus', 'tide', 'ties', 'till', 'time', 'tiny', 'tire', 'toil', 'told', 'tomb', 'tone', 'took', 'tool', 'torn', 'town', 'tree', 'trim', 'true', 'turn', 'type', 'ugly', 'undo', 'unto', 'upon', 'urge', 'used', 'uses', 'vain', 'vary', 'vast', 'veil', 'very', 'veto', 'vice', 'view', 'void', 'vote', 'vows', 'wage', 'wait', 'walk', 'wall', 'wane', 'want', 'warm', 'wars', 'wave', 'ways', 'wayâ', 'weak', 'weal', 'weed', 'week', 'weld', 'well', 'went', 'were', 'west', 'what', 'when', 'whip', 'whom', 'wide', 'wife', 'wild', 'will', 'wily', 'wind', 'wipe', 'wise', 'wish', 'with', 'wood', 'word', 'work', 'worm', 'worn', 'writ', 'xand', 'xthe', 'year', 'york', 'your', 'youâ', 'zeal', 'zone']\n"
     ]
    }
   ],
   "source": [
    "# Quiz 02_4\n",
    "word_token = list(book.text4) # 1. text4의 단어 토큰화\n",
    "final_list = []\n",
    "for word in word_token :\n",
    "    if len(word) == 4 and word.isalpha() : # 2. text4 토큰 중 문자수 4인 단어만 소문자로 변환하여 (중복 제거 목적) final_list에 담기\n",
    "        final_list.append(word.lower())\n",
    "final_list = sorted(set(final_list)) # 3. set > 중복 제거, sorted > 소문자 처리된 단어를 오름차순으로 정렬\n",
    "print(final_list)"
   ]
  },
  {
   "cell_type": "code",
   "execution_count": 51,
   "id": "ecef8abe",
   "metadata": {},
   "outputs": [
    {
     "name": "stdout",
     "output_type": "stream",
     "text": [
      "text7에서 가장 긴 단어 글자수: 24\n"
     ]
    }
   ],
   "source": [
    "# Quiz 02_5\n",
    "word_token = book.text7 # 1. text7의 단어 토큰화\n",
    "long_word = [len(word) for word in word_token] # 2. 리스트 컴프리헨션으로 각 단어의 글자수 담은 리스트 생성\n",
    "print(\"text7에서 가장 긴 단어 글자수:\",max(long_word)) # 3. 최댓값을 찾는 함수 max 통해 최대 글자수 찾기"
   ]
  },
  {
   "cell_type": "code",
   "execution_count": 54,
   "id": "5d64b94f",
   "metadata": {},
   "outputs": [
    {
     "name": "stdout",
     "output_type": "stream",
     "text": [
      "24\n"
     ]
    }
   ],
   "source": [
    "# (+) max 함수 없이 구하는 법\n",
    "wordlist = book.text7\n",
    "wordlist = list(wordlist)\n",
    "max_len = 0\n",
    "max_word = \"\"\n",
    "\n",
    "for word in wordlist :\n",
    "    if max_len < len(word) :\n",
    "        max_len = len(word)\n",
    "        max_word = word\n",
    "\n",
    "print(max_len)"
   ]
  },
  {
   "cell_type": "code",
   "execution_count": 66,
   "id": "93d0dd3a",
   "metadata": {},
   "outputs": [
    {
     "name": "stdout",
     "output_type": "stream",
     "text": [
      "과목명: 고급 파이썬 프로그래밍\\Advanced Python programming\n",
      "     \"이 수업은 금요일에 진행됩니다.\" \n",
      "\n",
      "수업은 실시간 강의로 진행됩니다.\n",
      "    -질의사항은 조교에게 메일로 보내주세요\n"
     ]
    }
   ],
   "source": [
    "# Quiz 02_6\n",
    "print(\"\"\"과목명: 고급 파이썬 프로그래밍\\Advanced Python programming\n",
    "     \\\"이 수업은 금요일에 진행됩니다.\\\" \\n\n",
    "수업은 실시간 강의로 진행됩니다.\n",
    "    -질의사항은 조교에게 메일로 보내주세요\"\"\")\n",
    "# 여러 줄의 글을 print 한 번으로 출력 > 큰따옴표 3개 (\"\"\") 활용\n",
    "# 큰따옴표를 출력하기 위해 앞에 \\ 사용"
   ]
  }
 ],
 "metadata": {
  "kernelspec": {
   "display_name": "Python 3 (ipykernel)",
   "language": "python",
   "name": "python3"
  },
  "language_info": {
   "codemirror_mode": {
    "name": "ipython",
    "version": 3
   },
   "file_extension": ".py",
   "mimetype": "text/x-python",
   "name": "python",
   "nbconvert_exporter": "python",
   "pygments_lexer": "ipython3",
   "version": "3.9.7"
  }
 },
 "nbformat": 4,
 "nbformat_minor": 5
}
