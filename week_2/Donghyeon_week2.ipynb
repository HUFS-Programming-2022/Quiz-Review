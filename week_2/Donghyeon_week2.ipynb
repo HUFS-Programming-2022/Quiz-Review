{
  "nbformat": 4,
  "nbformat_minor": 0,
  "metadata": {
    "colab": {
      "name": "Donghyeon_week2.ipynb",
      "provenance": []
    },
    "kernelspec": {
      "name": "python3",
      "display_name": "Python 3"
    },
    "language_info": {
      "name": "python"
    }
  },
  "cells": [
    {
      "cell_type": "markdown",
      "source": [
        "###Week02 review\n"
      ],
      "metadata": {
        "id": "66_plWx5DFMV"
      }
    },
    {
      "cell_type": "code",
      "source": [
        "import nltk\n",
        "nltk.download('book', quiet=True)"
      ],
      "metadata": {
        "colab": {
          "base_uri": "https://localhost:8080/"
        },
        "id": "Q_g5YwSaDE31",
        "outputId": "6088ac69-feda-4a31-bd51-13f7736ff63f"
      },
      "execution_count": 3,
      "outputs": [
        {
          "output_type": "execute_result",
          "data": {
            "text/plain": [
              "True"
            ]
          },
          "metadata": {},
          "execution_count": 3
        }
      ]
    },
    {
      "cell_type": "code",
      "source": [
        "from nltk import book"
      ],
      "metadata": {
        "colab": {
          "base_uri": "https://localhost:8080/"
        },
        "id": "s0aQnuT7DVav",
        "outputId": "7d7e5e3f-ca32-474f-954f-e069e0052842"
      },
      "execution_count": 4,
      "outputs": [
        {
          "output_type": "stream",
          "name": "stdout",
          "text": [
            "*** Introductory Examples for the NLTK Book ***\n",
            "Loading text1, ..., text9 and sent1, ..., sent9\n",
            "Type the name of the text or sentence to view it.\n",
            "Type: 'texts()' or 'sents()' to list the materials.\n",
            "text1: Moby Dick by Herman Melville 1851\n",
            "text2: Sense and Sensibility by Jane Austen 1811\n",
            "text3: The Book of Genesis\n",
            "text4: Inaugural Address Corpus\n",
            "text5: Chat Corpus\n",
            "text6: Monty Python and the Holy Grail\n",
            "text7: Wall Street Journal\n",
            "text8: Personals Corpus\n",
            "text9: The Man Who Was Thursday by G . K . Chesterton 1908\n"
          ]
        }
      ]
    },
    {
      "cell_type": "markdown",
      "source": [
        "####1."
      ],
      "metadata": {
        "id": "9c1NZIHxI4hV"
      }
    },
    {
      "cell_type": "code",
      "source": [
        "from nltk import FreqDist"
      ],
      "metadata": {
        "id": "WS2qFLmDHJs2"
      },
      "execution_count": 22,
      "outputs": []
    },
    {
      "cell_type": "code",
      "source": [
        "text5 = book.text5"
      ],
      "metadata": {
        "id": "XxZ_xZsSGowi"
      },
      "execution_count": 30,
      "outputs": []
    },
    {
      "cell_type": "code",
      "source": [
        "sorted(set([word for (word, count) in FreqDist(text5).items() if count == 4]))"
      ],
      "metadata": {
        "id": "U0u3sjnFGuiQ"
      },
      "execution_count": null,
      "outputs": []
    },
    {
      "cell_type": "markdown",
      "source": [
        "####4."
      ],
      "metadata": {
        "id": "pH_2janZI1Hp"
      }
    },
    {
      "cell_type": "code",
      "source": [
        "text4 = book.text4"
      ],
      "metadata": {
        "id": "kUqMrrnwDkR3"
      },
      "execution_count": 5,
      "outputs": []
    },
    {
      "cell_type": "code",
      "source": [
        "[word for word in text4 if len(word) == 4] # 중복 포함"
      ],
      "metadata": {
        "id": "gxYRnC7bDkPZ"
      },
      "execution_count": null,
      "outputs": []
    },
    {
      "cell_type": "code",
      "source": [
        "set([word for word in text4 if len(word) == 4]) #중복 제외"
      ],
      "metadata": {
        "id": "y8rcaY17EgE3"
      },
      "execution_count": null,
      "outputs": []
    },
    {
      "cell_type": "markdown",
      "source": [
        "####5."
      ],
      "metadata": {
        "id": "McQzQaIOLUU1"
      }
    },
    {
      "cell_type": "code",
      "source": [
        "text7 = book.text7"
      ],
      "metadata": {
        "id": "rQFj3UmgFZDi"
      },
      "execution_count": 49,
      "outputs": []
    },
    {
      "cell_type": "code",
      "source": [
        "length = [len(word) for word in text7.tokens]"
      ],
      "metadata": {
        "id": "3QcqHeFyKlCb"
      },
      "execution_count": 54,
      "outputs": []
    },
    {
      "cell_type": "code",
      "source": [
        "max(length)"
      ],
      "metadata": {
        "colab": {
          "base_uri": "https://localhost:8080/"
        },
        "id": "smz1obZiLdrD",
        "outputId": "d6330116-9e08-47f7-ab1f-8e71faa41622"
      },
      "execution_count": 57,
      "outputs": [
        {
          "output_type": "execute_result",
          "data": {
            "text/plain": [
              "24"
            ]
          },
          "metadata": {},
          "execution_count": 57
        }
      ]
    },
    {
      "cell_type": "code",
      "source": [
        ""
      ],
      "metadata": {
        "id": "bj4dGTjQLry6"
      },
      "execution_count": null,
      "outputs": []
    }
  ]
}