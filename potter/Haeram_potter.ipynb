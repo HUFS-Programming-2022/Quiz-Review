{
 "cells": [
  {
   "cell_type": "code",
   "execution_count": 3,
   "id": "6948bb04",
   "metadata": {},
   "outputs": [],
   "source": [
    "# nltk 임포트 하기\n",
    "import nltk"
   ]
  },
  {
   "cell_type": "code",
   "execution_count": null,
   "id": "907da383",
   "metadata": {},
   "outputs": [],
   "source": [
    "# 컴퓨터에 내장된 해리포터 텍스트 불러오기\n",
    "file = open('HarryPotter.txt', 'r', encoding='UTF-8')\n",
    "text = file.read()"
   ]
  },
  {
   "cell_type": "code",
   "execution_count": null,
   "id": "3d203368",
   "metadata": {},
   "outputs": [],
   "source": [
    "# 문장 분절, 예외 사항 미리 처리\n",
    "text = ' '.join([word.replace('...','').replace('Mr.', 'Mr').replace('Mrs.', 'Mrs') \n",
    "        for word in data.split(' ')])\n",
    "text = text.replace('!','.').replace('?', '.')  #문장부호\n",
    "text=[word.split(' ') for word in text.split('. ')]\n",
    "\n",
    "text = [[word for word in sent] for sent in text]\n",
    "text"
   ]
  },
  {
   "cell_type": "code",
   "execution_count": null,
   "id": "81d28e08",
   "metadata": {},
   "outputs": [],
   "source": []
  }
 ],
 "metadata": {
  "kernelspec": {
   "display_name": "Python 3",
   "language": "python",
   "name": "python3"
  },
  "language_info": {
   "codemirror_mode": {
    "name": "ipython",
    "version": 3
   },
   "file_extension": ".py",
   "mimetype": "text/x-python",
   "name": "python",
   "nbconvert_exporter": "python",
   "pygments_lexer": "ipython3",
   "version": "3.8.8"
  }
 },
 "nbformat": 4,
 "nbformat_minor": 5
}
